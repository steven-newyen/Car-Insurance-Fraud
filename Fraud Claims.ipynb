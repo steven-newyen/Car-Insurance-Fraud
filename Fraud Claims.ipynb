{
 "cells": [
  {
   "cell_type": "code",
   "execution_count": 60,
   "metadata": {},
   "outputs": [],
   "source": [
    "import numpy as np\n",
    "import pandas as pd\n",
    "import matplotlib.pyplot as plt\n",
    "%matplotlib inline\n",
    "import seaborn as sns\n",
    "import pylab as pl\n",
    "from sklearn.metrics import roc_curve, auc\n",
    "from sklearn.ensemble import RandomForestClassifier, GradientBoostingClassifier\n",
    "from sklearn.neighbors import KNeighborsClassifier \n",
    "from sklearn.preprocessing import StandardScaler\n",
    "from sklearn.pipeline import make_pipeline\n",
    "from sklearn.linear_model import LogisticRegression\n",
    "from sklearn.metrics import (accuracy_score, log_loss, classification_report)\n",
    "from imblearn.over_sampling import SMOTE\n",
    "from imblearn.metrics import classification_report_imbalanced\n",
    "import xgboost\n",
    "import warnings\n",
    "warnings.filterwarnings('ignore')"
   ]
  },
  {
   "cell_type": "code",
   "execution_count": 1,
   "metadata": {},
   "outputs": [
    {
     "data": {
      "text/html": [
       "        <script type=\"text/javascript\">\n",
       "        window.PlotlyConfig = {MathJaxConfig: 'local'};\n",
       "        if (window.MathJax) {MathJax.Hub.Config({SVG: {font: \"STIX-Web\"}});}\n",
       "        if (typeof require !== 'undefined') {\n",
       "        require.undef(\"plotly\");\n",
       "        requirejs.config({\n",
       "            paths: {\n",
       "                'plotly': ['https://cdn.plot.ly/plotly-latest.min']\n",
       "            }\n",
       "        });\n",
       "        require(['plotly'], function(Plotly) {\n",
       "            window._Plotly = Plotly;\n",
       "        });\n",
       "        }\n",
       "        </script>\n",
       "        "
      ]
     },
     "metadata": {},
     "output_type": "display_data"
    }
   ],
   "source": [
    "import warnings\n",
    "warnings.filterwarnings('ignore')\n",
    "\n",
    "# for some basic operations\n",
    "import numpy as np \n",
    "import pandas as pd \n",
    "import joypy\n",
    "\n",
    "# for visualizations\n",
    "import matplotlib.pyplot as plt\n",
    "import seaborn as sns\n",
    "from pandas import plotting\n",
    "from pandas.plotting import parallel_coordinates\n",
    "\n",
    "# for interactive visualizations\n",
    "import plotly\n",
    "import plotly.offline as py\n",
    "from plotly.offline import init_notebook_mode, iplot\n",
    "import plotly.graph_objs as go\n",
    "from plotly import tools\n",
    "init_notebook_mode(connected = True)\n",
    "import plotly.figure_factory as ff\n",
    "\n",
    "# for animated visualizations\n",
    "from bubbly.bubbly import bubbleplot\n",
    "import plotly_express as px\n",
    "\n",
    "# for providing path\n",
    "import os\n",
    "\n",
    "# for modelling\n",
    "import sklearn\n",
    "import imblearn\n",
    "\n",
    "# for model explanation\n",
    "import shap \n",
    "import eli5"
   ]
  },
  {
   "cell_type": "code",
   "execution_count": 2,
   "metadata": {},
   "outputs": [],
   "source": [
    "data = pd.read_csv('insurance_claims.csv')"
   ]
  },
  {
   "cell_type": "code",
   "execution_count": 3,
   "metadata": {},
   "outputs": [
    {
     "data": {
      "text/html": [
       "<div>\n",
       "<style scoped>\n",
       "    .dataframe tbody tr th:only-of-type {\n",
       "        vertical-align: middle;\n",
       "    }\n",
       "\n",
       "    .dataframe tbody tr th {\n",
       "        vertical-align: top;\n",
       "    }\n",
       "\n",
       "    .dataframe thead th {\n",
       "        text-align: right;\n",
       "    }\n",
       "</style>\n",
       "<table border=\"1\" class=\"dataframe\">\n",
       "  <thead>\n",
       "    <tr style=\"text-align: right;\">\n",
       "      <th></th>\n",
       "      <th>months_as_customer</th>\n",
       "      <th>age</th>\n",
       "      <th>policy_number</th>\n",
       "      <th>policy_bind_date</th>\n",
       "      <th>policy_state</th>\n",
       "      <th>policy_csl</th>\n",
       "      <th>policy_deductable</th>\n",
       "      <th>policy_annual_premium</th>\n",
       "      <th>umbrella_limit</th>\n",
       "      <th>insured_zip</th>\n",
       "      <th>...</th>\n",
       "      <th>witnesses</th>\n",
       "      <th>police_report_available</th>\n",
       "      <th>total_claim_amount</th>\n",
       "      <th>injury_claim</th>\n",
       "      <th>property_claim</th>\n",
       "      <th>vehicle_claim</th>\n",
       "      <th>auto_make</th>\n",
       "      <th>auto_model</th>\n",
       "      <th>auto_year</th>\n",
       "      <th>fraud_reported</th>\n",
       "    </tr>\n",
       "  </thead>\n",
       "  <tbody>\n",
       "    <tr>\n",
       "      <th>0</th>\n",
       "      <td>328</td>\n",
       "      <td>48</td>\n",
       "      <td>521585</td>\n",
       "      <td>17-10-2014</td>\n",
       "      <td>OH</td>\n",
       "      <td>250/500</td>\n",
       "      <td>1000</td>\n",
       "      <td>1406.91</td>\n",
       "      <td>0</td>\n",
       "      <td>466132</td>\n",
       "      <td>...</td>\n",
       "      <td>2</td>\n",
       "      <td>YES</td>\n",
       "      <td>71610</td>\n",
       "      <td>6510</td>\n",
       "      <td>13020</td>\n",
       "      <td>52080</td>\n",
       "      <td>Saab</td>\n",
       "      <td>92x</td>\n",
       "      <td>2004</td>\n",
       "      <td>Y</td>\n",
       "    </tr>\n",
       "    <tr>\n",
       "      <th>1</th>\n",
       "      <td>228</td>\n",
       "      <td>42</td>\n",
       "      <td>342868</td>\n",
       "      <td>27-06-2006</td>\n",
       "      <td>IN</td>\n",
       "      <td>250/500</td>\n",
       "      <td>2000</td>\n",
       "      <td>1197.22</td>\n",
       "      <td>5000000</td>\n",
       "      <td>468176</td>\n",
       "      <td>...</td>\n",
       "      <td>0</td>\n",
       "      <td>?</td>\n",
       "      <td>5070</td>\n",
       "      <td>780</td>\n",
       "      <td>780</td>\n",
       "      <td>3510</td>\n",
       "      <td>Mercedes</td>\n",
       "      <td>E400</td>\n",
       "      <td>2007</td>\n",
       "      <td>Y</td>\n",
       "    </tr>\n",
       "    <tr>\n",
       "      <th>2</th>\n",
       "      <td>134</td>\n",
       "      <td>29</td>\n",
       "      <td>687698</td>\n",
       "      <td>06-09-2000</td>\n",
       "      <td>OH</td>\n",
       "      <td>100/300</td>\n",
       "      <td>2000</td>\n",
       "      <td>1413.14</td>\n",
       "      <td>5000000</td>\n",
       "      <td>430632</td>\n",
       "      <td>...</td>\n",
       "      <td>3</td>\n",
       "      <td>NO</td>\n",
       "      <td>34650</td>\n",
       "      <td>7700</td>\n",
       "      <td>3850</td>\n",
       "      <td>23100</td>\n",
       "      <td>Dodge</td>\n",
       "      <td>RAM</td>\n",
       "      <td>2007</td>\n",
       "      <td>N</td>\n",
       "    </tr>\n",
       "    <tr>\n",
       "      <th>3</th>\n",
       "      <td>256</td>\n",
       "      <td>41</td>\n",
       "      <td>227811</td>\n",
       "      <td>25-05-1990</td>\n",
       "      <td>IL</td>\n",
       "      <td>250/500</td>\n",
       "      <td>2000</td>\n",
       "      <td>1415.74</td>\n",
       "      <td>6000000</td>\n",
       "      <td>608117</td>\n",
       "      <td>...</td>\n",
       "      <td>2</td>\n",
       "      <td>NO</td>\n",
       "      <td>63400</td>\n",
       "      <td>6340</td>\n",
       "      <td>6340</td>\n",
       "      <td>50720</td>\n",
       "      <td>Chevrolet</td>\n",
       "      <td>Tahoe</td>\n",
       "      <td>2014</td>\n",
       "      <td>Y</td>\n",
       "    </tr>\n",
       "    <tr>\n",
       "      <th>4</th>\n",
       "      <td>228</td>\n",
       "      <td>44</td>\n",
       "      <td>367455</td>\n",
       "      <td>06-06-2014</td>\n",
       "      <td>IL</td>\n",
       "      <td>500/1000</td>\n",
       "      <td>1000</td>\n",
       "      <td>1583.91</td>\n",
       "      <td>6000000</td>\n",
       "      <td>610706</td>\n",
       "      <td>...</td>\n",
       "      <td>1</td>\n",
       "      <td>NO</td>\n",
       "      <td>6500</td>\n",
       "      <td>1300</td>\n",
       "      <td>650</td>\n",
       "      <td>4550</td>\n",
       "      <td>Accura</td>\n",
       "      <td>RSX</td>\n",
       "      <td>2009</td>\n",
       "      <td>N</td>\n",
       "    </tr>\n",
       "  </tbody>\n",
       "</table>\n",
       "<p>5 rows × 39 columns</p>\n",
       "</div>"
      ],
      "text/plain": [
       "   months_as_customer  age  policy_number policy_bind_date policy_state  \\\n",
       "0                 328   48         521585       17-10-2014           OH   \n",
       "1                 228   42         342868       27-06-2006           IN   \n",
       "2                 134   29         687698       06-09-2000           OH   \n",
       "3                 256   41         227811       25-05-1990           IL   \n",
       "4                 228   44         367455       06-06-2014           IL   \n",
       "\n",
       "  policy_csl  policy_deductable  policy_annual_premium  umbrella_limit  \\\n",
       "0    250/500               1000                1406.91               0   \n",
       "1    250/500               2000                1197.22         5000000   \n",
       "2    100/300               2000                1413.14         5000000   \n",
       "3    250/500               2000                1415.74         6000000   \n",
       "4   500/1000               1000                1583.91         6000000   \n",
       "\n",
       "   insured_zip  ... witnesses police_report_available total_claim_amount  \\\n",
       "0       466132  ...         2                     YES              71610   \n",
       "1       468176  ...         0                       ?               5070   \n",
       "2       430632  ...         3                      NO              34650   \n",
       "3       608117  ...         2                      NO              63400   \n",
       "4       610706  ...         1                      NO               6500   \n",
       "\n",
       "  injury_claim property_claim  vehicle_claim  auto_make auto_model auto_year  \\\n",
       "0         6510          13020          52080       Saab        92x      2004   \n",
       "1          780            780           3510   Mercedes       E400      2007   \n",
       "2         7700           3850          23100      Dodge        RAM      2007   \n",
       "3         6340           6340          50720  Chevrolet      Tahoe      2014   \n",
       "4         1300            650           4550     Accura        RSX      2009   \n",
       "\n",
       "  fraud_reported  \n",
       "0              Y  \n",
       "1              Y  \n",
       "2              N  \n",
       "3              Y  \n",
       "4              N  \n",
       "\n",
       "[5 rows x 39 columns]"
      ]
     },
     "execution_count": 3,
     "metadata": {},
     "output_type": "execute_result"
    }
   ],
   "source": [
    "data.head()"
   ]
  },
  {
   "cell_type": "code",
   "execution_count": 4,
   "metadata": {},
   "outputs": [
    {
     "data": {
      "text/plain": [
       "(1000, 39)"
      ]
     },
     "execution_count": 4,
     "metadata": {},
     "output_type": "execute_result"
    }
   ],
   "source": [
    "data.shape"
   ]
  },
  {
   "cell_type": "code",
   "execution_count": 5,
   "metadata": {},
   "outputs": [
    {
     "name": "stdout",
     "output_type": "stream",
     "text": [
      "<class 'pandas.core.frame.DataFrame'>\n",
      "RangeIndex: 1000 entries, 0 to 999\n",
      "Data columns (total 39 columns):\n",
      " #   Column                       Non-Null Count  Dtype  \n",
      "---  ------                       --------------  -----  \n",
      " 0   months_as_customer           1000 non-null   int64  \n",
      " 1   age                          1000 non-null   int64  \n",
      " 2   policy_number                1000 non-null   int64  \n",
      " 3   policy_bind_date             1000 non-null   object \n",
      " 4   policy_state                 1000 non-null   object \n",
      " 5   policy_csl                   1000 non-null   object \n",
      " 6   policy_deductable            1000 non-null   int64  \n",
      " 7   policy_annual_premium        1000 non-null   float64\n",
      " 8   umbrella_limit               1000 non-null   int64  \n",
      " 9   insured_zip                  1000 non-null   int64  \n",
      " 10  insured_sex                  1000 non-null   object \n",
      " 11  insured_education_level      1000 non-null   object \n",
      " 12  insured_occupation           1000 non-null   object \n",
      " 13  insured_hobbies              1000 non-null   object \n",
      " 14  insured_relationship         1000 non-null   object \n",
      " 15  capital-gains                1000 non-null   int64  \n",
      " 16  capital-loss                 1000 non-null   int64  \n",
      " 17  incident_date                1000 non-null   object \n",
      " 18  incident_type                1000 non-null   object \n",
      " 19  collision_type               1000 non-null   object \n",
      " 20  incident_severity            1000 non-null   object \n",
      " 21  authorities_contacted        1000 non-null   object \n",
      " 22  incident_state               1000 non-null   object \n",
      " 23  incident_city                1000 non-null   object \n",
      " 24  incident_location            1000 non-null   object \n",
      " 25  incident_hour_of_the_day     1000 non-null   int64  \n",
      " 26  number_of_vehicles_involved  1000 non-null   int64  \n",
      " 27  property_damage              1000 non-null   object \n",
      " 28  bodily_injuries              1000 non-null   int64  \n",
      " 29  witnesses                    1000 non-null   int64  \n",
      " 30  police_report_available      1000 non-null   object \n",
      " 31  total_claim_amount           1000 non-null   int64  \n",
      " 32  injury_claim                 1000 non-null   int64  \n",
      " 33  property_claim               1000 non-null   int64  \n",
      " 34  vehicle_claim                1000 non-null   int64  \n",
      " 35  auto_make                    1000 non-null   object \n",
      " 36  auto_model                   1000 non-null   object \n",
      " 37  auto_year                    1000 non-null   int64  \n",
      " 38  fraud_reported               1000 non-null   object \n",
      "dtypes: float64(1), int64(17), object(21)\n",
      "memory usage: 304.8+ KB\n"
     ]
    }
   ],
   "source": [
    "data.info()"
   ]
  },
  {
   "cell_type": "code",
   "execution_count": 6,
   "metadata": {},
   "outputs": [
    {
     "data": {
      "text/html": [
       "<div>\n",
       "<style scoped>\n",
       "    .dataframe tbody tr th:only-of-type {\n",
       "        vertical-align: middle;\n",
       "    }\n",
       "\n",
       "    .dataframe tbody tr th {\n",
       "        vertical-align: top;\n",
       "    }\n",
       "\n",
       "    .dataframe thead th {\n",
       "        text-align: right;\n",
       "    }\n",
       "</style>\n",
       "<table border=\"1\" class=\"dataframe\">\n",
       "  <thead>\n",
       "    <tr style=\"text-align: right;\">\n",
       "      <th></th>\n",
       "      <th>months_as_customer</th>\n",
       "      <th>age</th>\n",
       "      <th>policy_number</th>\n",
       "      <th>policy_deductable</th>\n",
       "      <th>policy_annual_premium</th>\n",
       "      <th>umbrella_limit</th>\n",
       "      <th>insured_zip</th>\n",
       "      <th>capital-gains</th>\n",
       "      <th>capital-loss</th>\n",
       "      <th>incident_hour_of_the_day</th>\n",
       "      <th>number_of_vehicles_involved</th>\n",
       "      <th>bodily_injuries</th>\n",
       "      <th>witnesses</th>\n",
       "      <th>total_claim_amount</th>\n",
       "      <th>injury_claim</th>\n",
       "      <th>property_claim</th>\n",
       "      <th>vehicle_claim</th>\n",
       "      <th>auto_year</th>\n",
       "    </tr>\n",
       "  </thead>\n",
       "  <tbody>\n",
       "    <tr>\n",
       "      <th>months_as_customer</th>\n",
       "      <td>1.000000</td>\n",
       "      <td>0.922098</td>\n",
       "      <td>0.057555</td>\n",
       "      <td>0.026807</td>\n",
       "      <td>0.005018</td>\n",
       "      <td>0.015498</td>\n",
       "      <td>0.017895</td>\n",
       "      <td>0.006399</td>\n",
       "      <td>0.020209</td>\n",
       "      <td>0.070639</td>\n",
       "      <td>0.014736</td>\n",
       "      <td>-0.010162</td>\n",
       "      <td>0.058383</td>\n",
       "      <td>0.062108</td>\n",
       "      <td>0.065329</td>\n",
       "      <td>0.034940</td>\n",
       "      <td>0.061013</td>\n",
       "      <td>-0.000292</td>\n",
       "    </tr>\n",
       "    <tr>\n",
       "      <th>age</th>\n",
       "      <td>0.922098</td>\n",
       "      <td>1.000000</td>\n",
       "      <td>0.059413</td>\n",
       "      <td>0.029188</td>\n",
       "      <td>0.014404</td>\n",
       "      <td>0.018126</td>\n",
       "      <td>0.025604</td>\n",
       "      <td>-0.007075</td>\n",
       "      <td>0.007368</td>\n",
       "      <td>0.087161</td>\n",
       "      <td>0.022102</td>\n",
       "      <td>-0.015679</td>\n",
       "      <td>0.052359</td>\n",
       "      <td>0.069863</td>\n",
       "      <td>0.075522</td>\n",
       "      <td>0.060898</td>\n",
       "      <td>0.062588</td>\n",
       "      <td>0.001354</td>\n",
       "    </tr>\n",
       "    <tr>\n",
       "      <th>policy_number</th>\n",
       "      <td>0.057555</td>\n",
       "      <td>0.059413</td>\n",
       "      <td>1.000000</td>\n",
       "      <td>-0.006738</td>\n",
       "      <td>0.022566</td>\n",
       "      <td>0.008968</td>\n",
       "      <td>0.007083</td>\n",
       "      <td>0.009802</td>\n",
       "      <td>-0.005669</td>\n",
       "      <td>0.000113</td>\n",
       "      <td>0.013432</td>\n",
       "      <td>-0.004558</td>\n",
       "      <td>-0.012661</td>\n",
       "      <td>-0.018009</td>\n",
       "      <td>-0.008762</td>\n",
       "      <td>-0.010678</td>\n",
       "      <td>-0.020184</td>\n",
       "      <td>-0.000183</td>\n",
       "    </tr>\n",
       "    <tr>\n",
       "      <th>policy_deductable</th>\n",
       "      <td>0.026807</td>\n",
       "      <td>0.029188</td>\n",
       "      <td>-0.006738</td>\n",
       "      <td>1.000000</td>\n",
       "      <td>-0.003245</td>\n",
       "      <td>0.010870</td>\n",
       "      <td>0.004545</td>\n",
       "      <td>0.035212</td>\n",
       "      <td>-0.023544</td>\n",
       "      <td>0.060935</td>\n",
       "      <td>0.051214</td>\n",
       "      <td>-0.022765</td>\n",
       "      <td>0.066639</td>\n",
       "      <td>0.022839</td>\n",
       "      <td>0.039107</td>\n",
       "      <td>0.064792</td>\n",
       "      <td>0.005269</td>\n",
       "      <td>0.026105</td>\n",
       "    </tr>\n",
       "    <tr>\n",
       "      <th>policy_annual_premium</th>\n",
       "      <td>0.005018</td>\n",
       "      <td>0.014404</td>\n",
       "      <td>0.022566</td>\n",
       "      <td>-0.003245</td>\n",
       "      <td>1.000000</td>\n",
       "      <td>-0.006247</td>\n",
       "      <td>0.032354</td>\n",
       "      <td>-0.013738</td>\n",
       "      <td>0.023547</td>\n",
       "      <td>-0.001578</td>\n",
       "      <td>-0.045991</td>\n",
       "      <td>0.026780</td>\n",
       "      <td>0.002332</td>\n",
       "      <td>0.009094</td>\n",
       "      <td>-0.017633</td>\n",
       "      <td>-0.011654</td>\n",
       "      <td>0.020246</td>\n",
       "      <td>-0.049226</td>\n",
       "    </tr>\n",
       "    <tr>\n",
       "      <th>umbrella_limit</th>\n",
       "      <td>0.015498</td>\n",
       "      <td>0.018126</td>\n",
       "      <td>0.008968</td>\n",
       "      <td>0.010870</td>\n",
       "      <td>-0.006247</td>\n",
       "      <td>1.000000</td>\n",
       "      <td>0.019671</td>\n",
       "      <td>-0.047268</td>\n",
       "      <td>-0.024056</td>\n",
       "      <td>-0.023257</td>\n",
       "      <td>-0.021270</td>\n",
       "      <td>0.022743</td>\n",
       "      <td>-0.006738</td>\n",
       "      <td>-0.040344</td>\n",
       "      <td>-0.045412</td>\n",
       "      <td>-0.023790</td>\n",
       "      <td>-0.038584</td>\n",
       "      <td>0.009893</td>\n",
       "    </tr>\n",
       "    <tr>\n",
       "      <th>insured_zip</th>\n",
       "      <td>0.017895</td>\n",
       "      <td>0.025604</td>\n",
       "      <td>0.007083</td>\n",
       "      <td>0.004545</td>\n",
       "      <td>0.032354</td>\n",
       "      <td>0.019671</td>\n",
       "      <td>1.000000</td>\n",
       "      <td>0.006303</td>\n",
       "      <td>0.049372</td>\n",
       "      <td>0.008274</td>\n",
       "      <td>0.027448</td>\n",
       "      <td>0.028695</td>\n",
       "      <td>0.019805</td>\n",
       "      <td>-0.033873</td>\n",
       "      <td>-0.017495</td>\n",
       "      <td>-0.006841</td>\n",
       "      <td>-0.041083</td>\n",
       "      <td>-0.032736</td>\n",
       "    </tr>\n",
       "    <tr>\n",
       "      <th>capital-gains</th>\n",
       "      <td>0.006399</td>\n",
       "      <td>-0.007075</td>\n",
       "      <td>0.009802</td>\n",
       "      <td>0.035212</td>\n",
       "      <td>-0.013738</td>\n",
       "      <td>-0.047268</td>\n",
       "      <td>0.006303</td>\n",
       "      <td>1.000000</td>\n",
       "      <td>-0.046904</td>\n",
       "      <td>-0.016406</td>\n",
       "      <td>0.061643</td>\n",
       "      <td>0.055829</td>\n",
       "      <td>-0.017651</td>\n",
       "      <td>0.015980</td>\n",
       "      <td>0.025934</td>\n",
       "      <td>-0.000779</td>\n",
       "      <td>0.015836</td>\n",
       "      <td>0.031398</td>\n",
       "    </tr>\n",
       "    <tr>\n",
       "      <th>capital-loss</th>\n",
       "      <td>0.020209</td>\n",
       "      <td>0.007368</td>\n",
       "      <td>-0.005669</td>\n",
       "      <td>-0.023544</td>\n",
       "      <td>0.023547</td>\n",
       "      <td>-0.024056</td>\n",
       "      <td>0.049372</td>\n",
       "      <td>-0.046904</td>\n",
       "      <td>1.000000</td>\n",
       "      <td>-0.025054</td>\n",
       "      <td>-0.014895</td>\n",
       "      <td>-0.024418</td>\n",
       "      <td>-0.041330</td>\n",
       "      <td>-0.036060</td>\n",
       "      <td>-0.046060</td>\n",
       "      <td>-0.022863</td>\n",
       "      <td>-0.032665</td>\n",
       "      <td>-0.056615</td>\n",
       "    </tr>\n",
       "    <tr>\n",
       "      <th>incident_hour_of_the_day</th>\n",
       "      <td>0.070639</td>\n",
       "      <td>0.087161</td>\n",
       "      <td>0.000113</td>\n",
       "      <td>0.060935</td>\n",
       "      <td>-0.001578</td>\n",
       "      <td>-0.023257</td>\n",
       "      <td>0.008274</td>\n",
       "      <td>-0.016406</td>\n",
       "      <td>-0.025054</td>\n",
       "      <td>1.000000</td>\n",
       "      <td>0.120794</td>\n",
       "      <td>-0.034563</td>\n",
       "      <td>0.006527</td>\n",
       "      <td>0.217702</td>\n",
       "      <td>0.165768</td>\n",
       "      <td>0.179536</td>\n",
       "      <td>0.215626</td>\n",
       "      <td>0.021368</td>\n",
       "    </tr>\n",
       "    <tr>\n",
       "      <th>number_of_vehicles_involved</th>\n",
       "      <td>0.014736</td>\n",
       "      <td>0.022102</td>\n",
       "      <td>0.013432</td>\n",
       "      <td>0.051214</td>\n",
       "      <td>-0.045991</td>\n",
       "      <td>-0.021270</td>\n",
       "      <td>0.027448</td>\n",
       "      <td>0.061643</td>\n",
       "      <td>-0.014895</td>\n",
       "      <td>0.120794</td>\n",
       "      <td>1.000000</td>\n",
       "      <td>0.014030</td>\n",
       "      <td>-0.014669</td>\n",
       "      <td>0.274278</td>\n",
       "      <td>0.224650</td>\n",
       "      <td>0.219084</td>\n",
       "      <td>0.269393</td>\n",
       "      <td>0.034554</td>\n",
       "    </tr>\n",
       "    <tr>\n",
       "      <th>bodily_injuries</th>\n",
       "      <td>-0.010162</td>\n",
       "      <td>-0.015679</td>\n",
       "      <td>-0.004558</td>\n",
       "      <td>-0.022765</td>\n",
       "      <td>0.026780</td>\n",
       "      <td>0.022743</td>\n",
       "      <td>0.028695</td>\n",
       "      <td>0.055829</td>\n",
       "      <td>-0.024418</td>\n",
       "      <td>-0.034563</td>\n",
       "      <td>0.014030</td>\n",
       "      <td>1.000000</td>\n",
       "      <td>-0.005606</td>\n",
       "      <td>0.047093</td>\n",
       "      <td>0.047319</td>\n",
       "      <td>0.039749</td>\n",
       "      <td>0.043449</td>\n",
       "      <td>-0.020527</td>\n",
       "    </tr>\n",
       "    <tr>\n",
       "      <th>witnesses</th>\n",
       "      <td>0.058383</td>\n",
       "      <td>0.052359</td>\n",
       "      <td>-0.012661</td>\n",
       "      <td>0.066639</td>\n",
       "      <td>0.002332</td>\n",
       "      <td>-0.006738</td>\n",
       "      <td>0.019805</td>\n",
       "      <td>-0.017651</td>\n",
       "      <td>-0.041330</td>\n",
       "      <td>0.006527</td>\n",
       "      <td>-0.014669</td>\n",
       "      <td>-0.005606</td>\n",
       "      <td>1.000000</td>\n",
       "      <td>-0.011114</td>\n",
       "      <td>-0.024843</td>\n",
       "      <td>0.052640</td>\n",
       "      <td>-0.022564</td>\n",
       "      <td>0.045791</td>\n",
       "    </tr>\n",
       "    <tr>\n",
       "      <th>total_claim_amount</th>\n",
       "      <td>0.062108</td>\n",
       "      <td>0.069863</td>\n",
       "      <td>-0.018009</td>\n",
       "      <td>0.022839</td>\n",
       "      <td>0.009094</td>\n",
       "      <td>-0.040344</td>\n",
       "      <td>-0.033873</td>\n",
       "      <td>0.015980</td>\n",
       "      <td>-0.036060</td>\n",
       "      <td>0.217702</td>\n",
       "      <td>0.274278</td>\n",
       "      <td>0.047093</td>\n",
       "      <td>-0.011114</td>\n",
       "      <td>1.000000</td>\n",
       "      <td>0.805025</td>\n",
       "      <td>0.810686</td>\n",
       "      <td>0.982773</td>\n",
       "      <td>-0.035781</td>\n",
       "    </tr>\n",
       "    <tr>\n",
       "      <th>injury_claim</th>\n",
       "      <td>0.065329</td>\n",
       "      <td>0.075522</td>\n",
       "      <td>-0.008762</td>\n",
       "      <td>0.039107</td>\n",
       "      <td>-0.017633</td>\n",
       "      <td>-0.045412</td>\n",
       "      <td>-0.017495</td>\n",
       "      <td>0.025934</td>\n",
       "      <td>-0.046060</td>\n",
       "      <td>0.165768</td>\n",
       "      <td>0.224650</td>\n",
       "      <td>0.047319</td>\n",
       "      <td>-0.024843</td>\n",
       "      <td>0.805025</td>\n",
       "      <td>1.000000</td>\n",
       "      <td>0.563866</td>\n",
       "      <td>0.722878</td>\n",
       "      <td>-0.013718</td>\n",
       "    </tr>\n",
       "    <tr>\n",
       "      <th>property_claim</th>\n",
       "      <td>0.034940</td>\n",
       "      <td>0.060898</td>\n",
       "      <td>-0.010678</td>\n",
       "      <td>0.064792</td>\n",
       "      <td>-0.011654</td>\n",
       "      <td>-0.023790</td>\n",
       "      <td>-0.006841</td>\n",
       "      <td>-0.000779</td>\n",
       "      <td>-0.022863</td>\n",
       "      <td>0.179536</td>\n",
       "      <td>0.219084</td>\n",
       "      <td>0.039749</td>\n",
       "      <td>0.052640</td>\n",
       "      <td>0.810686</td>\n",
       "      <td>0.563866</td>\n",
       "      <td>1.000000</td>\n",
       "      <td>0.732090</td>\n",
       "      <td>-0.014508</td>\n",
       "    </tr>\n",
       "    <tr>\n",
       "      <th>vehicle_claim</th>\n",
       "      <td>0.061013</td>\n",
       "      <td>0.062588</td>\n",
       "      <td>-0.020184</td>\n",
       "      <td>0.005269</td>\n",
       "      <td>0.020246</td>\n",
       "      <td>-0.038584</td>\n",
       "      <td>-0.041083</td>\n",
       "      <td>0.015836</td>\n",
       "      <td>-0.032665</td>\n",
       "      <td>0.215626</td>\n",
       "      <td>0.269393</td>\n",
       "      <td>0.043449</td>\n",
       "      <td>-0.022564</td>\n",
       "      <td>0.982773</td>\n",
       "      <td>0.722878</td>\n",
       "      <td>0.732090</td>\n",
       "      <td>1.000000</td>\n",
       "      <td>-0.042768</td>\n",
       "    </tr>\n",
       "    <tr>\n",
       "      <th>auto_year</th>\n",
       "      <td>-0.000292</td>\n",
       "      <td>0.001354</td>\n",
       "      <td>-0.000183</td>\n",
       "      <td>0.026105</td>\n",
       "      <td>-0.049226</td>\n",
       "      <td>0.009893</td>\n",
       "      <td>-0.032736</td>\n",
       "      <td>0.031398</td>\n",
       "      <td>-0.056615</td>\n",
       "      <td>0.021368</td>\n",
       "      <td>0.034554</td>\n",
       "      <td>-0.020527</td>\n",
       "      <td>0.045791</td>\n",
       "      <td>-0.035781</td>\n",
       "      <td>-0.013718</td>\n",
       "      <td>-0.014508</td>\n",
       "      <td>-0.042768</td>\n",
       "      <td>1.000000</td>\n",
       "    </tr>\n",
       "  </tbody>\n",
       "</table>\n",
       "</div>"
      ],
      "text/plain": [
       "                             months_as_customer       age  policy_number  \\\n",
       "months_as_customer                     1.000000  0.922098       0.057555   \n",
       "age                                    0.922098  1.000000       0.059413   \n",
       "policy_number                          0.057555  0.059413       1.000000   \n",
       "policy_deductable                      0.026807  0.029188      -0.006738   \n",
       "policy_annual_premium                  0.005018  0.014404       0.022566   \n",
       "umbrella_limit                         0.015498  0.018126       0.008968   \n",
       "insured_zip                            0.017895  0.025604       0.007083   \n",
       "capital-gains                          0.006399 -0.007075       0.009802   \n",
       "capital-loss                           0.020209  0.007368      -0.005669   \n",
       "incident_hour_of_the_day               0.070639  0.087161       0.000113   \n",
       "number_of_vehicles_involved            0.014736  0.022102       0.013432   \n",
       "bodily_injuries                       -0.010162 -0.015679      -0.004558   \n",
       "witnesses                              0.058383  0.052359      -0.012661   \n",
       "total_claim_amount                     0.062108  0.069863      -0.018009   \n",
       "injury_claim                           0.065329  0.075522      -0.008762   \n",
       "property_claim                         0.034940  0.060898      -0.010678   \n",
       "vehicle_claim                          0.061013  0.062588      -0.020184   \n",
       "auto_year                             -0.000292  0.001354      -0.000183   \n",
       "\n",
       "                             policy_deductable  policy_annual_premium  \\\n",
       "months_as_customer                    0.026807               0.005018   \n",
       "age                                   0.029188               0.014404   \n",
       "policy_number                        -0.006738               0.022566   \n",
       "policy_deductable                     1.000000              -0.003245   \n",
       "policy_annual_premium                -0.003245               1.000000   \n",
       "umbrella_limit                        0.010870              -0.006247   \n",
       "insured_zip                           0.004545               0.032354   \n",
       "capital-gains                         0.035212              -0.013738   \n",
       "capital-loss                         -0.023544               0.023547   \n",
       "incident_hour_of_the_day              0.060935              -0.001578   \n",
       "number_of_vehicles_involved           0.051214              -0.045991   \n",
       "bodily_injuries                      -0.022765               0.026780   \n",
       "witnesses                             0.066639               0.002332   \n",
       "total_claim_amount                    0.022839               0.009094   \n",
       "injury_claim                          0.039107              -0.017633   \n",
       "property_claim                        0.064792              -0.011654   \n",
       "vehicle_claim                         0.005269               0.020246   \n",
       "auto_year                             0.026105              -0.049226   \n",
       "\n",
       "                             umbrella_limit  insured_zip  capital-gains  \\\n",
       "months_as_customer                 0.015498     0.017895       0.006399   \n",
       "age                                0.018126     0.025604      -0.007075   \n",
       "policy_number                      0.008968     0.007083       0.009802   \n",
       "policy_deductable                  0.010870     0.004545       0.035212   \n",
       "policy_annual_premium             -0.006247     0.032354      -0.013738   \n",
       "umbrella_limit                     1.000000     0.019671      -0.047268   \n",
       "insured_zip                        0.019671     1.000000       0.006303   \n",
       "capital-gains                     -0.047268     0.006303       1.000000   \n",
       "capital-loss                      -0.024056     0.049372      -0.046904   \n",
       "incident_hour_of_the_day          -0.023257     0.008274      -0.016406   \n",
       "number_of_vehicles_involved       -0.021270     0.027448       0.061643   \n",
       "bodily_injuries                    0.022743     0.028695       0.055829   \n",
       "witnesses                         -0.006738     0.019805      -0.017651   \n",
       "total_claim_amount                -0.040344    -0.033873       0.015980   \n",
       "injury_claim                      -0.045412    -0.017495       0.025934   \n",
       "property_claim                    -0.023790    -0.006841      -0.000779   \n",
       "vehicle_claim                     -0.038584    -0.041083       0.015836   \n",
       "auto_year                          0.009893    -0.032736       0.031398   \n",
       "\n",
       "                             capital-loss  incident_hour_of_the_day  \\\n",
       "months_as_customer               0.020209                  0.070639   \n",
       "age                              0.007368                  0.087161   \n",
       "policy_number                   -0.005669                  0.000113   \n",
       "policy_deductable               -0.023544                  0.060935   \n",
       "policy_annual_premium            0.023547                 -0.001578   \n",
       "umbrella_limit                  -0.024056                 -0.023257   \n",
       "insured_zip                      0.049372                  0.008274   \n",
       "capital-gains                   -0.046904                 -0.016406   \n",
       "capital-loss                     1.000000                 -0.025054   \n",
       "incident_hour_of_the_day        -0.025054                  1.000000   \n",
       "number_of_vehicles_involved     -0.014895                  0.120794   \n",
       "bodily_injuries                 -0.024418                 -0.034563   \n",
       "witnesses                       -0.041330                  0.006527   \n",
       "total_claim_amount              -0.036060                  0.217702   \n",
       "injury_claim                    -0.046060                  0.165768   \n",
       "property_claim                  -0.022863                  0.179536   \n",
       "vehicle_claim                   -0.032665                  0.215626   \n",
       "auto_year                       -0.056615                  0.021368   \n",
       "\n",
       "                             number_of_vehicles_involved  bodily_injuries  \\\n",
       "months_as_customer                              0.014736        -0.010162   \n",
       "age                                             0.022102        -0.015679   \n",
       "policy_number                                   0.013432        -0.004558   \n",
       "policy_deductable                               0.051214        -0.022765   \n",
       "policy_annual_premium                          -0.045991         0.026780   \n",
       "umbrella_limit                                 -0.021270         0.022743   \n",
       "insured_zip                                     0.027448         0.028695   \n",
       "capital-gains                                   0.061643         0.055829   \n",
       "capital-loss                                   -0.014895        -0.024418   \n",
       "incident_hour_of_the_day                        0.120794        -0.034563   \n",
       "number_of_vehicles_involved                     1.000000         0.014030   \n",
       "bodily_injuries                                 0.014030         1.000000   \n",
       "witnesses                                      -0.014669        -0.005606   \n",
       "total_claim_amount                              0.274278         0.047093   \n",
       "injury_claim                                    0.224650         0.047319   \n",
       "property_claim                                  0.219084         0.039749   \n",
       "vehicle_claim                                   0.269393         0.043449   \n",
       "auto_year                                       0.034554        -0.020527   \n",
       "\n",
       "                             witnesses  total_claim_amount  injury_claim  \\\n",
       "months_as_customer            0.058383            0.062108      0.065329   \n",
       "age                           0.052359            0.069863      0.075522   \n",
       "policy_number                -0.012661           -0.018009     -0.008762   \n",
       "policy_deductable             0.066639            0.022839      0.039107   \n",
       "policy_annual_premium         0.002332            0.009094     -0.017633   \n",
       "umbrella_limit               -0.006738           -0.040344     -0.045412   \n",
       "insured_zip                   0.019805           -0.033873     -0.017495   \n",
       "capital-gains                -0.017651            0.015980      0.025934   \n",
       "capital-loss                 -0.041330           -0.036060     -0.046060   \n",
       "incident_hour_of_the_day      0.006527            0.217702      0.165768   \n",
       "number_of_vehicles_involved  -0.014669            0.274278      0.224650   \n",
       "bodily_injuries              -0.005606            0.047093      0.047319   \n",
       "witnesses                     1.000000           -0.011114     -0.024843   \n",
       "total_claim_amount           -0.011114            1.000000      0.805025   \n",
       "injury_claim                 -0.024843            0.805025      1.000000   \n",
       "property_claim                0.052640            0.810686      0.563866   \n",
       "vehicle_claim                -0.022564            0.982773      0.722878   \n",
       "auto_year                     0.045791           -0.035781     -0.013718   \n",
       "\n",
       "                             property_claim  vehicle_claim  auto_year  \n",
       "months_as_customer                 0.034940       0.061013  -0.000292  \n",
       "age                                0.060898       0.062588   0.001354  \n",
       "policy_number                     -0.010678      -0.020184  -0.000183  \n",
       "policy_deductable                  0.064792       0.005269   0.026105  \n",
       "policy_annual_premium             -0.011654       0.020246  -0.049226  \n",
       "umbrella_limit                    -0.023790      -0.038584   0.009893  \n",
       "insured_zip                       -0.006841      -0.041083  -0.032736  \n",
       "capital-gains                     -0.000779       0.015836   0.031398  \n",
       "capital-loss                      -0.022863      -0.032665  -0.056615  \n",
       "incident_hour_of_the_day           0.179536       0.215626   0.021368  \n",
       "number_of_vehicles_involved        0.219084       0.269393   0.034554  \n",
       "bodily_injuries                    0.039749       0.043449  -0.020527  \n",
       "witnesses                          0.052640      -0.022564   0.045791  \n",
       "total_claim_amount                 0.810686       0.982773  -0.035781  \n",
       "injury_claim                       0.563866       0.722878  -0.013718  \n",
       "property_claim                     1.000000       0.732090  -0.014508  \n",
       "vehicle_claim                      0.732090       1.000000  -0.042768  \n",
       "auto_year                         -0.014508      -0.042768   1.000000  "
      ]
     },
     "execution_count": 6,
     "metadata": {},
     "output_type": "execute_result"
    }
   ],
   "source": [
    "data.corr()"
   ]
  },
  {
   "cell_type": "code",
   "execution_count": 7,
   "metadata": {},
   "outputs": [
    {
     "data": {
      "text/plain": [
       "months_as_customer             False\n",
       "age                            False\n",
       "policy_number                  False\n",
       "policy_bind_date               False\n",
       "policy_state                   False\n",
       "policy_csl                     False\n",
       "policy_deductable              False\n",
       "policy_annual_premium          False\n",
       "umbrella_limit                 False\n",
       "insured_zip                    False\n",
       "insured_sex                    False\n",
       "insured_education_level        False\n",
       "insured_occupation             False\n",
       "insured_hobbies                False\n",
       "insured_relationship           False\n",
       "capital-gains                  False\n",
       "capital-loss                   False\n",
       "incident_date                  False\n",
       "incident_type                  False\n",
       "collision_type                  True\n",
       "incident_severity              False\n",
       "authorities_contacted          False\n",
       "incident_state                 False\n",
       "incident_city                  False\n",
       "incident_location              False\n",
       "incident_hour_of_the_day       False\n",
       "number_of_vehicles_involved    False\n",
       "property_damage                 True\n",
       "bodily_injuries                False\n",
       "witnesses                      False\n",
       "police_report_available         True\n",
       "total_claim_amount             False\n",
       "injury_claim                   False\n",
       "property_claim                 False\n",
       "vehicle_claim                  False\n",
       "auto_make                      False\n",
       "auto_model                     False\n",
       "auto_year                      False\n",
       "fraud_reported                 False\n",
       "dtype: bool"
      ]
     },
     "execution_count": 7,
     "metadata": {},
     "output_type": "execute_result"
    }
   ],
   "source": [
    "# let's check whether the data has any null values or not.\n",
    "\n",
    "# but there are '?' in the datset which we have to remove by NaN Values\n",
    "\n",
    "data = data.replace('?',np.NaN)\n",
    "\n",
    "data.isnull().any()"
   ]
  },
  {
   "cell_type": "code",
   "execution_count": 8,
   "metadata": {},
   "outputs": [
    {
     "data": {
      "text/plain": [
       "False"
      ]
     },
     "execution_count": 8,
     "metadata": {},
     "output_type": "execute_result"
    }
   ],
   "source": [
    "# we will replace the '?' by the most common collision type as we are unaware of the type.\n",
    "data['collision_type'].fillna(data['collision_type'].mode()[0], inplace = True)\n",
    "\n",
    "# It may be the case that there are no responses for property damage then we might take it as No property damage.\n",
    "data['property_damage'].fillna('NO', inplace = True)\n",
    "\n",
    "# again, if there are no responses fpr police report available then we might take it as No report available\n",
    "data['police_report_available'].fillna('NO', inplace = True)\n",
    "\n",
    "data.isnull().any().any()"
   ]
  },
  {
   "cell_type": "code",
   "execution_count": 9,
   "metadata": {},
   "outputs": [
    {
     "data": {
      "text/plain": [
       "<AxesSubplot:xlabel='fraud_reported', ylabel='count'>"
      ]
     },
     "execution_count": 9,
     "metadata": {},
     "output_type": "execute_result"
    },
    {
     "data": {
      "image/png": "[encoded data removed]",
      "text/plain": [
       "<Figure size 864x576 with 1 Axes>"
      ]
     },
     "metadata": {
      "needs_background": "light"
     },
     "output_type": "display_data"
    }
   ],
   "source": [
    "plt.figure(figsize=(12,8))\n",
    "sns.countplot(x='fraud_reported', data=data)"
   ]
  },
  {
   "cell_type": "code",
   "execution_count": 10,
   "metadata": {},
   "outputs": [
    {
     "data": {
      "image/png": "[encoded data removed]",
      "text/plain": [
       "<Figure size 432x288 with 1 Axes>"
      ]
     },
     "metadata": {
      "needs_background": "light"
     },
     "output_type": "display_data"
    }
   ],
   "source": [
    "sns.boxplot(y='age', x='fraud_reported', data=data)\n",
    "plt.show()"
   ]
  },
  {
   "cell_type": "code",
   "execution_count": 11,
   "metadata": {},
   "outputs": [
    {
     "data": {
      "text/plain": [
       "<AxesSubplot:xlabel='insured_sex', ylabel='count'>"
      ]
     },
     "execution_count": 11,
     "metadata": {},
     "output_type": "execute_result"
    },
    {
     "data": {
      "image/png": "[encoded data removed]",
      "text/plain": [
       "<Figure size 864x576 with 1 Axes>"
      ]
     },
     "metadata": {
      "needs_background": "light"
     },
     "output_type": "display_data"
    }
   ],
   "source": [
    "plt.figure(figsize=(12,8))\n",
    "sns.countplot(x='insured_sex', data=data)"
   ]
  },
  {
   "cell_type": "code",
   "execution_count": 12,
   "metadata": {},
   "outputs": [
    {
     "data": {
      "application/vnd.plotly.v1+json": {
       "config": {
        "linkText": "Export to plot.ly",
        "plotlyServerURL": "https://plot.ly",
        "showLink": false
       },
       "data": [
        {
         "marker": {
          "color": "rgb(15, 255, 185, 0.5)"
         },
         "name": "Marvel",
         "opacity": 0.75,
         "type": "histogram",
         "x": [
          "craft-repair",
          "machine-op-inspct",
          "sales",
          "armed-forces",
          "sales",
          "tech-support",
          "prof-specialty",
          "tech-support",
          "other-service",
          "priv-house-serv",
          "exec-managerial",
          "exec-managerial",
          "protective-serv",
          "armed-forces",
          "machine-op-inspct",
          "transport-moving",
          "machine-op-inspct",
          "machine-op-inspct",
          "craft-repair",
          "handlers-cleaners",
          "other-service",
          "machine-op-inspct",
          "prof-specialty",
          "priv-house-serv",
          "craft-repair",
          "sales",
          "prof-specialty",
          "exec-managerial",
          "sales",
          "machine-op-inspct",
          "prof-specialty",
          "craft-repair",
          "adm-clerical",
          "farming-fishing",
          "prof-specialty",
          "craft-repair",
          "protective-serv",
          "priv-house-serv",
          "craft-repair",
          "tech-support",
          "tech-support",
          "transport-moving",
          "prof-specialty",
          "transport-moving",
          "priv-house-serv",
          "protective-serv",
          "other-service",
          "other-service",
          "protective-serv",
          "exec-managerial",
          "other-service",
          "farming-fishing",
          "armed-forces",
          "priv-house-serv",
          "machine-op-inspct",
          "craft-repair",
          "prof-specialty",
          "adm-clerical",
          "other-service",
          "adm-clerical",
          "machine-op-inspct",
          "handlers-cleaners",
          "armed-forces",
          "transport-moving",
          "sales",
          "exec-managerial",
          "tech-support",
          "adm-clerical",
          "machine-op-inspct",
          "other-service",
          "prof-specialty",
          "armed-forces",
          "sales",
          "transport-moving",
          "sales",
          "transport-moving",
          "handlers-cleaners",
          "transport-moving",
          "other-service",
          "handlers-cleaners",
          "exec-managerial",
          "exec-managerial",
          "other-service",
          "exec-managerial",
          "prof-specialty",
          "transport-moving",
          "priv-house-serv",
          "other-service",
          "prof-specialty",
          "exec-managerial",
          "sales",
          "tech-support",
          "farming-fishing",
          "exec-managerial",
          "machine-op-inspct",
          "armed-forces",
          "protective-serv",
          "farming-fishing",
          "machine-op-inspct",
          "exec-managerial",
          "protective-serv",
          "tech-support",
          "prof-specialty",
          "tech-support",
          "other-service",
          "prof-specialty",
          "prof-specialty",
          "handlers-cleaners",
          "machine-op-inspct",
          "sales",
          "prof-specialty",
          "craft-repair",
          "exec-managerial",
          "protective-serv",
          "armed-forces",
          "machine-op-inspct",
          "machine-op-inspct",
          "exec-managerial",
          "transport-moving",
          "adm-clerical",
          "priv-house-serv",
          "other-service",
          "other-service",
          "prof-specialty",
          "prof-specialty",
          "craft-repair",
          "protective-serv",
          "tech-support",
          "farming-fishing",
          "sales",
          "machine-op-inspct",
          "adm-clerical",
          "tech-support",
          "machine-op-inspct",
          "exec-managerial",
          "exec-managerial",
          "sales",
          "tech-support",
          "prof-specialty",
          "other-service",
          "machine-op-inspct",
          "transport-moving",
          "machine-op-inspct",
          "exec-managerial",
          "farming-fishing",
          "exec-managerial",
          "tech-support",
          "other-service",
          "adm-clerical",
          "craft-repair",
          "farming-fishing",
          "priv-house-serv",
          "exec-managerial",
          "craft-repair",
          "other-service",
          "sales",
          "exec-managerial",
          "prof-specialty",
          "machine-op-inspct",
          "transport-moving",
          "priv-house-serv",
          "farming-fishing",
          "exec-managerial",
          "prof-specialty",
          "prof-specialty",
          "armed-forces",
          "craft-repair",
          "farming-fishing",
          "machine-op-inspct",
          "other-service",
          "armed-forces",
          "machine-op-inspct",
          "protective-serv",
          "transport-moving",
          "farming-fishing",
          "tech-support",
          "protective-serv",
          "prof-specialty",
          "armed-forces",
          "tech-support",
          "handlers-cleaners",
          "adm-clerical",
          "tech-support",
          "tech-support",
          "craft-repair",
          "tech-support",
          "tech-support",
          "protective-serv",
          "tech-support",
          "adm-clerical",
          "tech-support",
          "farming-fishing",
          "handlers-cleaners",
          "other-service",
          "farming-fishing",
          "handlers-cleaners",
          "armed-forces",
          "adm-clerical",
          "armed-forces",
          "sales",
          "craft-repair",
          "transport-moving",
          "protective-serv",
          "machine-op-inspct",
          "sales",
          "tech-support",
          "sales",
          "handlers-cleaners",
          "adm-clerical",
          "sales",
          "handlers-cleaners",
          "priv-house-serv",
          "sales",
          "prof-specialty",
          "exec-managerial",
          "craft-repair",
          "machine-op-inspct",
          "transport-moving",
          "prof-specialty",
          "priv-house-serv",
          "farming-fishing",
          "other-service",
          "sales",
          "sales",
          "tech-support",
          "exec-managerial",
          "other-service",
          "prof-specialty",
          "craft-repair",
          "farming-fishing",
          "machine-op-inspct",
          "prof-specialty",
          "machine-op-inspct",
          "handlers-cleaners",
          "farming-fishing",
          "transport-moving",
          "craft-repair",
          "sales",
          "farming-fishing",
          "farming-fishing",
          "armed-forces",
          "adm-clerical",
          "exec-managerial",
          "tech-support",
          "armed-forces",
          "tech-support",
          "machine-op-inspct",
          "other-service",
          "machine-op-inspct",
          "armed-forces",
          "transport-moving",
          "sales",
          "transport-moving",
          "transport-moving",
          "tech-support",
          "farming-fishing",
          "craft-repair",
          "machine-op-inspct",
          "sales",
          "exec-managerial",
          "priv-house-serv",
          "other-service",
          "machine-op-inspct",
          "armed-forces",
          "protective-serv",
          "craft-repair",
          "machine-op-inspct",
          "handlers-cleaners",
          "protective-serv",
          "machine-op-inspct",
          "handlers-cleaners",
          "other-service",
          "craft-repair",
          "armed-forces",
          "other-service",
          "machine-op-inspct",
          "tech-support",
          "prof-specialty",
          "armed-forces",
          "other-service",
          "craft-repair",
          "craft-repair",
          "transport-moving",
          "tech-support",
          "priv-house-serv",
          "adm-clerical",
          "priv-house-serv",
          "transport-moving",
          "handlers-cleaners",
          "sales",
          "machine-op-inspct",
          "protective-serv",
          "handlers-cleaners",
          "sales",
          "exec-managerial",
          "prof-specialty",
          "protective-serv",
          "handlers-cleaners",
          "adm-clerical",
          "transport-moving",
          "farming-fishing",
          "handlers-cleaners",
          "sales",
          "transport-moving",
          "priv-house-serv",
          "handlers-cleaners",
          "farming-fishing",
          "protective-serv",
          "machine-op-inspct",
          "armed-forces",
          "sales",
          "sales",
          "handlers-cleaners",
          "protective-serv",
          "machine-op-inspct",
          "transport-moving",
          "exec-managerial",
          "adm-clerical",
          "transport-moving",
          "protective-serv",
          "sales",
          "adm-clerical",
          "handlers-cleaners",
          "priv-house-serv",
          "exec-managerial",
          "tech-support",
          "farming-fishing",
          "craft-repair",
          "armed-forces",
          "protective-serv",
          "machine-op-inspct",
          "transport-moving",
          "tech-support",
          "prof-specialty",
          "prof-specialty",
          "armed-forces",
          "armed-forces",
          "tech-support",
          "priv-house-serv",
          "priv-house-serv",
          "sales",
          "craft-repair",
          "armed-forces",
          "protective-serv",
          "tech-support",
          "transport-moving",
          "machine-op-inspct",
          "handlers-cleaners",
          "tech-support",
          "craft-repair",
          "tech-support",
          "machine-op-inspct",
          "craft-repair",
          "adm-clerical",
          "adm-clerical",
          "prof-specialty",
          "craft-repair",
          "other-service",
          "adm-clerical",
          "priv-house-serv",
          "transport-moving",
          "priv-house-serv",
          "prof-specialty",
          "sales",
          "adm-clerical",
          "adm-clerical",
          "exec-managerial",
          "adm-clerical",
          "craft-repair",
          "exec-managerial",
          "protective-serv",
          "farming-fishing",
          "sales",
          "armed-forces",
          "transport-moving",
          "sales",
          "craft-repair",
          "other-service",
          "transport-moving",
          "other-service",
          "craft-repair",
          "exec-managerial",
          "exec-managerial",
          "armed-forces",
          "protective-serv",
          "prof-specialty",
          "other-service",
          "machine-op-inspct",
          "machine-op-inspct",
          "priv-house-serv",
          "exec-managerial",
          "exec-managerial",
          "prof-specialty",
          "exec-managerial",
          "farming-fishing",
          "machine-op-inspct",
          "protective-serv",
          "adm-clerical",
          "prof-specialty",
          "armed-forces",
          "priv-house-serv",
          "transport-moving",
          "craft-repair",
          "sales",
          "armed-forces",
          "transport-moving",
          "adm-clerical",
          "machine-op-inspct",
          "exec-managerial",
          "exec-managerial",
          "adm-clerical",
          "machine-op-inspct",
          "farming-fishing",
          "prof-specialty",
          "armed-forces",
          "machine-op-inspct",
          "transport-moving",
          "priv-house-serv",
          "priv-house-serv",
          "exec-managerial",
          "tech-support",
          "prof-specialty",
          "handlers-cleaners",
          "other-service",
          "machine-op-inspct",
          "exec-managerial",
          "farming-fishing",
          "priv-house-serv",
          "exec-managerial",
          "transport-moving",
          "transport-moving",
          "priv-house-serv",
          "priv-house-serv",
          "priv-house-serv",
          "priv-house-serv",
          "machine-op-inspct",
          "exec-managerial",
          "priv-house-serv",
          "other-service",
          "handlers-cleaners",
          "protective-serv",
          "tech-support",
          "transport-moving",
          "protective-serv",
          "sales",
          "farming-fishing",
          "priv-house-serv",
          "tech-support",
          "adm-clerical",
          "other-service",
          "other-service",
          "transport-moving",
          "priv-house-serv",
          "transport-moving",
          "machine-op-inspct",
          "adm-clerical",
          "craft-repair",
          "transport-moving",
          "priv-house-serv",
          "other-service",
          "tech-support",
          "protective-serv",
          "tech-support",
          "prof-specialty",
          "handlers-cleaners",
          "handlers-cleaners",
          "transport-moving",
          "protective-serv",
          "farming-fishing",
          "protective-serv",
          "craft-repair",
          "tech-support",
          "armed-forces",
          "farming-fishing",
          "exec-managerial",
          "other-service",
          "adm-clerical",
          "farming-fishing",
          "armed-forces",
          "sales",
          "exec-managerial",
          "priv-house-serv",
          "handlers-cleaners",
          "armed-forces",
          "armed-forces",
          "adm-clerical",
          "other-service",
          "armed-forces",
          "prof-specialty",
          "transport-moving",
          "armed-forces",
          "machine-op-inspct",
          "machine-op-inspct",
          "adm-clerical",
          "armed-forces",
          "prof-specialty",
          "machine-op-inspct",
          "tech-support",
          "exec-managerial",
          "craft-repair",
          "craft-repair",
          "tech-support",
          "armed-forces",
          "handlers-cleaners",
          "farming-fishing",
          "sales",
          "tech-support",
          "prof-specialty",
          "machine-op-inspct",
          "sales",
          "priv-house-serv",
          "sales",
          "other-service",
          "transport-moving",
          "other-service",
          "tech-support",
          "adm-clerical",
          "armed-forces",
          "protective-serv",
          "tech-support",
          "transport-moving",
          "farming-fishing",
          "farming-fishing",
          "craft-repair",
          "tech-support",
          "prof-specialty",
          "prof-specialty",
          "sales",
          "machine-op-inspct",
          "sales",
          "sales",
          "prof-specialty",
          "craft-repair",
          "adm-clerical",
          "armed-forces",
          "sales",
          "tech-support",
          "priv-house-serv",
          "adm-clerical",
          "prof-specialty",
          "other-service",
          "farming-fishing",
          "prof-specialty",
          "protective-serv",
          "prof-specialty",
          "sales",
          "prof-specialty",
          "armed-forces",
          "tech-support",
          "armed-forces",
          "transport-moving",
          "armed-forces",
          "handlers-cleaners",
          "tech-support",
          "sales",
          "transport-moving",
          "other-service",
          "craft-repair",
          "exec-managerial",
          "craft-repair",
          "farming-fishing",
          "protective-serv",
          "adm-clerical",
          "other-service",
          "protective-serv",
          "exec-managerial",
          "exec-managerial",
          "craft-repair",
          "machine-op-inspct",
          "craft-repair",
          "prof-specialty",
          "adm-clerical",
          "other-service",
          "farming-fishing",
          "tech-support",
          "other-service",
          "other-service",
          "transport-moving",
          "machine-op-inspct",
          "machine-op-inspct",
          "sales",
          "protective-serv",
          "farming-fishing",
          "protective-serv",
          "priv-house-serv",
          "machine-op-inspct",
          "sales",
          "exec-managerial",
          "other-service",
          "priv-house-serv",
          "handlers-cleaners",
          "armed-forces",
          "machine-op-inspct",
          "craft-repair",
          "sales",
          "farming-fishing",
          "prof-specialty",
          "priv-house-serv",
          "sales",
          "handlers-cleaners",
          "exec-managerial",
          "machine-op-inspct",
          "sales",
          "adm-clerical",
          "armed-forces",
          "machine-op-inspct",
          "priv-house-serv",
          "exec-managerial",
          "adm-clerical",
          "priv-house-serv",
          "machine-op-inspct",
          "exec-managerial",
          "adm-clerical",
          "handlers-cleaners",
          "sales",
          "tech-support",
          "transport-moving",
          "tech-support",
          "farming-fishing",
          "machine-op-inspct",
          "machine-op-inspct",
          "transport-moving",
          "protective-serv",
          "machine-op-inspct",
          "sales",
          "machine-op-inspct",
          "sales",
          "exec-managerial",
          "protective-serv",
          "craft-repair",
          "machine-op-inspct",
          "prof-specialty",
          "transport-moving",
          "craft-repair",
          "handlers-cleaners",
          "craft-repair",
          "craft-repair",
          "craft-repair",
          "priv-house-serv",
          "adm-clerical",
          "armed-forces",
          "other-service",
          "exec-managerial",
          "prof-specialty",
          "armed-forces",
          "adm-clerical",
          "exec-managerial",
          "craft-repair",
          "other-service",
          "tech-support",
          "transport-moving",
          "handlers-cleaners",
          "prof-specialty",
          "adm-clerical",
          "craft-repair",
          "handlers-cleaners",
          "machine-op-inspct",
          "transport-moving",
          "machine-op-inspct",
          "sales",
          "adm-clerical",
          "farming-fishing",
          "armed-forces",
          "adm-clerical",
          "prof-specialty",
          "priv-house-serv",
          "sales",
          "machine-op-inspct",
          "machine-op-inspct",
          "transport-moving",
          "craft-repair",
          "sales",
          "other-service",
          "farming-fishing",
          "adm-clerical",
          "tech-support",
          "adm-clerical",
          "other-service",
          "machine-op-inspct",
          "farming-fishing",
          "machine-op-inspct",
          "armed-forces",
          "other-service",
          "handlers-cleaners",
          "prof-specialty",
          "priv-house-serv",
          "tech-support",
          "transport-moving",
          "exec-managerial",
          "armed-forces",
          "handlers-cleaners",
          "tech-support",
          "prof-specialty",
          "machine-op-inspct",
          "protective-serv",
          "farming-fishing",
          "transport-moving",
          "tech-support",
          "other-service",
          "transport-moving",
          "tech-support",
          "exec-managerial",
          "tech-support",
          "sales",
          "machine-op-inspct",
          "tech-support",
          "handlers-cleaners",
          "farming-fishing",
          "priv-house-serv",
          "handlers-cleaners",
          "other-service",
          "protective-serv",
          "protective-serv",
          "transport-moving",
          "handlers-cleaners",
          "prof-specialty",
          "prof-specialty",
          "priv-house-serv",
          "exec-managerial",
          "prof-specialty",
          "craft-repair",
          "sales",
          "handlers-cleaners",
          "prof-specialty",
          "prof-specialty",
          "tech-support",
          "adm-clerical",
          "farming-fishing",
          "protective-serv",
          "farming-fishing",
          "prof-specialty",
          "transport-moving",
          "prof-specialty",
          "craft-repair",
          "adm-clerical",
          "exec-managerial",
          "other-service",
          "exec-managerial",
          "prof-specialty",
          "sales",
          "craft-repair",
          "adm-clerical",
          "machine-op-inspct",
          "exec-managerial",
          "sales",
          "exec-managerial",
          "armed-forces",
          "sales",
          "machine-op-inspct",
          "tech-support",
          "priv-house-serv",
          "handlers-cleaners",
          "machine-op-inspct",
          "sales",
          "protective-serv",
          "machine-op-inspct",
          "prof-specialty",
          "machine-op-inspct",
          "prof-specialty",
          "protective-serv",
          "armed-forces",
          "protective-serv",
          "craft-repair",
          "adm-clerical",
          "handlers-cleaners",
          "adm-clerical",
          "prof-specialty",
          "transport-moving",
          "adm-clerical",
          "armed-forces",
          "prof-specialty",
          "transport-moving",
          "tech-support",
          "farming-fishing",
          "machine-op-inspct",
          "tech-support",
          "protective-serv",
          "sales",
          "priv-house-serv",
          "tech-support",
          "handlers-cleaners",
          "armed-forces",
          "tech-support",
          "other-service",
          "machine-op-inspct",
          "machine-op-inspct",
          "priv-house-serv",
          "adm-clerical",
          "tech-support",
          "sales",
          "tech-support",
          "prof-specialty",
          "armed-forces",
          "farming-fishing",
          "transport-moving",
          "adm-clerical",
          "machine-op-inspct",
          "craft-repair",
          "armed-forces",
          "armed-forces",
          "transport-moving",
          "armed-forces",
          "prof-specialty",
          "machine-op-inspct",
          "craft-repair",
          "machine-op-inspct",
          "prof-specialty",
          "protective-serv",
          "protective-serv",
          "other-service",
          "handlers-cleaners",
          "protective-serv",
          "transport-moving",
          "prof-specialty",
          "tech-support",
          "craft-repair",
          "adm-clerical",
          "exec-managerial",
          "prof-specialty",
          "prof-specialty",
          "other-service",
          "machine-op-inspct",
          "craft-repair",
          "prof-specialty",
          "craft-repair",
          "transport-moving",
          "priv-house-serv",
          "priv-house-serv",
          "prof-specialty",
          "protective-serv",
          "adm-clerical",
          "exec-managerial",
          "prof-specialty",
          "machine-op-inspct",
          "other-service",
          "other-service",
          "transport-moving",
          "machine-op-inspct",
          "armed-forces",
          "protective-serv",
          "farming-fishing",
          "craft-repair",
          "tech-support",
          "protective-serv",
          "prof-specialty",
          "armed-forces",
          "priv-house-serv",
          "sales",
          "craft-repair",
          "priv-house-serv",
          "prof-specialty",
          "farming-fishing",
          "exec-managerial",
          "handlers-cleaners",
          "machine-op-inspct",
          "armed-forces",
          "tech-support",
          "priv-house-serv",
          "tech-support",
          "exec-managerial",
          "adm-clerical",
          "other-service",
          "other-service",
          "armed-forces",
          "priv-house-serv",
          "priv-house-serv",
          "armed-forces",
          "protective-serv",
          "priv-house-serv",
          "farming-fishing",
          "exec-managerial",
          "prof-specialty",
          "machine-op-inspct",
          "armed-forces",
          "sales",
          "tech-support",
          "protective-serv",
          "priv-house-serv",
          "handlers-cleaners",
          "priv-house-serv",
          "priv-house-serv",
          "farming-fishing",
          "machine-op-inspct",
          "exec-managerial",
          "transport-moving",
          "other-service",
          "craft-repair",
          "armed-forces",
          "other-service",
          "craft-repair",
          "priv-house-serv",
          "exec-managerial",
          "adm-clerical",
          "transport-moving",
          "priv-house-serv",
          "armed-forces",
          "exec-managerial",
          "exec-managerial",
          "sales",
          "craft-repair",
          "sales",
          "exec-managerial",
          "handlers-cleaners",
          "armed-forces",
          "tech-support",
          "adm-clerical",
          "priv-house-serv",
          "priv-house-serv",
          "priv-house-serv",
          "transport-moving",
          "sales",
          "exec-managerial",
          "exec-managerial",
          "craft-repair",
          "transport-moving",
          "sales",
          "adm-clerical",
          "tech-support",
          "prof-specialty",
          "protective-serv",
          "transport-moving",
          "other-service",
          "priv-house-serv",
          "other-service",
          "farming-fishing",
          "adm-clerical",
          "transport-moving",
          "prof-specialty",
          "priv-house-serv",
          "sales",
          "adm-clerical",
          "sales",
          "craft-repair",
          "machine-op-inspct",
          "armed-forces",
          "priv-house-serv",
          "protective-serv",
          "protective-serv",
          "prof-specialty",
          "other-service",
          "craft-repair",
          "machine-op-inspct",
          "other-service",
          "armed-forces",
          "prof-specialty",
          "handlers-cleaners",
          "other-service",
          "sales",
          "sales",
          "tech-support",
          "transport-moving",
          "protective-serv",
          "handlers-cleaners",
          "protective-serv",
          "craft-repair",
          "craft-repair",
          "machine-op-inspct",
          "priv-house-serv",
          "priv-house-serv",
          "protective-serv",
          "protective-serv",
          "adm-clerical",
          "transport-moving",
          "protective-serv",
          "craft-repair",
          "handlers-cleaners",
          "sales",
          "protective-serv",
          "tech-support",
          "adm-clerical",
          "tech-support",
          "priv-house-serv",
          "other-service",
          "tech-support",
          "transport-moving",
          "protective-serv",
          "craft-repair",
          "adm-clerical",
          "craft-repair",
          "farming-fishing",
          "handlers-cleaners",
          "handlers-cleaners",
          "exec-managerial",
          "adm-clerical",
          "other-service",
          "other-service",
          "handlers-cleaners",
          "craft-repair",
          "armed-forces",
          "exec-managerial",
          "prof-specialty",
          "other-service",
          "exec-managerial",
          "exec-managerial",
          "sales",
          "craft-repair",
          "prof-specialty",
          "armed-forces",
          "handlers-cleaners",
          "sales"
         ]
        }
       ],
       "layout": {
        "template": {
         "data": {
          "bar": [
           {
            "error_x": {
             "color": "#2a3f5f"
            },
            "error_y": {
             "color": "#2a3f5f"
            },
            "marker": {
             "line": {
              "color": "#E5ECF6",
              "width": 0.5
             }
            },
            "type": "bar"
           }
          ],
          "barpolar": [
           {
            "marker": {
             "line": {
              "color": "#E5ECF6",
              "width": 0.5
             }
            },
            "type": "barpolar"
           }
          ],
          "carpet": [
           {
            "aaxis": {
             "endlinecolor": "#2a3f5f",
             "gridcolor": "white",
             "linecolor": "white",
             "minorgridcolor": "white",
             "startlinecolor": "#2a3f5f"
            },
            "baxis": {
             "endlinecolor": "#2a3f5f",
             "gridcolor": "white",
             "linecolor": "white",
             "minorgridcolor": "white",
             "startlinecolor": "#2a3f5f"
            },
            "type": "carpet"
           }
          ],
          "choropleth": [
           {
            "colorbar": {
             "outlinewidth": 0,
             "ticks": ""
            },
            "type": "choropleth"
           }
          ],
          "contour": [
           {
            "colorbar": {
             "outlinewidth": 0,
             "ticks": ""
            },
            "colorscale": [
             [
              0,
              "#0d0887"
             ],
             [
              0.1111111111111111,
              "#46039f"
             ],
             [
              0.2222222222222222,
              "#7201a8"
             ],
             [
              0.3333333333333333,
              "#9c179e"
             ],
             [
              0.4444444444444444,
              "#bd3786"
             ],
             [
              0.5555555555555556,
              "#d8576b"
             ],
             [
              0.6666666666666666,
              "#ed7953"
             ],
             [
              0.7777777777777778,
              "#fb9f3a"
             ],
             [
              0.8888888888888888,
              "#fdca26"
             ],
             [
              1,
              "#f0f921"
             ]
            ],
            "type": "contour"
           }
          ],
          "contourcarpet": [
           {
            "colorbar": {
             "outlinewidth": 0,
             "ticks": ""
            },
            "type": "contourcarpet"
           }
          ],
          "heatmap": [
           {
            "colorbar": {
             "outlinewidth": 0,
             "ticks": ""
            },
            "colorscale": [
             [
              0,
              "#0d0887"
             ],
             [
              0.1111111111111111,
              "#46039f"
             ],
             [
              0.2222222222222222,
              "#7201a8"
             ],
             [
              0.3333333333333333,
              "#9c179e"
             ],
             [
              0.4444444444444444,
              "#bd3786"
             ],
             [
              0.5555555555555556,
              "#d8576b"
             ],
             [
              0.6666666666666666,
              "#ed7953"
             ],
             [
              0.7777777777777778,
              "#fb9f3a"
             ],
             [
              0.8888888888888888,
              "#fdca26"
             ],
             [
              1,
              "#f0f921"
             ]
            ],
            "type": "heatmap"
           }
          ],
          "heatmapgl": [
           {
            "colorbar": {
             "outlinewidth": 0,
             "ticks": ""
            },
            "colorscale": [
             [
              0,
              "#0d0887"
             ],
             [
              0.1111111111111111,
              "#46039f"
             ],
             [
              0.2222222222222222,
              "#7201a8"
             ],
             [
              0.3333333333333333,
              "#9c179e"
             ],
             [
              0.4444444444444444,
              "#bd3786"
             ],
             [
              0.5555555555555556,
              "#d8576b"
             ],
             [
              0.6666666666666666,
              "#ed7953"
             ],
             [
              0.7777777777777778,
              "#fb9f3a"
             ],
             [
              0.8888888888888888,
              "#fdca26"
             ],
             [
              1,
              "#f0f921"
             ]
            ],
            "type": "heatmapgl"
           }
          ],
          "histogram": [
           {
            "marker": {
             "colorbar": {
              "outlinewidth": 0,
              "ticks": ""
             }
            },
            "type": "histogram"
           }
          ],
          "histogram2d": [
           {
            "colorbar": {
             "outlinewidth": 0,
             "ticks": ""
            },
            "colorscale": [
             [
              0,
              "#0d0887"
             ],
             [
              0.1111111111111111,
              "#46039f"
             ],
             [
              0.2222222222222222,
              "#7201a8"
             ],
             [
              0.3333333333333333,
              "#9c179e"
             ],
             [
              0.4444444444444444,
              "#bd3786"
             ],
             [
              0.5555555555555556,
              "#d8576b"
             ],
             [
              0.6666666666666666,
              "#ed7953"
             ],
             [
              0.7777777777777778,
              "#fb9f3a"
             ],
             [
              0.8888888888888888,
              "#fdca26"
             ],
             [
              1,
              "#f0f921"
             ]
            ],
            "type": "histogram2d"
           }
          ],
          "histogram2dcontour": [
           {
            "colorbar": {
             "outlinewidth": 0,
             "ticks": ""
            },
            "colorscale": [
             [
              0,
              "#0d0887"
             ],
             [
              0.1111111111111111,
              "#46039f"
             ],
             [
              0.2222222222222222,
              "#7201a8"
             ],
             [
              0.3333333333333333,
              "#9c179e"
             ],
             [
              0.4444444444444444,
              "#bd3786"
             ],
             [
              0.5555555555555556,
              "#d8576b"
             ],
             [
              0.6666666666666666,
              "#ed7953"
             ],
             [
              0.7777777777777778,
              "#fb9f3a"
             ],
             [
              0.8888888888888888,
              "#fdca26"
             ],
             [
              1,
              "#f0f921"
             ]
            ],
            "type": "histogram2dcontour"
           }
          ],
          "mesh3d": [
           {
            "colorbar": {
             "outlinewidth": 0,
             "ticks": ""
            },
            "type": "mesh3d"
           }
          ],
          "parcoords": [
           {
            "line": {
             "colorbar": {
              "outlinewidth": 0,
              "ticks": ""
             }
            },
            "type": "parcoords"
           }
          ],
          "pie": [
           {
            "automargin": true,
            "type": "pie"
           }
          ],
          "scatter": [
           {
            "marker": {
             "colorbar": {
              "outlinewidth": 0,
              "ticks": ""
             }
            },
            "type": "scatter"
           }
          ],
          "scatter3d": [
           {
            "line": {
             "colorbar": {
              "outlinewidth": 0,
              "ticks": ""
             }
            },
            "marker": {
             "colorbar": {
              "outlinewidth": 0,
              "ticks": ""
             }
            },
            "type": "scatter3d"
           }
          ],
          "scattercarpet": [
           {
            "marker": {
             "colorbar": {
              "outlinewidth": 0,
              "ticks": ""
             }
            },
            "type": "scattercarpet"
           }
          ],
          "scattergeo": [
           {
            "marker": {
             "colorbar": {
              "outlinewidth": 0,
              "ticks": ""
             }
            },
            "type": "scattergeo"
           }
          ],
          "scattergl": [
           {
            "marker": {
             "colorbar": {
              "outlinewidth": 0,
              "ticks": ""
             }
            },
            "type": "scattergl"
           }
          ],
          "scattermapbox": [
           {
            "marker": {
             "colorbar": {
              "outlinewidth": 0,
              "ticks": ""
             }
            },
            "type": "scattermapbox"
           }
          ],
          "scatterpolar": [
           {
            "marker": {
             "colorbar": {
              "outlinewidth": 0,
              "ticks": ""
             }
            },
            "type": "scatterpolar"
           }
          ],
          "scatterpolargl": [
           {
            "marker": {
             "colorbar": {
              "outlinewidth": 0,
              "ticks": ""
             }
            },
            "type": "scatterpolargl"
           }
          ],
          "scatterternary": [
           {
            "marker": {
             "colorbar": {
              "outlinewidth": 0,
              "ticks": ""
             }
            },
            "type": "scatterternary"
           }
          ],
          "surface": [
           {
            "colorbar": {
             "outlinewidth": 0,
             "ticks": ""
            },
            "colorscale": [
             [
              0,
              "#0d0887"
             ],
             [
              0.1111111111111111,
              "#46039f"
             ],
             [
              0.2222222222222222,
              "#7201a8"
             ],
             [
              0.3333333333333333,
              "#9c179e"
             ],
             [
              0.4444444444444444,
              "#bd3786"
             ],
             [
              0.5555555555555556,
              "#d8576b"
             ],
             [
              0.6666666666666666,
              "#ed7953"
             ],
             [
              0.7777777777777778,
              "#fb9f3a"
             ],
             [
              0.8888888888888888,
              "#fdca26"
             ],
             [
              1,
              "#f0f921"
             ]
            ],
            "type": "surface"
           }
          ],
          "table": [
           {
            "cells": {
             "fill": {
              "color": "#EBF0F8"
             },
             "line": {
              "color": "white"
             }
            },
            "header": {
             "fill": {
              "color": "#C8D4E3"
             },
             "line": {
              "color": "white"
             }
            },
            "type": "table"
           }
          ]
         },
         "layout": {
          "annotationdefaults": {
           "arrowcolor": "#2a3f5f",
           "arrowhead": 0,
           "arrowwidth": 1
          },
          "autotypenumbers": "strict",
          "coloraxis": {
           "colorbar": {
            "outlinewidth": 0,
            "ticks": ""
           }
          },
          "colorscale": {
           "diverging": [
            [
             0,
             "#8e0152"
            ],
            [
             0.1,
             "#c51b7d"
            ],
            [
             0.2,
             "#de77ae"
            ],
            [
             0.3,
             "#f1b6da"
            ],
            [
             0.4,
             "#fde0ef"
            ],
            [
             0.5,
             "#f7f7f7"
            ],
            [
             0.6,
             "#e6f5d0"
            ],
            [
             0.7,
             "#b8e186"
            ],
            [
             0.8,
             "#7fbc41"
            ],
            [
             0.9,
             "#4d9221"
            ],
            [
             1,
             "#276419"
            ]
           ],
           "sequential": [
            [
             0,
             "#0d0887"
            ],
            [
             0.1111111111111111,
             "#46039f"
            ],
            [
             0.2222222222222222,
             "#7201a8"
            ],
            [
             0.3333333333333333,
             "#9c179e"
            ],
            [
             0.4444444444444444,
             "#bd3786"
            ],
            [
             0.5555555555555556,
             "#d8576b"
            ],
            [
             0.6666666666666666,
             "#ed7953"
            ],
            [
             0.7777777777777778,
             "#fb9f3a"
            ],
            [
             0.8888888888888888,
             "#fdca26"
            ],
            [
             1,
             "#f0f921"
            ]
           ],
           "sequentialminus": [
            [
             0,
             "#0d0887"
            ],
            [
             0.1111111111111111,
             "#46039f"
            ],
            [
             0.2222222222222222,
             "#7201a8"
            ],
            [
             0.3333333333333333,
             "#9c179e"
            ],
            [
             0.4444444444444444,
             "#bd3786"
            ],
            [
             0.5555555555555556,
             "#d8576b"
            ],
            [
             0.6666666666666666,
             "#ed7953"
            ],
            [
             0.7777777777777778,
             "#fb9f3a"
            ],
            [
             0.8888888888888888,
             "#fdca26"
            ],
            [
             1,
             "#f0f921"
            ]
           ]
          },
          "colorway": [
           "#636efa",
           "#EF553B",
           "#00cc96",
           "#ab63fa",
           "#FFA15A",
           "#19d3f3",
           "#FF6692",
           "#B6E880",
           "#FF97FF",
           "#FECB52"
          ],
          "font": {
           "color": "#2a3f5f"
          },
          "geo": {
           "bgcolor": "white",
           "lakecolor": "white",
           "landcolor": "#E5ECF6",
           "showlakes": true,
           "showland": true,
           "subunitcolor": "white"
          },
          "hoverlabel": {
           "align": "left"
          },
          "hovermode": "closest",
          "mapbox": {
           "style": "light"
          },
          "paper_bgcolor": "white",
          "plot_bgcolor": "#E5ECF6",
          "polar": {
           "angularaxis": {
            "gridcolor": "white",
            "linecolor": "white",
            "ticks": ""
           },
           "bgcolor": "#E5ECF6",
           "radialaxis": {
            "gridcolor": "white",
            "linecolor": "white",
            "ticks": ""
           }
          },
          "scene": {
           "xaxis": {
            "backgroundcolor": "#E5ECF6",
            "gridcolor": "white",
            "gridwidth": 2,
            "linecolor": "white",
            "showbackground": true,
            "ticks": "",
            "zerolinecolor": "white"
           },
           "yaxis": {
            "backgroundcolor": "#E5ECF6",
            "gridcolor": "white",
            "gridwidth": 2,
            "linecolor": "white",
            "showbackground": true,
            "ticks": "",
            "zerolinecolor": "white"
           },
           "zaxis": {
            "backgroundcolor": "#E5ECF6",
            "gridcolor": "white",
            "gridwidth": 2,
            "linecolor": "white",
            "showbackground": true,
            "ticks": "",
            "zerolinecolor": "white"
           }
          },
          "shapedefaults": {
           "line": {
            "color": "#2a3f5f"
           }
          },
          "ternary": {
           "aaxis": {
            "gridcolor": "white",
            "linecolor": "white",
            "ticks": ""
           },
           "baxis": {
            "gridcolor": "white",
            "linecolor": "white",
            "ticks": ""
           },
           "bgcolor": "#E5ECF6",
           "caxis": {
            "gridcolor": "white",
            "linecolor": "white",
            "ticks": ""
           }
          },
          "title": {
           "x": 0.05
          },
          "xaxis": {
           "automargin": true,
           "gridcolor": "white",
           "linecolor": "white",
           "ticks": "",
           "title": {
            "standoff": 15
           },
           "zerolinecolor": "white",
           "zerolinewidth": 2
          },
          "yaxis": {
           "automargin": true,
           "gridcolor": "white",
           "linecolor": "white",
           "ticks": "",
           "title": {
            "standoff": 15
           },
           "zerolinecolor": "white",
           "zerolinewidth": 2
          }
         }
        },
        "title": {
         "text": "Occupation of the Customers"
        }
       }
      },
      "text/html": [
       "<div>                            <div id=\"7ff69dac-bf6c-4394-bb40-d9dd426accfb\" class=\"plotly-graph-div\" style=\"height:525px; width:100%;\"></div>            <script type=\"text/javascript\">                require([\"plotly\"], function(Plotly) {                    window.PLOTLYENV=window.PLOTLYENV || {};                                    if (document.getElementById(\"7ff69dac-bf6c-4394-bb40-d9dd426accfb\")) {                    Plotly.newPlot(                        \"7ff69dac-bf6c-4394-bb40-d9dd426accfb\",                        [{\"marker\": {\"color\": \"rgb(15, 255, 185, 0.5)\"}, \"name\": \"Marvel\", \"opacity\": 0.75, \"type\": \"histogram\", \"x\": [\"craft-repair\", \"machine-op-inspct\", \"sales\", \"armed-forces\", \"sales\", \"tech-support\", \"prof-specialty\", \"tech-support\", \"other-service\", \"priv-house-serv\", \"exec-managerial\", \"exec-managerial\", \"protective-serv\", \"armed-forces\", \"machine-op-inspct\", \"transport-moving\", \"machine-op-inspct\", \"machine-op-inspct\", \"craft-repair\", \"handlers-cleaners\", \"other-service\", \"machine-op-inspct\", \"prof-specialty\", \"priv-house-serv\", \"craft-repair\", \"sales\", \"prof-specialty\", \"exec-managerial\", \"sales\", \"machine-op-inspct\", \"prof-specialty\", \"craft-repair\", \"adm-clerical\", \"farming-fishing\", \"prof-specialty\", \"craft-repair\", \"protective-serv\", \"priv-house-serv\", \"craft-repair\", \"tech-support\", \"tech-support\", \"transport-moving\", \"prof-specialty\", \"transport-moving\", \"priv-house-serv\", \"protective-serv\", \"other-service\", \"other-service\", \"protective-serv\", \"exec-managerial\", \"other-service\", \"farming-fishing\", \"armed-forces\", \"priv-house-serv\", \"machine-op-inspct\", \"craft-repair\", \"prof-specialty\", \"adm-clerical\", \"other-service\", \"adm-clerical\", \"machine-op-inspct\", \"handlers-cleaners\", \"armed-forces\", \"transport-moving\", \"sales\", \"exec-managerial\", \"tech-support\", \"adm-clerical\", \"machine-op-inspct\", \"other-service\", \"prof-specialty\", \"armed-forces\", \"sales\", \"transport-moving\", \"sales\", \"transport-moving\", \"handlers-cleaners\", \"transport-moving\", \"other-service\", \"handlers-cleaners\", \"exec-managerial\", \"exec-managerial\", \"other-service\", \"exec-managerial\", \"prof-specialty\", \"transport-moving\", \"priv-house-serv\", \"other-service\", \"prof-specialty\", \"exec-managerial\", \"sales\", \"tech-support\", \"farming-fishing\", \"exec-managerial\", \"machine-op-inspct\", \"armed-forces\", \"protective-serv\", \"farming-fishing\", \"machine-op-inspct\", \"exec-managerial\", \"protective-serv\", \"tech-support\", \"prof-specialty\", \"tech-support\", \"other-service\", \"prof-specialty\", \"prof-specialty\", \"handlers-cleaners\", \"machine-op-inspct\", \"sales\", \"prof-specialty\", \"craft-repair\", \"exec-managerial\", \"protective-serv\", \"armed-forces\", \"machine-op-inspct\", \"machine-op-inspct\", \"exec-managerial\", \"transport-moving\", \"adm-clerical\", \"priv-house-serv\", \"other-service\", \"other-service\", \"prof-specialty\", \"prof-specialty\", \"craft-repair\", \"protective-serv\", \"tech-support\", \"farming-fishing\", \"sales\", \"machine-op-inspct\", \"adm-clerical\", \"tech-support\", \"machine-op-inspct\", \"exec-managerial\", \"exec-managerial\", \"sales\", \"tech-support\", \"prof-specialty\", \"other-service\", \"machine-op-inspct\", \"transport-moving\", \"machine-op-inspct\", \"exec-managerial\", \"farming-fishing\", \"exec-managerial\", \"tech-support\", \"other-service\", \"adm-clerical\", \"craft-repair\", \"farming-fishing\", \"priv-house-serv\", \"exec-managerial\", \"craft-repair\", \"other-service\", \"sales\", \"exec-managerial\", \"prof-specialty\", \"machine-op-inspct\", \"transport-moving\", \"priv-house-serv\", \"farming-fishing\", \"exec-managerial\", \"prof-specialty\", \"prof-specialty\", \"armed-forces\", \"craft-repair\", \"farming-fishing\", \"machine-op-inspct\", \"other-service\", \"armed-forces\", \"machine-op-inspct\", \"protective-serv\", \"transport-moving\", \"farming-fishing\", \"tech-support\", \"protective-serv\", \"prof-specialty\", \"armed-forces\", \"tech-support\", \"handlers-cleaners\", \"adm-clerical\", \"tech-support\", \"tech-support\", \"craft-repair\", \"tech-support\", \"tech-support\", \"protective-serv\", \"tech-support\", \"adm-clerical\", \"tech-support\", \"farming-fishing\", \"handlers-cleaners\", \"other-service\", \"farming-fishing\", \"handlers-cleaners\", \"armed-forces\", \"adm-clerical\", \"armed-forces\", \"sales\", \"craft-repair\", \"transport-moving\", \"protective-serv\", \"machine-op-inspct\", \"sales\", \"tech-support\", \"sales\", \"handlers-cleaners\", \"adm-clerical\", \"sales\", \"handlers-cleaners\", \"priv-house-serv\", \"sales\", \"prof-specialty\", \"exec-managerial\", \"craft-repair\", \"machine-op-inspct\", \"transport-moving\", \"prof-specialty\", \"priv-house-serv\", \"farming-fishing\", \"other-service\", \"sales\", \"sales\", \"tech-support\", \"exec-managerial\", \"other-service\", \"prof-specialty\", \"craft-repair\", \"farming-fishing\", \"machine-op-inspct\", \"prof-specialty\", \"machine-op-inspct\", \"handlers-cleaners\", \"farming-fishing\", \"transport-moving\", \"craft-repair\", \"sales\", \"farming-fishing\", \"farming-fishing\", \"armed-forces\", \"adm-clerical\", \"exec-managerial\", \"tech-support\", \"armed-forces\", \"tech-support\", \"machine-op-inspct\", \"other-service\", \"machine-op-inspct\", \"armed-forces\", \"transport-moving\", \"sales\", \"transport-moving\", \"transport-moving\", \"tech-support\", \"farming-fishing\", \"craft-repair\", \"machine-op-inspct\", \"sales\", \"exec-managerial\", \"priv-house-serv\", \"other-service\", \"machine-op-inspct\", \"armed-forces\", \"protective-serv\", \"craft-repair\", \"machine-op-inspct\", \"handlers-cleaners\", \"protective-serv\", \"machine-op-inspct\", \"handlers-cleaners\", \"other-service\", \"craft-repair\", \"armed-forces\", \"other-service\", \"machine-op-inspct\", \"tech-support\", \"prof-specialty\", \"armed-forces\", \"other-service\", \"craft-repair\", \"craft-repair\", \"transport-moving\", \"tech-support\", \"priv-house-serv\", \"adm-clerical\", \"priv-house-serv\", \"transport-moving\", \"handlers-cleaners\", \"sales\", \"machine-op-inspct\", \"protective-serv\", \"handlers-cleaners\", \"sales\", \"exec-managerial\", \"prof-specialty\", \"protective-serv\", \"handlers-cleaners\", \"adm-clerical\", \"transport-moving\", \"farming-fishing\", \"handlers-cleaners\", \"sales\", \"transport-moving\", \"priv-house-serv\", \"handlers-cleaners\", \"farming-fishing\", \"protective-serv\", \"machine-op-inspct\", \"armed-forces\", \"sales\", \"sales\", \"handlers-cleaners\", \"protective-serv\", \"machine-op-inspct\", \"transport-moving\", \"exec-managerial\", \"adm-clerical\", \"transport-moving\", \"protective-serv\", \"sales\", \"adm-clerical\", \"handlers-cleaners\", \"priv-house-serv\", \"exec-managerial\", \"tech-support\", \"farming-fishing\", \"craft-repair\", \"armed-forces\", \"protective-serv\", \"machine-op-inspct\", \"transport-moving\", \"tech-support\", \"prof-specialty\", \"prof-specialty\", \"armed-forces\", \"armed-forces\", \"tech-support\", \"priv-house-serv\", \"priv-house-serv\", \"sales\", \"craft-repair\", \"armed-forces\", \"protective-serv\", \"tech-support\", \"transport-moving\", \"machine-op-inspct\", \"handlers-cleaners\", \"tech-support\", \"craft-repair\", \"tech-support\", \"machine-op-inspct\", \"craft-repair\", \"adm-clerical\", \"adm-clerical\", \"prof-specialty\", \"craft-repair\", \"other-service\", \"adm-clerical\", \"priv-house-serv\", \"transport-moving\", \"priv-house-serv\", \"prof-specialty\", \"sales\", \"adm-clerical\", \"adm-clerical\", \"exec-managerial\", \"adm-clerical\", \"craft-repair\", \"exec-managerial\", \"protective-serv\", \"farming-fishing\", \"sales\", \"armed-forces\", \"transport-moving\", \"sales\", \"craft-repair\", \"other-service\", \"transport-moving\", \"other-service\", \"craft-repair\", \"exec-managerial\", \"exec-managerial\", \"armed-forces\", \"protective-serv\", \"prof-specialty\", \"other-service\", \"machine-op-inspct\", \"machine-op-inspct\", \"priv-house-serv\", \"exec-managerial\", \"exec-managerial\", \"prof-specialty\", \"exec-managerial\", \"farming-fishing\", \"machine-op-inspct\", \"protective-serv\", \"adm-clerical\", \"prof-specialty\", \"armed-forces\", \"priv-house-serv\", \"transport-moving\", \"craft-repair\", \"sales\", \"armed-forces\", \"transport-moving\", \"adm-clerical\", \"machine-op-inspct\", \"exec-managerial\", \"exec-managerial\", \"adm-clerical\", \"machine-op-inspct\", \"farming-fishing\", \"prof-specialty\", \"armed-forces\", \"machine-op-inspct\", \"transport-moving\", \"priv-house-serv\", \"priv-house-serv\", \"exec-managerial\", \"tech-support\", \"prof-specialty\", \"handlers-cleaners\", \"other-service\", \"machine-op-inspct\", \"exec-managerial\", \"farming-fishing\", \"priv-house-serv\", \"exec-managerial\", \"transport-moving\", \"transport-moving\", \"priv-house-serv\", \"priv-house-serv\", \"priv-house-serv\", \"priv-house-serv\", \"machine-op-inspct\", \"exec-managerial\", \"priv-house-serv\", \"other-service\", \"handlers-cleaners\", \"protective-serv\", \"tech-support\", \"transport-moving\", \"protective-serv\", \"sales\", \"farming-fishing\", \"priv-house-serv\", \"tech-support\", \"adm-clerical\", \"other-service\", \"other-service\", \"transport-moving\", \"priv-house-serv\", \"transport-moving\", \"machine-op-inspct\", \"adm-clerical\", \"craft-repair\", \"transport-moving\", \"priv-house-serv\", \"other-service\", \"tech-support\", \"protective-serv\", \"tech-support\", \"prof-specialty\", \"handlers-cleaners\", \"handlers-cleaners\", \"transport-moving\", \"protective-serv\", \"farming-fishing\", \"protective-serv\", \"craft-repair\", \"tech-support\", \"armed-forces\", \"farming-fishing\", \"exec-managerial\", \"other-service\", \"adm-clerical\", \"farming-fishing\", \"armed-forces\", \"sales\", \"exec-managerial\", \"priv-house-serv\", \"handlers-cleaners\", \"armed-forces\", \"armed-forces\", \"adm-clerical\", \"other-service\", \"armed-forces\", \"prof-specialty\", \"transport-moving\", \"armed-forces\", \"machine-op-inspct\", \"machine-op-inspct\", \"adm-clerical\", \"armed-forces\", \"prof-specialty\", \"machine-op-inspct\", \"tech-support\", \"exec-managerial\", \"craft-repair\", \"craft-repair\", \"tech-support\", \"armed-forces\", \"handlers-cleaners\", \"farming-fishing\", \"sales\", \"tech-support\", \"prof-specialty\", \"machine-op-inspct\", \"sales\", \"priv-house-serv\", \"sales\", \"other-service\", \"transport-moving\", \"other-service\", \"tech-support\", \"adm-clerical\", \"armed-forces\", \"protective-serv\", \"tech-support\", \"transport-moving\", \"farming-fishing\", \"farming-fishing\", \"craft-repair\", \"tech-support\", \"prof-specialty\", \"prof-specialty\", \"sales\", \"machine-op-inspct\", \"sales\", \"sales\", \"prof-specialty\", \"craft-repair\", \"adm-clerical\", \"armed-forces\", \"sales\", \"tech-support\", \"priv-house-serv\", \"adm-clerical\", \"prof-specialty\", \"other-service\", \"farming-fishing\", \"prof-specialty\", \"protective-serv\", \"prof-specialty\", \"sales\", \"prof-specialty\", \"armed-forces\", \"tech-support\", \"armed-forces\", \"transport-moving\", \"armed-forces\", \"handlers-cleaners\", \"tech-support\", \"sales\", \"transport-moving\", \"other-service\", \"craft-repair\", \"exec-managerial\", \"craft-repair\", \"farming-fishing\", \"protective-serv\", \"adm-clerical\", \"other-service\", \"protective-serv\", \"exec-managerial\", \"exec-managerial\", \"craft-repair\", \"machine-op-inspct\", \"craft-repair\", \"prof-specialty\", \"adm-clerical\", \"other-service\", \"farming-fishing\", \"tech-support\", \"other-service\", \"other-service\", \"transport-moving\", \"machine-op-inspct\", \"machine-op-inspct\", \"sales\", \"protective-serv\", \"farming-fishing\", \"protective-serv\", \"priv-house-serv\", \"machine-op-inspct\", \"sales\", \"exec-managerial\", \"other-service\", \"priv-house-serv\", \"handlers-cleaners\", \"armed-forces\", \"machine-op-inspct\", \"craft-repair\", \"sales\", \"farming-fishing\", \"prof-specialty\", \"priv-house-serv\", \"sales\", \"handlers-cleaners\", \"exec-managerial\", \"machine-op-inspct\", \"sales\", \"adm-clerical\", \"armed-forces\", \"machine-op-inspct\", \"priv-house-serv\", \"exec-managerial\", \"adm-clerical\", \"priv-house-serv\", \"machine-op-inspct\", \"exec-managerial\", \"adm-clerical\", \"handlers-cleaners\", \"sales\", \"tech-support\", \"transport-moving\", \"tech-support\", \"farming-fishing\", \"machine-op-inspct\", \"machine-op-inspct\", \"transport-moving\", \"protective-serv\", \"machine-op-inspct\", \"sales\", \"machine-op-inspct\", \"sales\", \"exec-managerial\", \"protective-serv\", \"craft-repair\", \"machine-op-inspct\", \"prof-specialty\", \"transport-moving\", \"craft-repair\", \"handlers-cleaners\", \"craft-repair\", \"craft-repair\", \"craft-repair\", \"priv-house-serv\", \"adm-clerical\", \"armed-forces\", \"other-service\", \"exec-managerial\", \"prof-specialty\", \"armed-forces\", \"adm-clerical\", \"exec-managerial\", \"craft-repair\", \"other-service\", \"tech-support\", \"transport-moving\", \"handlers-cleaners\", \"prof-specialty\", \"adm-clerical\", \"craft-repair\", \"handlers-cleaners\", \"machine-op-inspct\", \"transport-moving\", \"machine-op-inspct\", \"sales\", \"adm-clerical\", \"farming-fishing\", \"armed-forces\", \"adm-clerical\", \"prof-specialty\", \"priv-house-serv\", \"sales\", \"machine-op-inspct\", \"machine-op-inspct\", \"transport-moving\", \"craft-repair\", \"sales\", \"other-service\", \"farming-fishing\", \"adm-clerical\", \"tech-support\", \"adm-clerical\", \"other-service\", \"machine-op-inspct\", \"farming-fishing\", \"machine-op-inspct\", \"armed-forces\", \"other-service\", \"handlers-cleaners\", \"prof-specialty\", \"priv-house-serv\", \"tech-support\", \"transport-moving\", \"exec-managerial\", \"armed-forces\", \"handlers-cleaners\", \"tech-support\", \"prof-specialty\", \"machine-op-inspct\", \"protective-serv\", \"farming-fishing\", \"transport-moving\", \"tech-support\", \"other-service\", \"transport-moving\", \"tech-support\", \"exec-managerial\", \"tech-support\", \"sales\", \"machine-op-inspct\", \"tech-support\", \"handlers-cleaners\", \"farming-fishing\", \"priv-house-serv\", \"handlers-cleaners\", \"other-service\", \"protective-serv\", \"protective-serv\", \"transport-moving\", \"handlers-cleaners\", \"prof-specialty\", \"prof-specialty\", \"priv-house-serv\", \"exec-managerial\", \"prof-specialty\", \"craft-repair\", \"sales\", \"handlers-cleaners\", \"prof-specialty\", \"prof-specialty\", \"tech-support\", \"adm-clerical\", \"farming-fishing\", \"protective-serv\", \"farming-fishing\", \"prof-specialty\", \"transport-moving\", \"prof-specialty\", \"craft-repair\", \"adm-clerical\", \"exec-managerial\", \"other-service\", \"exec-managerial\", \"prof-specialty\", \"sales\", \"craft-repair\", \"adm-clerical\", \"machine-op-inspct\", \"exec-managerial\", \"sales\", \"exec-managerial\", \"armed-forces\", \"sales\", \"machine-op-inspct\", \"tech-support\", \"priv-house-serv\", \"handlers-cleaners\", \"machine-op-inspct\", \"sales\", \"protective-serv\", \"machine-op-inspct\", \"prof-specialty\", \"machine-op-inspct\", \"prof-specialty\", \"protective-serv\", \"armed-forces\", \"protective-serv\", \"craft-repair\", \"adm-clerical\", \"handlers-cleaners\", \"adm-clerical\", \"prof-specialty\", \"transport-moving\", \"adm-clerical\", \"armed-forces\", \"prof-specialty\", \"transport-moving\", \"tech-support\", \"farming-fishing\", \"machine-op-inspct\", \"tech-support\", \"protective-serv\", \"sales\", \"priv-house-serv\", \"tech-support\", \"handlers-cleaners\", \"armed-forces\", \"tech-support\", \"other-service\", \"machine-op-inspct\", \"machine-op-inspct\", \"priv-house-serv\", \"adm-clerical\", \"tech-support\", \"sales\", \"tech-support\", \"prof-specialty\", \"armed-forces\", \"farming-fishing\", \"transport-moving\", \"adm-clerical\", \"machine-op-inspct\", \"craft-repair\", \"armed-forces\", \"armed-forces\", \"transport-moving\", \"armed-forces\", \"prof-specialty\", \"machine-op-inspct\", \"craft-repair\", \"machine-op-inspct\", \"prof-specialty\", \"protective-serv\", \"protective-serv\", \"other-service\", \"handlers-cleaners\", \"protective-serv\", \"transport-moving\", \"prof-specialty\", \"tech-support\", \"craft-repair\", \"adm-clerical\", \"exec-managerial\", \"prof-specialty\", \"prof-specialty\", \"other-service\", \"machine-op-inspct\", \"craft-repair\", \"prof-specialty\", \"craft-repair\", \"transport-moving\", \"priv-house-serv\", \"priv-house-serv\", \"prof-specialty\", \"protective-serv\", \"adm-clerical\", \"exec-managerial\", \"prof-specialty\", \"machine-op-inspct\", \"other-service\", \"other-service\", \"transport-moving\", \"machine-op-inspct\", \"armed-forces\", \"protective-serv\", \"farming-fishing\", \"craft-repair\", \"tech-support\", \"protective-serv\", \"prof-specialty\", \"armed-forces\", \"priv-house-serv\", \"sales\", \"craft-repair\", \"priv-house-serv\", \"prof-specialty\", \"farming-fishing\", \"exec-managerial\", \"handlers-cleaners\", \"machine-op-inspct\", \"armed-forces\", \"tech-support\", \"priv-house-serv\", \"tech-support\", \"exec-managerial\", \"adm-clerical\", \"other-service\", \"other-service\", \"armed-forces\", \"priv-house-serv\", \"priv-house-serv\", \"armed-forces\", \"protective-serv\", \"priv-house-serv\", \"farming-fishing\", \"exec-managerial\", \"prof-specialty\", \"machine-op-inspct\", \"armed-forces\", \"sales\", \"tech-support\", \"protective-serv\", \"priv-house-serv\", \"handlers-cleaners\", \"priv-house-serv\", \"priv-house-serv\", \"farming-fishing\", \"machine-op-inspct\", \"exec-managerial\", \"transport-moving\", \"other-service\", \"craft-repair\", \"armed-forces\", \"other-service\", \"craft-repair\", \"priv-house-serv\", \"exec-managerial\", \"adm-clerical\", \"transport-moving\", \"priv-house-serv\", \"armed-forces\", \"exec-managerial\", \"exec-managerial\", \"sales\", \"craft-repair\", \"sales\", \"exec-managerial\", \"handlers-cleaners\", \"armed-forces\", \"tech-support\", \"adm-clerical\", \"priv-house-serv\", \"priv-house-serv\", \"priv-house-serv\", \"transport-moving\", \"sales\", \"exec-managerial\", \"exec-managerial\", \"craft-repair\", \"transport-moving\", \"sales\", \"adm-clerical\", \"tech-support\", \"prof-specialty\", \"protective-serv\", \"transport-moving\", \"other-service\", \"priv-house-serv\", \"other-service\", \"farming-fishing\", \"adm-clerical\", \"transport-moving\", \"prof-specialty\", \"priv-house-serv\", \"sales\", \"adm-clerical\", \"sales\", \"craft-repair\", \"machine-op-inspct\", \"armed-forces\", \"priv-house-serv\", \"protective-serv\", \"protective-serv\", \"prof-specialty\", \"other-service\", \"craft-repair\", \"machine-op-inspct\", \"other-service\", \"armed-forces\", \"prof-specialty\", \"handlers-cleaners\", \"other-service\", \"sales\", \"sales\", \"tech-support\", \"transport-moving\", \"protective-serv\", \"handlers-cleaners\", \"protective-serv\", \"craft-repair\", \"craft-repair\", \"machine-op-inspct\", \"priv-house-serv\", \"priv-house-serv\", \"protective-serv\", \"protective-serv\", \"adm-clerical\", \"transport-moving\", \"protective-serv\", \"craft-repair\", \"handlers-cleaners\", \"sales\", \"protective-serv\", \"tech-support\", \"adm-clerical\", \"tech-support\", \"priv-house-serv\", \"other-service\", \"tech-support\", \"transport-moving\", \"protective-serv\", \"craft-repair\", \"adm-clerical\", \"craft-repair\", \"farming-fishing\", \"handlers-cleaners\", \"handlers-cleaners\", \"exec-managerial\", \"adm-clerical\", \"other-service\", \"other-service\", \"handlers-cleaners\", \"craft-repair\", \"armed-forces\", \"exec-managerial\", \"prof-specialty\", \"other-service\", \"exec-managerial\", \"exec-managerial\", \"sales\", \"craft-repair\", \"prof-specialty\", \"armed-forces\", \"handlers-cleaners\", \"sales\"]}],                        {\"template\": {\"data\": {\"bar\": [{\"error_x\": {\"color\": \"#2a3f5f\"}, \"error_y\": {\"color\": \"#2a3f5f\"}, \"marker\": {\"line\": {\"color\": \"#E5ECF6\", \"width\": 0.5}}, \"type\": \"bar\"}], \"barpolar\": [{\"marker\": {\"line\": {\"color\": \"#E5ECF6\", \"width\": 0.5}}, \"type\": \"barpolar\"}], \"carpet\": [{\"aaxis\": {\"endlinecolor\": \"#2a3f5f\", \"gridcolor\": \"white\", \"linecolor\": \"white\", \"minorgridcolor\": \"white\", \"startlinecolor\": \"#2a3f5f\"}, \"baxis\": {\"endlinecolor\": \"#2a3f5f\", \"gridcolor\": \"white\", \"linecolor\": \"white\", \"minorgridcolor\": \"white\", \"startlinecolor\": \"#2a3f5f\"}, \"type\": \"carpet\"}], \"choropleth\": [{\"colorbar\": {\"outlinewidth\": 0, \"ticks\": \"\"}, \"type\": \"choropleth\"}], \"contour\": [{\"colorbar\": {\"outlinewidth\": 0, \"ticks\": \"\"}, \"colorscale\": [[0.0, \"#0d0887\"], [0.1111111111111111, \"#46039f\"], [0.2222222222222222, \"#7201a8\"], [0.3333333333333333, \"#9c179e\"], [0.4444444444444444, \"#bd3786\"], [0.5555555555555556, \"#d8576b\"], [0.6666666666666666, \"#ed7953\"], [0.7777777777777778, \"#fb9f3a\"], [0.8888888888888888, \"#fdca26\"], [1.0, \"#f0f921\"]], \"type\": \"contour\"}], \"contourcarpet\": [{\"colorbar\": {\"outlinewidth\": 0, \"ticks\": \"\"}, \"type\": \"contourcarpet\"}], \"heatmap\": [{\"colorbar\": {\"outlinewidth\": 0, \"ticks\": \"\"}, \"colorscale\": [[0.0, \"#0d0887\"], [0.1111111111111111, \"#46039f\"], [0.2222222222222222, \"#7201a8\"], [0.3333333333333333, \"#9c179e\"], [0.4444444444444444, \"#bd3786\"], [0.5555555555555556, \"#d8576b\"], [0.6666666666666666, \"#ed7953\"], [0.7777777777777778, \"#fb9f3a\"], [0.8888888888888888, \"#fdca26\"], [1.0, \"#f0f921\"]], \"type\": \"heatmap\"}], \"heatmapgl\": [{\"colorbar\": {\"outlinewidth\": 0, \"ticks\": \"\"}, \"colorscale\": [[0.0, \"#0d0887\"], [0.1111111111111111, \"#46039f\"], [0.2222222222222222, \"#7201a8\"], [0.3333333333333333, \"#9c179e\"], [0.4444444444444444, \"#bd3786\"], [0.5555555555555556, \"#d8576b\"], [0.6666666666666666, \"#ed7953\"], [0.7777777777777778, \"#fb9f3a\"], [0.8888888888888888, \"#fdca26\"], [1.0, \"#f0f921\"]], \"type\": \"heatmapgl\"}], \"histogram\": [{\"marker\": {\"colorbar\": {\"outlinewidth\": 0, \"ticks\": \"\"}}, \"type\": \"histogram\"}], \"histogram2d\": [{\"colorbar\": {\"outlinewidth\": 0, \"ticks\": \"\"}, \"colorscale\": [[0.0, \"#0d0887\"], [0.1111111111111111, \"#46039f\"], [0.2222222222222222, \"#7201a8\"], [0.3333333333333333, \"#9c179e\"], [0.4444444444444444, \"#bd3786\"], [0.5555555555555556, \"#d8576b\"], [0.6666666666666666, \"#ed7953\"], [0.7777777777777778, \"#fb9f3a\"], [0.8888888888888888, \"#fdca26\"], [1.0, \"#f0f921\"]], \"type\": \"histogram2d\"}], \"histogram2dcontour\": [{\"colorbar\": {\"outlinewidth\": 0, \"ticks\": \"\"}, \"colorscale\": [[0.0, \"#0d0887\"], [0.1111111111111111, \"#46039f\"], [0.2222222222222222, \"#7201a8\"], [0.3333333333333333, \"#9c179e\"], [0.4444444444444444, \"#bd3786\"], [0.5555555555555556, \"#d8576b\"], [0.6666666666666666, \"#ed7953\"], [0.7777777777777778, \"#fb9f3a\"], [0.8888888888888888, \"#fdca26\"], [1.0, \"#f0f921\"]], \"type\": \"histogram2dcontour\"}], \"mesh3d\": [{\"colorbar\": {\"outlinewidth\": 0, \"ticks\": \"\"}, \"type\": \"mesh3d\"}], \"parcoords\": [{\"line\": {\"colorbar\": {\"outlinewidth\": 0, \"ticks\": \"\"}}, \"type\": \"parcoords\"}], \"pie\": [{\"automargin\": true, \"type\": \"pie\"}], \"scatter\": [{\"marker\": {\"colorbar\": {\"outlinewidth\": 0, \"ticks\": \"\"}}, \"type\": \"scatter\"}], \"scatter3d\": [{\"line\": {\"colorbar\": {\"outlinewidth\": 0, \"ticks\": \"\"}}, \"marker\": {\"colorbar\": {\"outlinewidth\": 0, \"ticks\": \"\"}}, \"type\": \"scatter3d\"}], \"scattercarpet\": [{\"marker\": {\"colorbar\": {\"outlinewidth\": 0, \"ticks\": \"\"}}, \"type\": \"scattercarpet\"}], \"scattergeo\": [{\"marker\": {\"colorbar\": {\"outlinewidth\": 0, \"ticks\": \"\"}}, \"type\": \"scattergeo\"}], \"scattergl\": [{\"marker\": {\"colorbar\": {\"outlinewidth\": 0, \"ticks\": \"\"}}, \"type\": \"scattergl\"}], \"scattermapbox\": [{\"marker\": {\"colorbar\": {\"outlinewidth\": 0, \"ticks\": \"\"}}, \"type\": \"scattermapbox\"}], \"scatterpolar\": [{\"marker\": {\"colorbar\": {\"outlinewidth\": 0, \"ticks\": \"\"}}, \"type\": \"scatterpolar\"}], \"scatterpolargl\": [{\"marker\": {\"colorbar\": {\"outlinewidth\": 0, \"ticks\": \"\"}}, \"type\": \"scatterpolargl\"}], \"scatterternary\": [{\"marker\": {\"colorbar\": {\"outlinewidth\": 0, \"ticks\": \"\"}}, \"type\": \"scatterternary\"}], \"surface\": [{\"colorbar\": {\"outlinewidth\": 0, \"ticks\": \"\"}, \"colorscale\": [[0.0, \"#0d0887\"], [0.1111111111111111, \"#46039f\"], [0.2222222222222222, \"#7201a8\"], [0.3333333333333333, \"#9c179e\"], [0.4444444444444444, \"#bd3786\"], [0.5555555555555556, \"#d8576b\"], [0.6666666666666666, \"#ed7953\"], [0.7777777777777778, \"#fb9f3a\"], [0.8888888888888888, \"#fdca26\"], [1.0, \"#f0f921\"]], \"type\": \"surface\"}], \"table\": [{\"cells\": {\"fill\": {\"color\": \"#EBF0F8\"}, \"line\": {\"color\": \"white\"}}, \"header\": {\"fill\": {\"color\": \"#C8D4E3\"}, \"line\": {\"color\": \"white\"}}, \"type\": \"table\"}]}, \"layout\": {\"annotationdefaults\": {\"arrowcolor\": \"#2a3f5f\", \"arrowhead\": 0, \"arrowwidth\": 1}, \"autotypenumbers\": \"strict\", \"coloraxis\": {\"colorbar\": {\"outlinewidth\": 0, \"ticks\": \"\"}}, \"colorscale\": {\"diverging\": [[0, \"#8e0152\"], [0.1, \"#c51b7d\"], [0.2, \"#de77ae\"], [0.3, \"#f1b6da\"], [0.4, \"#fde0ef\"], [0.5, \"#f7f7f7\"], [0.6, \"#e6f5d0\"], [0.7, \"#b8e186\"], [0.8, \"#7fbc41\"], [0.9, \"#4d9221\"], [1, \"#276419\"]], \"sequential\": [[0.0, \"#0d0887\"], [0.1111111111111111, \"#46039f\"], [0.2222222222222222, \"#7201a8\"], [0.3333333333333333, \"#9c179e\"], [0.4444444444444444, \"#bd3786\"], [0.5555555555555556, \"#d8576b\"], [0.6666666666666666, \"#ed7953\"], [0.7777777777777778, \"#fb9f3a\"], [0.8888888888888888, \"#fdca26\"], [1.0, \"#f0f921\"]], \"sequentialminus\": [[0.0, \"#0d0887\"], [0.1111111111111111, \"#46039f\"], [0.2222222222222222, \"#7201a8\"], [0.3333333333333333, \"#9c179e\"], [0.4444444444444444, \"#bd3786\"], [0.5555555555555556, \"#d8576b\"], [0.6666666666666666, \"#ed7953\"], [0.7777777777777778, \"#fb9f3a\"], [0.8888888888888888, \"#fdca26\"], [1.0, \"#f0f921\"]]}, \"colorway\": [\"#636efa\", \"#EF553B\", \"#00cc96\", \"#ab63fa\", \"#FFA15A\", \"#19d3f3\", \"#FF6692\", \"#B6E880\", \"#FF97FF\", \"#FECB52\"], \"font\": {\"color\": \"#2a3f5f\"}, \"geo\": {\"bgcolor\": \"white\", \"lakecolor\": \"white\", \"landcolor\": \"#E5ECF6\", \"showlakes\": true, \"showland\": true, \"subunitcolor\": \"white\"}, \"hoverlabel\": {\"align\": \"left\"}, \"hovermode\": \"closest\", \"mapbox\": {\"style\": \"light\"}, \"paper_bgcolor\": \"white\", \"plot_bgcolor\": \"#E5ECF6\", \"polar\": {\"angularaxis\": {\"gridcolor\": \"white\", \"linecolor\": \"white\", \"ticks\": \"\"}, \"bgcolor\": \"#E5ECF6\", \"radialaxis\": {\"gridcolor\": \"white\", \"linecolor\": \"white\", \"ticks\": \"\"}}, \"scene\": {\"xaxis\": {\"backgroundcolor\": \"#E5ECF6\", \"gridcolor\": \"white\", \"gridwidth\": 2, \"linecolor\": \"white\", \"showbackground\": true, \"ticks\": \"\", \"zerolinecolor\": \"white\"}, \"yaxis\": {\"backgroundcolor\": \"#E5ECF6\", \"gridcolor\": \"white\", \"gridwidth\": 2, \"linecolor\": \"white\", \"showbackground\": true, \"ticks\": \"\", \"zerolinecolor\": \"white\"}, \"zaxis\": {\"backgroundcolor\": \"#E5ECF6\", \"gridcolor\": \"white\", \"gridwidth\": 2, \"linecolor\": \"white\", \"showbackground\": true, \"ticks\": \"\", \"zerolinecolor\": \"white\"}}, \"shapedefaults\": {\"line\": {\"color\": \"#2a3f5f\"}}, \"ternary\": {\"aaxis\": {\"gridcolor\": \"white\", \"linecolor\": \"white\", \"ticks\": \"\"}, \"baxis\": {\"gridcolor\": \"white\", \"linecolor\": \"white\", \"ticks\": \"\"}, \"bgcolor\": \"#E5ECF6\", \"caxis\": {\"gridcolor\": \"white\", \"linecolor\": \"white\", \"ticks\": \"\"}}, \"title\": {\"x\": 0.05}, \"xaxis\": {\"automargin\": true, \"gridcolor\": \"white\", \"linecolor\": \"white\", \"ticks\": \"\", \"title\": {\"standoff\": 15}, \"zerolinecolor\": \"white\", \"zerolinewidth\": 2}, \"yaxis\": {\"automargin\": true, \"gridcolor\": \"white\", \"linecolor\": \"white\", \"ticks\": \"\", \"title\": {\"standoff\": 15}, \"zerolinecolor\": \"white\", \"zerolinewidth\": 2}}}, \"title\": {\"text\": \"Occupation of the Customers\"}},                        {\"responsive\": true}                    ).then(function(){\n",
       "                            \n",
       "var gd = document.getElementById('7ff69dac-bf6c-4394-bb40-d9dd426accfb');\n",
       "var x = new MutationObserver(function (mutations, observer) {{\n",
       "        var display = window.getComputedStyle(gd).display;\n",
       "        if (!display || display === 'none') {{\n",
       "            console.log([gd, 'removed!']);\n",
       "            Plotly.purge(gd);\n",
       "            observer.disconnect();\n",
       "        }}\n",
       "}});\n",
       "\n",
       "// Listen for the removal of the full notebook cells\n",
       "var notebookContainer = gd.closest('#notebook-container');\n",
       "if (notebookContainer) {{\n",
       "    x.observe(notebookContainer, {childList: true});\n",
       "}}\n",
       "\n",
       "// Listen for the clearing of the current output cell\n",
       "var outputEl = gd.closest('.output');\n",
       "if (outputEl) {{\n",
       "    x.observe(outputEl, {childList: true});\n",
       "}}\n",
       "\n",
       "                        })                };                });            </script>        </div>"
      ]
     },
     "metadata": {},
     "output_type": "display_data"
    }
   ],
   "source": [
    "trace = go.Histogram(\n",
    "          x = data['insured_occupation'],\n",
    "          name = 'Marvel',\n",
    "          opacity = 0.75,\n",
    "          marker = dict(\n",
    "                 color = 'rgb(15, 255, 185, 0.5)'\n",
    "          )\n",
    ")\n",
    "df = [trace]\n",
    "\n",
    "layout = go.Layout(\n",
    "    title = 'Occupation of the Customers')\n",
    "\n",
    "fig = go.Figure(data = df, layout = layout)\n",
    "py.iplot(fig)"
   ]
  },
  {
   "cell_type": "code",
   "execution_count": 13,
   "metadata": {},
   "outputs": [
    {
     "data": {
      "application/vnd.plotly.v1+json": {
       "config": {
        "linkText": "Export to plot.ly",
        "plotlyServerURL": "https://plot.ly",
        "showLink": false
       },
       "data": [
        {
         "marker": {
          "color": "rgb(195, 195, 145, 0.5)"
         },
         "name": "Marvel",
         "opacity": 0.75,
         "type": "histogram",
         "x": [
          "MD",
          "MD",
          "PhD",
          "PhD",
          "Associate",
          "PhD",
          "PhD",
          "Associate",
          "PhD",
          "PhD",
          "Masters",
          "High School",
          "MD",
          "MD",
          "College",
          "MD",
          "College",
          "High School",
          "MD",
          "High School",
          "JD",
          "Associate",
          "High School",
          "MD",
          "College",
          "Masters",
          "High School",
          "JD",
          "JD",
          "PhD",
          "Masters",
          "JD",
          "Associate",
          "High School",
          "PhD",
          "High School",
          "Masters",
          "JD",
          "MD",
          "JD",
          "Associate",
          "Associate",
          "College",
          "PhD",
          "JD",
          "MD",
          "Associate",
          "College",
          "PhD",
          "Masters",
          "MD",
          "JD",
          "College",
          "JD",
          "PhD",
          "PhD",
          "PhD",
          "Masters",
          "PhD",
          "MD",
          "PhD",
          "JD",
          "High School",
          "JD",
          "PhD",
          "MD",
          "High School",
          "Associate",
          "MD",
          "MD",
          "Associate",
          "MD",
          "Associate",
          "College",
          "Associate",
          "High School",
          "College",
          "College",
          "JD",
          "PhD",
          "High School",
          "Masters",
          "Masters",
          "High School",
          "Masters",
          "High School",
          "Associate",
          "MD",
          "College",
          "College",
          "High School",
          "Associate",
          "PhD",
          "MD",
          "High School",
          "PhD",
          "Associate",
          "Masters",
          "College",
          "College",
          "College",
          "College",
          "JD",
          "Associate",
          "College",
          "College",
          "Associate",
          "High School",
          "PhD",
          "Masters",
          "College",
          "PhD",
          "High School",
          "MD",
          "Associate",
          "MD",
          "PhD",
          "High School",
          "PhD",
          "Associate",
          "High School",
          "MD",
          "Masters",
          "College",
          "JD",
          "JD",
          "MD",
          "High School",
          "College",
          "Masters",
          "JD",
          "Masters",
          "Masters",
          "High School",
          "PhD",
          "College",
          "High School",
          "PhD",
          "High School",
          "MD",
          "Masters",
          "Masters",
          "PhD",
          "MD",
          "JD",
          "Associate",
          "Masters",
          "MD",
          "PhD",
          "JD",
          "PhD",
          "Masters",
          "High School",
          "Masters",
          "Masters",
          "Associate",
          "JD",
          "JD",
          "Masters",
          "JD",
          "Associate",
          "MD",
          "MD",
          "Masters",
          "Masters",
          "PhD",
          "Associate",
          "High School",
          "Masters",
          "High School",
          "Associate",
          "High School",
          "College",
          "MD",
          "PhD",
          "MD",
          "Masters",
          "PhD",
          "Masters",
          "MD",
          "Associate",
          "Masters",
          "Masters",
          "JD",
          "Masters",
          "JD",
          "JD",
          "JD",
          "High School",
          "High School",
          "Associate",
          "JD",
          "MD",
          "High School",
          "MD",
          "High School",
          "MD",
          "MD",
          "Masters",
          "College",
          "PhD",
          "PhD",
          "High School",
          "PhD",
          "JD",
          "Masters",
          "College",
          "Masters",
          "JD",
          "Associate",
          "High School",
          "High School",
          "High School",
          "MD",
          "JD",
          "PhD",
          "High School",
          "Masters",
          "MD",
          "College",
          "College",
          "College",
          "High School",
          "Associate",
          "Associate",
          "Masters",
          "High School",
          "Associate",
          "MD",
          "MD",
          "High School",
          "JD",
          "Masters",
          "MD",
          "JD",
          "Masters",
          "JD",
          "MD",
          "Associate",
          "Masters",
          "MD",
          "College",
          "JD",
          "College",
          "Associate",
          "Associate",
          "JD",
          "JD",
          "Masters",
          "High School",
          "Associate",
          "MD",
          "High School",
          "PhD",
          "JD",
          "High School",
          "Associate",
          "Associate",
          "MD",
          "PhD",
          "Masters",
          "PhD",
          "College",
          "Masters",
          "MD",
          "High School",
          "JD",
          "JD",
          "Associate",
          "Associate",
          "College",
          "Associate",
          "MD",
          "JD",
          "Masters",
          "Associate",
          "Associate",
          "PhD",
          "JD",
          "College",
          "JD",
          "Associate",
          "PhD",
          "PhD",
          "MD",
          "High School",
          "JD",
          "Associate",
          "JD",
          "College",
          "Associate",
          "College",
          "High School",
          "High School",
          "High School",
          "Associate",
          "College",
          "College",
          "MD",
          "High School",
          "Masters",
          "Associate",
          "College",
          "JD",
          "High School",
          "JD",
          "PhD",
          "Associate",
          "Associate",
          "Masters",
          "PhD",
          "MD",
          "Associate",
          "PhD",
          "Masters",
          "MD",
          "High School",
          "Associate",
          "High School",
          "Associate",
          "High School",
          "JD",
          "High School",
          "Masters",
          "College",
          "JD",
          "High School",
          "PhD",
          "MD",
          "PhD",
          "Masters",
          "PhD",
          "JD",
          "MD",
          "College",
          "JD",
          "College",
          "Associate",
          "Associate",
          "MD",
          "JD",
          "Associate",
          "College",
          "Masters",
          "Associate",
          "PhD",
          "Associate",
          "PhD",
          "JD",
          "MD",
          "JD",
          "Associate",
          "High School",
          "Masters",
          "High School",
          "MD",
          "MD",
          "College",
          "College",
          "PhD",
          "Associate",
          "College",
          "MD",
          "Associate",
          "High School",
          "Masters",
          "Masters",
          "Associate",
          "JD",
          "PhD",
          "High School",
          "PhD",
          "PhD",
          "JD",
          "College",
          "Masters",
          "Associate",
          "JD",
          "JD",
          "College",
          "Associate",
          "PhD",
          "PhD",
          "JD",
          "Masters",
          "High School",
          "College",
          "Associate",
          "JD",
          "JD",
          "JD",
          "PhD",
          "High School",
          "MD",
          "High School",
          "PhD",
          "High School",
          "Masters",
          "High School",
          "MD",
          "Masters",
          "MD",
          "College",
          "Associate",
          "College",
          "College",
          "MD",
          "High School",
          "Masters",
          "College",
          "Associate",
          "High School",
          "College",
          "Masters",
          "Associate",
          "High School",
          "Masters",
          "JD",
          "High School",
          "JD",
          "College",
          "MD",
          "High School",
          "MD",
          "Masters",
          "College",
          "Masters",
          "High School",
          "Masters",
          "Masters",
          "JD",
          "PhD",
          "Masters",
          "College",
          "Associate",
          "MD",
          "JD",
          "PhD",
          "PhD",
          "JD",
          "Masters",
          "MD",
          "PhD",
          "JD",
          "Associate",
          "High School",
          "JD",
          "Associate",
          "PhD",
          "Masters",
          "PhD",
          "College",
          "College",
          "Associate",
          "Associate",
          "Associate",
          "Masters",
          "Masters",
          "MD",
          "PhD",
          "High School",
          "MD",
          "PhD",
          "JD",
          "PhD",
          "Associate",
          "Masters",
          "College",
          "High School",
          "PhD",
          "JD",
          "MD",
          "PhD",
          "PhD",
          "JD",
          "Masters",
          "High School",
          "MD",
          "Masters",
          "MD",
          "College",
          "Masters",
          "JD",
          "JD",
          "High School",
          "Associate",
          "High School",
          "High School",
          "College",
          "JD",
          "High School",
          "High School",
          "MD",
          "Masters",
          "Associate",
          "PhD",
          "Associate",
          "College",
          "MD",
          "PhD",
          "JD",
          "Masters",
          "Associate",
          "PhD",
          "JD",
          "MD",
          "PhD",
          "High School",
          "High School",
          "College",
          "High School",
          "JD",
          "JD",
          "College",
          "College",
          "JD",
          "College",
          "High School",
          "JD",
          "Associate",
          "JD",
          "PhD",
          "College",
          "MD",
          "Associate",
          "JD",
          "High School",
          "Masters",
          "Associate",
          "High School",
          "Masters",
          "College",
          "PhD",
          "JD",
          "PhD",
          "College",
          "MD",
          "Associate",
          "High School",
          "College",
          "PhD",
          "JD",
          "MD",
          "Masters",
          "MD",
          "Associate",
          "MD",
          "MD",
          "JD",
          "PhD",
          "High School",
          "Associate",
          "Masters",
          "High School",
          "JD",
          "Masters",
          "College",
          "PhD",
          "College",
          "PhD",
          "Masters",
          "MD",
          "College",
          "Associate",
          "JD",
          "PhD",
          "High School",
          "High School",
          "JD",
          "College",
          "JD",
          "JD",
          "Masters",
          "JD",
          "JD",
          "PhD",
          "MD",
          "High School",
          "PhD",
          "PhD",
          "High School",
          "Associate",
          "JD",
          "Masters",
          "High School",
          "MD",
          "College",
          "JD",
          "Masters",
          "Associate",
          "College",
          "Associate",
          "College",
          "JD",
          "High School",
          "JD",
          "College",
          "JD",
          "High School",
          "Masters",
          "High School",
          "Masters",
          "JD",
          "Masters",
          "JD",
          "High School",
          "Associate",
          "Masters",
          "MD",
          "Masters",
          "Masters",
          "MD",
          "Associate",
          "High School",
          "MD",
          "High School",
          "JD",
          "MD",
          "JD",
          "Associate",
          "MD",
          "Masters",
          "MD",
          "High School",
          "Associate",
          "MD",
          "Masters",
          "Associate",
          "JD",
          "High School",
          "MD",
          "Associate",
          "Masters",
          "MD",
          "Masters",
          "High School",
          "High School",
          "Masters",
          "PhD",
          "Associate",
          "Masters",
          "JD",
          "High School",
          "Masters",
          "College",
          "MD",
          "High School",
          "College",
          "Associate",
          "MD",
          "High School",
          "College",
          "College",
          "High School",
          "High School",
          "Associate",
          "Associate",
          "High School",
          "Associate",
          "JD",
          "College",
          "College",
          "PhD",
          "High School",
          "Masters",
          "Associate",
          "Masters",
          "JD",
          "Masters",
          "JD",
          "MD",
          "Masters",
          "Masters",
          "College",
          "College",
          "High School",
          "MD",
          "JD",
          "High School",
          "Masters",
          "MD",
          "Associate",
          "JD",
          "High School",
          "College",
          "Masters",
          "High School",
          "JD",
          "High School",
          "PhD",
          "PhD",
          "High School",
          "JD",
          "PhD",
          "High School",
          "Masters",
          "College",
          "Associate",
          "Associate",
          "Masters",
          "MD",
          "Associate",
          "High School",
          "High School",
          "Masters",
          "JD",
          "Masters",
          "High School",
          "MD",
          "College",
          "Associate",
          "JD",
          "MD",
          "High School",
          "Masters",
          "College",
          "MD",
          "Masters",
          "Masters",
          "Associate",
          "Associate",
          "Masters",
          "Associate",
          "Associate",
          "PhD",
          "College",
          "PhD",
          "JD",
          "College",
          "College",
          "MD",
          "High School",
          "Associate",
          "PhD",
          "JD",
          "MD",
          "JD",
          "High School",
          "College",
          "Associate",
          "MD",
          "College",
          "PhD",
          "PhD",
          "MD",
          "Masters",
          "PhD",
          "MD",
          "College",
          "MD",
          "Associate",
          "PhD",
          "PhD",
          "JD",
          "MD",
          "High School",
          "Masters",
          "College",
          "High School",
          "Associate",
          "Masters",
          "College",
          "PhD",
          "College",
          "High School",
          "JD",
          "JD",
          "MD",
          "High School",
          "JD",
          "JD",
          "PhD",
          "MD",
          "College",
          "High School",
          "MD",
          "High School",
          "JD",
          "PhD",
          "High School",
          "Masters",
          "MD",
          "Associate",
          "PhD",
          "MD",
          "Associate",
          "College",
          "College",
          "College",
          "JD",
          "Masters",
          "Associate",
          "High School",
          "Masters",
          "College",
          "MD",
          "Masters",
          "PhD",
          "High School",
          "MD",
          "College",
          "JD",
          "College",
          "Masters",
          "MD",
          "Masters",
          "College",
          "JD",
          "JD",
          "Associate",
          "PhD",
          "Masters",
          "Masters",
          "MD",
          "Masters",
          "PhD",
          "College",
          "High School",
          "College",
          "High School",
          "High School",
          "PhD",
          "JD",
          "PhD",
          "MD",
          "JD",
          "PhD",
          "MD",
          "Associate",
          "Masters",
          "MD",
          "JD",
          "JD",
          "JD",
          "PhD",
          "JD",
          "JD",
          "PhD",
          "PhD",
          "Associate",
          "High School",
          "JD",
          "JD",
          "Masters",
          "Associate",
          "Masters",
          "Associate",
          "Associate",
          "MD",
          "Associate",
          "Associate",
          "MD",
          "MD",
          "Associate",
          "College",
          "High School",
          "Associate",
          "MD",
          "College",
          "PhD",
          "MD",
          "Masters",
          "College",
          "Associate",
          "Associate",
          "Associate",
          "JD",
          "JD",
          "College",
          "JD",
          "JD",
          "JD",
          "Associate",
          "PhD",
          "JD",
          "MD",
          "Masters",
          "MD",
          "PhD",
          "MD",
          "MD",
          "MD",
          "High School",
          "Associate",
          "JD",
          "JD",
          "High School",
          "College",
          "MD",
          "Masters",
          "JD",
          "MD",
          "Masters",
          "High School",
          "MD",
          "High School",
          "Associate",
          "JD",
          "PhD",
          "Associate",
          "Associate",
          "High School",
          "JD",
          "PhD",
          "High School",
          "Associate",
          "JD",
          "High School",
          "MD",
          "Masters",
          "College",
          "JD",
          "Masters",
          "MD",
          "JD",
          "High School",
          "High School",
          "PhD",
          "College",
          "High School",
          "JD",
          "College",
          "MD",
          "PhD",
          "MD",
          "Associate",
          "Masters",
          "Masters",
          "Associate",
          "JD",
          "JD",
          "College",
          "JD",
          "Masters",
          "College",
          "JD",
          "High School",
          "High School",
          "PhD",
          "MD",
          "Associate",
          "PhD",
          "PhD",
          "Associate",
          "Associate",
          "High School",
          "JD",
          "Masters",
          "Masters",
          "PhD",
          "College",
          "Masters",
          "JD",
          "High School",
          "JD",
          "JD",
          "Masters",
          "High School",
          "Masters",
          "High School",
          "JD",
          "Associate",
          "PhD",
          "MD",
          "High School",
          "Masters",
          "MD",
          "Associate",
          "MD",
          "High School",
          "MD",
          "Associate",
          "College",
          "PhD",
          "JD",
          "JD",
          "Associate",
          "Associate",
          "High School",
          "Masters",
          "PhD",
          "College",
          "High School",
          "JD",
          "MD",
          "High School",
          "College",
          "JD",
          "High School",
          "High School",
          "MD",
          "MD",
          "MD",
          "MD",
          "High School",
          "Masters",
          "PhD",
          "Masters",
          "Associate",
          "Associate"
         ]
        }
       ],
       "layout": {
        "template": {
         "data": {
          "bar": [
           {
            "error_x": {
             "color": "#2a3f5f"
            },
            "error_y": {
             "color": "#2a3f5f"
            },
            "marker": {
             "line": {
              "color": "#E5ECF6",
              "width": 0.5
             }
            },
            "type": "bar"
           }
          ],
          "barpolar": [
           {
            "marker": {
             "line": {
              "color": "#E5ECF6",
              "width": 0.5
             }
            },
            "type": "barpolar"
           }
          ],
          "carpet": [
           {
            "aaxis": {
             "endlinecolor": "#2a3f5f",
             "gridcolor": "white",
             "linecolor": "white",
             "minorgridcolor": "white",
             "startlinecolor": "#2a3f5f"
            },
            "baxis": {
             "endlinecolor": "#2a3f5f",
             "gridcolor": "white",
             "linecolor": "white",
             "minorgridcolor": "white",
             "startlinecolor": "#2a3f5f"
            },
            "type": "carpet"
           }
          ],
          "choropleth": [
           {
            "colorbar": {
             "outlinewidth": 0,
             "ticks": ""
            },
            "type": "choropleth"
           }
          ],
          "contour": [
           {
            "colorbar": {
             "outlinewidth": 0,
             "ticks": ""
            },
            "colorscale": [
             [
              0,
              "#0d0887"
             ],
             [
              0.1111111111111111,
              "#46039f"
             ],
             [
              0.2222222222222222,
              "#7201a8"
             ],
             [
              0.3333333333333333,
              "#9c179e"
             ],
             [
              0.4444444444444444,
              "#bd3786"
             ],
             [
              0.5555555555555556,
              "#d8576b"
             ],
             [
              0.6666666666666666,
              "#ed7953"
             ],
             [
              0.7777777777777778,
              "#fb9f3a"
             ],
             [
              0.8888888888888888,
              "#fdca26"
             ],
             [
              1,
              "#f0f921"
             ]
            ],
            "type": "contour"
           }
          ],
          "contourcarpet": [
           {
            "colorbar": {
             "outlinewidth": 0,
             "ticks": ""
            },
            "type": "contourcarpet"
           }
          ],
          "heatmap": [
           {
            "colorbar": {
             "outlinewidth": 0,
             "ticks": ""
            },
            "colorscale": [
             [
              0,
              "#0d0887"
             ],
             [
              0.1111111111111111,
              "#46039f"
             ],
             [
              0.2222222222222222,
              "#7201a8"
             ],
             [
              0.3333333333333333,
              "#9c179e"
             ],
             [
              0.4444444444444444,
              "#bd3786"
             ],
             [
              0.5555555555555556,
              "#d8576b"
             ],
             [
              0.6666666666666666,
              "#ed7953"
             ],
             [
              0.7777777777777778,
              "#fb9f3a"
             ],
             [
              0.8888888888888888,
              "#fdca26"
             ],
             [
              1,
              "#f0f921"
             ]
            ],
            "type": "heatmap"
           }
          ],
          "heatmapgl": [
           {
            "colorbar": {
             "outlinewidth": 0,
             "ticks": ""
            },
            "colorscale": [
             [
              0,
              "#0d0887"
             ],
             [
              0.1111111111111111,
              "#46039f"
             ],
             [
              0.2222222222222222,
              "#7201a8"
             ],
             [
              0.3333333333333333,
              "#9c179e"
             ],
             [
              0.4444444444444444,
              "#bd3786"
             ],
             [
              0.5555555555555556,
              "#d8576b"
             ],
             [
              0.6666666666666666,
              "#ed7953"
             ],
             [
              0.7777777777777778,
              "#fb9f3a"
             ],
             [
              0.8888888888888888,
              "#fdca26"
             ],
             [
              1,
              "#f0f921"
             ]
            ],
            "type": "heatmapgl"
           }
          ],
          "histogram": [
           {
            "marker": {
             "colorbar": {
              "outlinewidth": 0,
              "ticks": ""
             }
            },
            "type": "histogram"
           }
          ],
          "histogram2d": [
           {
            "colorbar": {
             "outlinewidth": 0,
             "ticks": ""
            },
            "colorscale": [
             [
              0,
              "#0d0887"
             ],
             [
              0.1111111111111111,
              "#46039f"
             ],
             [
              0.2222222222222222,
              "#7201a8"
             ],
             [
              0.3333333333333333,
              "#9c179e"
             ],
             [
              0.4444444444444444,
              "#bd3786"
             ],
             [
              0.5555555555555556,
              "#d8576b"
             ],
             [
              0.6666666666666666,
              "#ed7953"
             ],
             [
              0.7777777777777778,
              "#fb9f3a"
             ],
             [
              0.8888888888888888,
              "#fdca26"
             ],
             [
              1,
              "#f0f921"
             ]
            ],
            "type": "histogram2d"
           }
          ],
          "histogram2dcontour": [
           {
            "colorbar": {
             "outlinewidth": 0,
             "ticks": ""
            },
            "colorscale": [
             [
              0,
              "#0d0887"
             ],
             [
              0.1111111111111111,
              "#46039f"
             ],
             [
              0.2222222222222222,
              "#7201a8"
             ],
             [
              0.3333333333333333,
              "#9c179e"
             ],
             [
              0.4444444444444444,
              "#bd3786"
             ],
             [
              0.5555555555555556,
              "#d8576b"
             ],
             [
              0.6666666666666666,
              "#ed7953"
             ],
             [
              0.7777777777777778,
              "#fb9f3a"
             ],
             [
              0.8888888888888888,
              "#fdca26"
             ],
             [
              1,
              "#f0f921"
             ]
            ],
            "type": "histogram2dcontour"
           }
          ],
          "mesh3d": [
           {
            "colorbar": {
             "outlinewidth": 0,
             "ticks": ""
            },
            "type": "mesh3d"
           }
          ],
          "parcoords": [
           {
            "line": {
             "colorbar": {
              "outlinewidth": 0,
              "ticks": ""
             }
            },
            "type": "parcoords"
           }
          ],
          "pie": [
           {
            "automargin": true,
            "type": "pie"
           }
          ],
          "scatter": [
           {
            "marker": {
             "colorbar": {
              "outlinewidth": 0,
              "ticks": ""
             }
            },
            "type": "scatter"
           }
          ],
          "scatter3d": [
           {
            "line": {
             "colorbar": {
              "outlinewidth": 0,
              "ticks": ""
             }
            },
            "marker": {
             "colorbar": {
              "outlinewidth": 0,
              "ticks": ""
             }
            },
            "type": "scatter3d"
           }
          ],
          "scattercarpet": [
           {
            "marker": {
             "colorbar": {
              "outlinewidth": 0,
              "ticks": ""
             }
            },
            "type": "scattercarpet"
           }
          ],
          "scattergeo": [
           {
            "marker": {
             "colorbar": {
              "outlinewidth": 0,
              "ticks": ""
             }
            },
            "type": "scattergeo"
           }
          ],
          "scattergl": [
           {
            "marker": {
             "colorbar": {
              "outlinewidth": 0,
              "ticks": ""
             }
            },
            "type": "scattergl"
           }
          ],
          "scattermapbox": [
           {
            "marker": {
             "colorbar": {
              "outlinewidth": 0,
              "ticks": ""
             }
            },
            "type": "scattermapbox"
           }
          ],
          "scatterpolar": [
           {
            "marker": {
             "colorbar": {
              "outlinewidth": 0,
              "ticks": ""
             }
            },
            "type": "scatterpolar"
           }
          ],
          "scatterpolargl": [
           {
            "marker": {
             "colorbar": {
              "outlinewidth": 0,
              "ticks": ""
             }
            },
            "type": "scatterpolargl"
           }
          ],
          "scatterternary": [
           {
            "marker": {
             "colorbar": {
              "outlinewidth": 0,
              "ticks": ""
             }
            },
            "type": "scatterternary"
           }
          ],
          "surface": [
           {
            "colorbar": {
             "outlinewidth": 0,
             "ticks": ""
            },
            "colorscale": [
             [
              0,
              "#0d0887"
             ],
             [
              0.1111111111111111,
              "#46039f"
             ],
             [
              0.2222222222222222,
              "#7201a8"
             ],
             [
              0.3333333333333333,
              "#9c179e"
             ],
             [
              0.4444444444444444,
              "#bd3786"
             ],
             [
              0.5555555555555556,
              "#d8576b"
             ],
             [
              0.6666666666666666,
              "#ed7953"
             ],
             [
              0.7777777777777778,
              "#fb9f3a"
             ],
             [
              0.8888888888888888,
              "#fdca26"
             ],
             [
              1,
              "#f0f921"
             ]
            ],
            "type": "surface"
           }
          ],
          "table": [
           {
            "cells": {
             "fill": {
              "color": "#EBF0F8"
             },
             "line": {
              "color": "white"
             }
            },
            "header": {
             "fill": {
              "color": "#C8D4E3"
             },
             "line": {
              "color": "white"
             }
            },
            "type": "table"
           }
          ]
         },
         "layout": {
          "annotationdefaults": {
           "arrowcolor": "#2a3f5f",
           "arrowhead": 0,
           "arrowwidth": 1
          },
          "autotypenumbers": "strict",
          "coloraxis": {
           "colorbar": {
            "outlinewidth": 0,
            "ticks": ""
           }
          },
          "colorscale": {
           "diverging": [
            [
             0,
             "#8e0152"
            ],
            [
             0.1,
             "#c51b7d"
            ],
            [
             0.2,
             "#de77ae"
            ],
            [
             0.3,
             "#f1b6da"
            ],
            [
             0.4,
             "#fde0ef"
            ],
            [
             0.5,
             "#f7f7f7"
            ],
            [
             0.6,
             "#e6f5d0"
            ],
            [
             0.7,
             "#b8e186"
            ],
            [
             0.8,
             "#7fbc41"
            ],
            [
             0.9,
             "#4d9221"
            ],
            [
             1,
             "#276419"
            ]
           ],
           "sequential": [
            [
             0,
             "#0d0887"
            ],
            [
             0.1111111111111111,
             "#46039f"
            ],
            [
             0.2222222222222222,
             "#7201a8"
            ],
            [
             0.3333333333333333,
             "#9c179e"
            ],
            [
             0.4444444444444444,
             "#bd3786"
            ],
            [
             0.5555555555555556,
             "#d8576b"
            ],
            [
             0.6666666666666666,
             "#ed7953"
            ],
            [
             0.7777777777777778,
             "#fb9f3a"
            ],
            [
             0.8888888888888888,
             "#fdca26"
            ],
            [
             1,
             "#f0f921"
            ]
           ],
           "sequentialminus": [
            [
             0,
             "#0d0887"
            ],
            [
             0.1111111111111111,
             "#46039f"
            ],
            [
             0.2222222222222222,
             "#7201a8"
            ],
            [
             0.3333333333333333,
             "#9c179e"
            ],
            [
             0.4444444444444444,
             "#bd3786"
            ],
            [
             0.5555555555555556,
             "#d8576b"
            ],
            [
             0.6666666666666666,
             "#ed7953"
            ],
            [
             0.7777777777777778,
             "#fb9f3a"
            ],
            [
             0.8888888888888888,
             "#fdca26"
            ],
            [
             1,
             "#f0f921"
            ]
           ]
          },
          "colorway": [
           "#636efa",
           "#EF553B",
           "#00cc96",
           "#ab63fa",
           "#FFA15A",
           "#19d3f3",
           "#FF6692",
           "#B6E880",
           "#FF97FF",
           "#FECB52"
          ],
          "font": {
           "color": "#2a3f5f"
          },
          "geo": {
           "bgcolor": "white",
           "lakecolor": "white",
           "landcolor": "#E5ECF6",
           "showlakes": true,
           "showland": true,
           "subunitcolor": "white"
          },
          "hoverlabel": {
           "align": "left"
          },
          "hovermode": "closest",
          "mapbox": {
           "style": "light"
          },
          "paper_bgcolor": "white",
          "plot_bgcolor": "#E5ECF6",
          "polar": {
           "angularaxis": {
            "gridcolor": "white",
            "linecolor": "white",
            "ticks": ""
           },
           "bgcolor": "#E5ECF6",
           "radialaxis": {
            "gridcolor": "white",
            "linecolor": "white",
            "ticks": ""
           }
          },
          "scene": {
           "xaxis": {
            "backgroundcolor": "#E5ECF6",
            "gridcolor": "white",
            "gridwidth": 2,
            "linecolor": "white",
            "showbackground": true,
            "ticks": "",
            "zerolinecolor": "white"
           },
           "yaxis": {
            "backgroundcolor": "#E5ECF6",
            "gridcolor": "white",
            "gridwidth": 2,
            "linecolor": "white",
            "showbackground": true,
            "ticks": "",
            "zerolinecolor": "white"
           },
           "zaxis": {
            "backgroundcolor": "#E5ECF6",
            "gridcolor": "white",
            "gridwidth": 2,
            "linecolor": "white",
            "showbackground": true,
            "ticks": "",
            "zerolinecolor": "white"
           }
          },
          "shapedefaults": {
           "line": {
            "color": "#2a3f5f"
           }
          },
          "ternary": {
           "aaxis": {
            "gridcolor": "white",
            "linecolor": "white",
            "ticks": ""
           },
           "baxis": {
            "gridcolor": "white",
            "linecolor": "white",
            "ticks": ""
           },
           "bgcolor": "#E5ECF6",
           "caxis": {
            "gridcolor": "white",
            "linecolor": "white",
            "ticks": ""
           }
          },
          "title": {
           "x": 0.05
          },
          "xaxis": {
           "automargin": true,
           "gridcolor": "white",
           "linecolor": "white",
           "ticks": "",
           "title": {
            "standoff": 15
           },
           "zerolinecolor": "white",
           "zerolinewidth": 2
          },
          "yaxis": {
           "automargin": true,
           "gridcolor": "white",
           "linecolor": "white",
           "ticks": "",
           "title": {
            "standoff": 15
           },
           "zerolinecolor": "white",
           "zerolinewidth": 2
          }
         }
        },
        "title": {
         "text": "Education Level of the Customers"
        }
       }
      },
      "text/html": [
       "<div>                            <div id=\"c253217c-a0af-4280-a2dc-d0cb3c5e92ad\" class=\"plotly-graph-div\" style=\"height:525px; width:100%;\"></div>            <script type=\"text/javascript\">                require([\"plotly\"], function(Plotly) {                    window.PLOTLYENV=window.PLOTLYENV || {};                                    if (document.getElementById(\"c253217c-a0af-4280-a2dc-d0cb3c5e92ad\")) {                    Plotly.newPlot(                        \"c253217c-a0af-4280-a2dc-d0cb3c5e92ad\",                        [{\"marker\": {\"color\": \"rgb(195, 195, 145, 0.5)\"}, \"name\": \"Marvel\", \"opacity\": 0.75, \"type\": \"histogram\", \"x\": [\"MD\", \"MD\", \"PhD\", \"PhD\", \"Associate\", \"PhD\", \"PhD\", \"Associate\", \"PhD\", \"PhD\", \"Masters\", \"High School\", \"MD\", \"MD\", \"College\", \"MD\", \"College\", \"High School\", \"MD\", \"High School\", \"JD\", \"Associate\", \"High School\", \"MD\", \"College\", \"Masters\", \"High School\", \"JD\", \"JD\", \"PhD\", \"Masters\", \"JD\", \"Associate\", \"High School\", \"PhD\", \"High School\", \"Masters\", \"JD\", \"MD\", \"JD\", \"Associate\", \"Associate\", \"College\", \"PhD\", \"JD\", \"MD\", \"Associate\", \"College\", \"PhD\", \"Masters\", \"MD\", \"JD\", \"College\", \"JD\", \"PhD\", \"PhD\", \"PhD\", \"Masters\", \"PhD\", \"MD\", \"PhD\", \"JD\", \"High School\", \"JD\", \"PhD\", \"MD\", \"High School\", \"Associate\", \"MD\", \"MD\", \"Associate\", \"MD\", \"Associate\", \"College\", \"Associate\", \"High School\", \"College\", \"College\", \"JD\", \"PhD\", \"High School\", \"Masters\", \"Masters\", \"High School\", \"Masters\", \"High School\", \"Associate\", \"MD\", \"College\", \"College\", \"High School\", \"Associate\", \"PhD\", \"MD\", \"High School\", \"PhD\", \"Associate\", \"Masters\", \"College\", \"College\", \"College\", \"College\", \"JD\", \"Associate\", \"College\", \"College\", \"Associate\", \"High School\", \"PhD\", \"Masters\", \"College\", \"PhD\", \"High School\", \"MD\", \"Associate\", \"MD\", \"PhD\", \"High School\", \"PhD\", \"Associate\", \"High School\", \"MD\", \"Masters\", \"College\", \"JD\", \"JD\", \"MD\", \"High School\", \"College\", \"Masters\", \"JD\", \"Masters\", \"Masters\", \"High School\", \"PhD\", \"College\", \"High School\", \"PhD\", \"High School\", \"MD\", \"Masters\", \"Masters\", \"PhD\", \"MD\", \"JD\", \"Associate\", \"Masters\", \"MD\", \"PhD\", \"JD\", \"PhD\", \"Masters\", \"High School\", \"Masters\", \"Masters\", \"Associate\", \"JD\", \"JD\", \"Masters\", \"JD\", \"Associate\", \"MD\", \"MD\", \"Masters\", \"Masters\", \"PhD\", \"Associate\", \"High School\", \"Masters\", \"High School\", \"Associate\", \"High School\", \"College\", \"MD\", \"PhD\", \"MD\", \"Masters\", \"PhD\", \"Masters\", \"MD\", \"Associate\", \"Masters\", \"Masters\", \"JD\", \"Masters\", \"JD\", \"JD\", \"JD\", \"High School\", \"High School\", \"Associate\", \"JD\", \"MD\", \"High School\", \"MD\", \"High School\", \"MD\", \"MD\", \"Masters\", \"College\", \"PhD\", \"PhD\", \"High School\", \"PhD\", \"JD\", \"Masters\", \"College\", \"Masters\", \"JD\", \"Associate\", \"High School\", \"High School\", \"High School\", \"MD\", \"JD\", \"PhD\", \"High School\", \"Masters\", \"MD\", \"College\", \"College\", \"College\", \"High School\", \"Associate\", \"Associate\", \"Masters\", \"High School\", \"Associate\", \"MD\", \"MD\", \"High School\", \"JD\", \"Masters\", \"MD\", \"JD\", \"Masters\", \"JD\", \"MD\", \"Associate\", \"Masters\", \"MD\", \"College\", \"JD\", \"College\", \"Associate\", \"Associate\", \"JD\", \"JD\", \"Masters\", \"High School\", \"Associate\", \"MD\", \"High School\", \"PhD\", \"JD\", \"High School\", \"Associate\", \"Associate\", \"MD\", \"PhD\", \"Masters\", \"PhD\", \"College\", \"Masters\", \"MD\", \"High School\", \"JD\", \"JD\", \"Associate\", \"Associate\", \"College\", \"Associate\", \"MD\", \"JD\", \"Masters\", \"Associate\", \"Associate\", \"PhD\", \"JD\", \"College\", \"JD\", \"Associate\", \"PhD\", \"PhD\", \"MD\", \"High School\", \"JD\", \"Associate\", \"JD\", \"College\", \"Associate\", \"College\", \"High School\", \"High School\", \"High School\", \"Associate\", \"College\", \"College\", \"MD\", \"High School\", \"Masters\", \"Associate\", \"College\", \"JD\", \"High School\", \"JD\", \"PhD\", \"Associate\", \"Associate\", \"Masters\", \"PhD\", \"MD\", \"Associate\", \"PhD\", \"Masters\", \"MD\", \"High School\", \"Associate\", \"High School\", \"Associate\", \"High School\", \"JD\", \"High School\", \"Masters\", \"College\", \"JD\", \"High School\", \"PhD\", \"MD\", \"PhD\", \"Masters\", \"PhD\", \"JD\", \"MD\", \"College\", \"JD\", \"College\", \"Associate\", \"Associate\", \"MD\", \"JD\", \"Associate\", \"College\", \"Masters\", \"Associate\", \"PhD\", \"Associate\", \"PhD\", \"JD\", \"MD\", \"JD\", \"Associate\", \"High School\", \"Masters\", \"High School\", \"MD\", \"MD\", \"College\", \"College\", \"PhD\", \"Associate\", \"College\", \"MD\", \"Associate\", \"High School\", \"Masters\", \"Masters\", \"Associate\", \"JD\", \"PhD\", \"High School\", \"PhD\", \"PhD\", \"JD\", \"College\", \"Masters\", \"Associate\", \"JD\", \"JD\", \"College\", \"Associate\", \"PhD\", \"PhD\", \"JD\", \"Masters\", \"High School\", \"College\", \"Associate\", \"JD\", \"JD\", \"JD\", \"PhD\", \"High School\", \"MD\", \"High School\", \"PhD\", \"High School\", \"Masters\", \"High School\", \"MD\", \"Masters\", \"MD\", \"College\", \"Associate\", \"College\", \"College\", \"MD\", \"High School\", \"Masters\", \"College\", \"Associate\", \"High School\", \"College\", \"Masters\", \"Associate\", \"High School\", \"Masters\", \"JD\", \"High School\", \"JD\", \"College\", \"MD\", \"High School\", \"MD\", \"Masters\", \"College\", \"Masters\", \"High School\", \"Masters\", \"Masters\", \"JD\", \"PhD\", \"Masters\", \"College\", \"Associate\", \"MD\", \"JD\", \"PhD\", \"PhD\", \"JD\", \"Masters\", \"MD\", \"PhD\", \"JD\", \"Associate\", \"High School\", \"JD\", \"Associate\", \"PhD\", \"Masters\", \"PhD\", \"College\", \"College\", \"Associate\", \"Associate\", \"Associate\", \"Masters\", \"Masters\", \"MD\", \"PhD\", \"High School\", \"MD\", \"PhD\", \"JD\", \"PhD\", \"Associate\", \"Masters\", \"College\", \"High School\", \"PhD\", \"JD\", \"MD\", \"PhD\", \"PhD\", \"JD\", \"Masters\", \"High School\", \"MD\", \"Masters\", \"MD\", \"College\", \"Masters\", \"JD\", \"JD\", \"High School\", \"Associate\", \"High School\", \"High School\", \"College\", \"JD\", \"High School\", \"High School\", \"MD\", \"Masters\", \"Associate\", \"PhD\", \"Associate\", \"College\", \"MD\", \"PhD\", \"JD\", \"Masters\", \"Associate\", \"PhD\", \"JD\", \"MD\", \"PhD\", \"High School\", \"High School\", \"College\", \"High School\", \"JD\", \"JD\", \"College\", \"College\", \"JD\", \"College\", \"High School\", \"JD\", \"Associate\", \"JD\", \"PhD\", \"College\", \"MD\", \"Associate\", \"JD\", \"High School\", \"Masters\", \"Associate\", \"High School\", \"Masters\", \"College\", \"PhD\", \"JD\", \"PhD\", \"College\", \"MD\", \"Associate\", \"High School\", \"College\", \"PhD\", \"JD\", \"MD\", \"Masters\", \"MD\", \"Associate\", \"MD\", \"MD\", \"JD\", \"PhD\", \"High School\", \"Associate\", \"Masters\", \"High School\", \"JD\", \"Masters\", \"College\", \"PhD\", \"College\", \"PhD\", \"Masters\", \"MD\", \"College\", \"Associate\", \"JD\", \"PhD\", \"High School\", \"High School\", \"JD\", \"College\", \"JD\", \"JD\", \"Masters\", \"JD\", \"JD\", \"PhD\", \"MD\", \"High School\", \"PhD\", \"PhD\", \"High School\", \"Associate\", \"JD\", \"Masters\", \"High School\", \"MD\", \"College\", \"JD\", \"Masters\", \"Associate\", \"College\", \"Associate\", \"College\", \"JD\", \"High School\", \"JD\", \"College\", \"JD\", \"High School\", \"Masters\", \"High School\", \"Masters\", \"JD\", \"Masters\", \"JD\", \"High School\", \"Associate\", \"Masters\", \"MD\", \"Masters\", \"Masters\", \"MD\", \"Associate\", \"High School\", \"MD\", \"High School\", \"JD\", \"MD\", \"JD\", \"Associate\", \"MD\", \"Masters\", \"MD\", \"High School\", \"Associate\", \"MD\", \"Masters\", \"Associate\", \"JD\", \"High School\", \"MD\", \"Associate\", \"Masters\", \"MD\", \"Masters\", \"High School\", \"High School\", \"Masters\", \"PhD\", \"Associate\", \"Masters\", \"JD\", \"High School\", \"Masters\", \"College\", \"MD\", \"High School\", \"College\", \"Associate\", \"MD\", \"High School\", \"College\", \"College\", \"High School\", \"High School\", \"Associate\", \"Associate\", \"High School\", \"Associate\", \"JD\", \"College\", \"College\", \"PhD\", \"High School\", \"Masters\", \"Associate\", \"Masters\", \"JD\", \"Masters\", \"JD\", \"MD\", \"Masters\", \"Masters\", \"College\", \"College\", \"High School\", \"MD\", \"JD\", \"High School\", \"Masters\", \"MD\", \"Associate\", \"JD\", \"High School\", \"College\", \"Masters\", \"High School\", \"JD\", \"High School\", \"PhD\", \"PhD\", \"High School\", \"JD\", \"PhD\", \"High School\", \"Masters\", \"College\", \"Associate\", \"Associate\", \"Masters\", \"MD\", \"Associate\", \"High School\", \"High School\", \"Masters\", \"JD\", \"Masters\", \"High School\", \"MD\", \"College\", \"Associate\", \"JD\", \"MD\", \"High School\", \"Masters\", \"College\", \"MD\", \"Masters\", \"Masters\", \"Associate\", \"Associate\", \"Masters\", \"Associate\", \"Associate\", \"PhD\", \"College\", \"PhD\", \"JD\", \"College\", \"College\", \"MD\", \"High School\", \"Associate\", \"PhD\", \"JD\", \"MD\", \"JD\", \"High School\", \"College\", \"Associate\", \"MD\", \"College\", \"PhD\", \"PhD\", \"MD\", \"Masters\", \"PhD\", \"MD\", \"College\", \"MD\", \"Associate\", \"PhD\", \"PhD\", \"JD\", \"MD\", \"High School\", \"Masters\", \"College\", \"High School\", \"Associate\", \"Masters\", \"College\", \"PhD\", \"College\", \"High School\", \"JD\", \"JD\", \"MD\", \"High School\", \"JD\", \"JD\", \"PhD\", \"MD\", \"College\", \"High School\", \"MD\", \"High School\", \"JD\", \"PhD\", \"High School\", \"Masters\", \"MD\", \"Associate\", \"PhD\", \"MD\", \"Associate\", \"College\", \"College\", \"College\", \"JD\", \"Masters\", \"Associate\", \"High School\", \"Masters\", \"College\", \"MD\", \"Masters\", \"PhD\", \"High School\", \"MD\", \"College\", \"JD\", \"College\", \"Masters\", \"MD\", \"Masters\", \"College\", \"JD\", \"JD\", \"Associate\", \"PhD\", \"Masters\", \"Masters\", \"MD\", \"Masters\", \"PhD\", \"College\", \"High School\", \"College\", \"High School\", \"High School\", \"PhD\", \"JD\", \"PhD\", \"MD\", \"JD\", \"PhD\", \"MD\", \"Associate\", \"Masters\", \"MD\", \"JD\", \"JD\", \"JD\", \"PhD\", \"JD\", \"JD\", \"PhD\", \"PhD\", \"Associate\", \"High School\", \"JD\", \"JD\", \"Masters\", \"Associate\", \"Masters\", \"Associate\", \"Associate\", \"MD\", \"Associate\", \"Associate\", \"MD\", \"MD\", \"Associate\", \"College\", \"High School\", \"Associate\", \"MD\", \"College\", \"PhD\", \"MD\", \"Masters\", \"College\", \"Associate\", \"Associate\", \"Associate\", \"JD\", \"JD\", \"College\", \"JD\", \"JD\", \"JD\", \"Associate\", \"PhD\", \"JD\", \"MD\", \"Masters\", \"MD\", \"PhD\", \"MD\", \"MD\", \"MD\", \"High School\", \"Associate\", \"JD\", \"JD\", \"High School\", \"College\", \"MD\", \"Masters\", \"JD\", \"MD\", \"Masters\", \"High School\", \"MD\", \"High School\", \"Associate\", \"JD\", \"PhD\", \"Associate\", \"Associate\", \"High School\", \"JD\", \"PhD\", \"High School\", \"Associate\", \"JD\", \"High School\", \"MD\", \"Masters\", \"College\", \"JD\", \"Masters\", \"MD\", \"JD\", \"High School\", \"High School\", \"PhD\", \"College\", \"High School\", \"JD\", \"College\", \"MD\", \"PhD\", \"MD\", \"Associate\", \"Masters\", \"Masters\", \"Associate\", \"JD\", \"JD\", \"College\", \"JD\", \"Masters\", \"College\", \"JD\", \"High School\", \"High School\", \"PhD\", \"MD\", \"Associate\", \"PhD\", \"PhD\", \"Associate\", \"Associate\", \"High School\", \"JD\", \"Masters\", \"Masters\", \"PhD\", \"College\", \"Masters\", \"JD\", \"High School\", \"JD\", \"JD\", \"Masters\", \"High School\", \"Masters\", \"High School\", \"JD\", \"Associate\", \"PhD\", \"MD\", \"High School\", \"Masters\", \"MD\", \"Associate\", \"MD\", \"High School\", \"MD\", \"Associate\", \"College\", \"PhD\", \"JD\", \"JD\", \"Associate\", \"Associate\", \"High School\", \"Masters\", \"PhD\", \"College\", \"High School\", \"JD\", \"MD\", \"High School\", \"College\", \"JD\", \"High School\", \"High School\", \"MD\", \"MD\", \"MD\", \"MD\", \"High School\", \"Masters\", \"PhD\", \"Masters\", \"Associate\", \"Associate\"]}],                        {\"template\": {\"data\": {\"bar\": [{\"error_x\": {\"color\": \"#2a3f5f\"}, \"error_y\": {\"color\": \"#2a3f5f\"}, \"marker\": {\"line\": {\"color\": \"#E5ECF6\", \"width\": 0.5}}, \"type\": \"bar\"}], \"barpolar\": [{\"marker\": {\"line\": {\"color\": \"#E5ECF6\", \"width\": 0.5}}, \"type\": \"barpolar\"}], \"carpet\": [{\"aaxis\": {\"endlinecolor\": \"#2a3f5f\", \"gridcolor\": \"white\", \"linecolor\": \"white\", \"minorgridcolor\": \"white\", \"startlinecolor\": \"#2a3f5f\"}, \"baxis\": {\"endlinecolor\": \"#2a3f5f\", \"gridcolor\": \"white\", \"linecolor\": \"white\", \"minorgridcolor\": \"white\", \"startlinecolor\": \"#2a3f5f\"}, \"type\": \"carpet\"}], \"choropleth\": [{\"colorbar\": {\"outlinewidth\": 0, \"ticks\": \"\"}, \"type\": \"choropleth\"}], \"contour\": [{\"colorbar\": {\"outlinewidth\": 0, \"ticks\": \"\"}, \"colorscale\": [[0.0, \"#0d0887\"], [0.1111111111111111, \"#46039f\"], [0.2222222222222222, \"#7201a8\"], [0.3333333333333333, \"#9c179e\"], [0.4444444444444444, \"#bd3786\"], [0.5555555555555556, \"#d8576b\"], [0.6666666666666666, \"#ed7953\"], [0.7777777777777778, \"#fb9f3a\"], [0.8888888888888888, \"#fdca26\"], [1.0, \"#f0f921\"]], \"type\": \"contour\"}], \"contourcarpet\": [{\"colorbar\": {\"outlinewidth\": 0, \"ticks\": \"\"}, \"type\": \"contourcarpet\"}], \"heatmap\": [{\"colorbar\": {\"outlinewidth\": 0, \"ticks\": \"\"}, \"colorscale\": [[0.0, \"#0d0887\"], [0.1111111111111111, \"#46039f\"], [0.2222222222222222, \"#7201a8\"], [0.3333333333333333, \"#9c179e\"], [0.4444444444444444, \"#bd3786\"], [0.5555555555555556, \"#d8576b\"], [0.6666666666666666, \"#ed7953\"], [0.7777777777777778, \"#fb9f3a\"], [0.8888888888888888, \"#fdca26\"], [1.0, \"#f0f921\"]], \"type\": \"heatmap\"}], \"heatmapgl\": [{\"colorbar\": {\"outlinewidth\": 0, \"ticks\": \"\"}, \"colorscale\": [[0.0, \"#0d0887\"], [0.1111111111111111, \"#46039f\"], [0.2222222222222222, \"#7201a8\"], [0.3333333333333333, \"#9c179e\"], [0.4444444444444444, \"#bd3786\"], [0.5555555555555556, \"#d8576b\"], [0.6666666666666666, \"#ed7953\"], [0.7777777777777778, \"#fb9f3a\"], [0.8888888888888888, \"#fdca26\"], [1.0, \"#f0f921\"]], \"type\": \"heatmapgl\"}], \"histogram\": [{\"marker\": {\"colorbar\": {\"outlinewidth\": 0, \"ticks\": \"\"}}, \"type\": \"histogram\"}], \"histogram2d\": [{\"colorbar\": {\"outlinewidth\": 0, \"ticks\": \"\"}, \"colorscale\": [[0.0, \"#0d0887\"], [0.1111111111111111, \"#46039f\"], [0.2222222222222222, \"#7201a8\"], [0.3333333333333333, \"#9c179e\"], [0.4444444444444444, \"#bd3786\"], [0.5555555555555556, \"#d8576b\"], [0.6666666666666666, \"#ed7953\"], [0.7777777777777778, \"#fb9f3a\"], [0.8888888888888888, \"#fdca26\"], [1.0, \"#f0f921\"]], \"type\": \"histogram2d\"}], \"histogram2dcontour\": [{\"colorbar\": {\"outlinewidth\": 0, \"ticks\": \"\"}, \"colorscale\": [[0.0, \"#0d0887\"], [0.1111111111111111, \"#46039f\"], [0.2222222222222222, \"#7201a8\"], [0.3333333333333333, \"#9c179e\"], [0.4444444444444444, \"#bd3786\"], [0.5555555555555556, \"#d8576b\"], [0.6666666666666666, \"#ed7953\"], [0.7777777777777778, \"#fb9f3a\"], [0.8888888888888888, \"#fdca26\"], [1.0, \"#f0f921\"]], \"type\": \"histogram2dcontour\"}], \"mesh3d\": [{\"colorbar\": {\"outlinewidth\": 0, \"ticks\": \"\"}, \"type\": \"mesh3d\"}], \"parcoords\": [{\"line\": {\"colorbar\": {\"outlinewidth\": 0, \"ticks\": \"\"}}, \"type\": \"parcoords\"}], \"pie\": [{\"automargin\": true, \"type\": \"pie\"}], \"scatter\": [{\"marker\": {\"colorbar\": {\"outlinewidth\": 0, \"ticks\": \"\"}}, \"type\": \"scatter\"}], \"scatter3d\": [{\"line\": {\"colorbar\": {\"outlinewidth\": 0, \"ticks\": \"\"}}, \"marker\": {\"colorbar\": {\"outlinewidth\": 0, \"ticks\": \"\"}}, \"type\": \"scatter3d\"}], \"scattercarpet\": [{\"marker\": {\"colorbar\": {\"outlinewidth\": 0, \"ticks\": \"\"}}, \"type\": \"scattercarpet\"}], \"scattergeo\": [{\"marker\": {\"colorbar\": {\"outlinewidth\": 0, \"ticks\": \"\"}}, \"type\": \"scattergeo\"}], \"scattergl\": [{\"marker\": {\"colorbar\": {\"outlinewidth\": 0, \"ticks\": \"\"}}, \"type\": \"scattergl\"}], \"scattermapbox\": [{\"marker\": {\"colorbar\": {\"outlinewidth\": 0, \"ticks\": \"\"}}, \"type\": \"scattermapbox\"}], \"scatterpolar\": [{\"marker\": {\"colorbar\": {\"outlinewidth\": 0, \"ticks\": \"\"}}, \"type\": \"scatterpolar\"}], \"scatterpolargl\": [{\"marker\": {\"colorbar\": {\"outlinewidth\": 0, \"ticks\": \"\"}}, \"type\": \"scatterpolargl\"}], \"scatterternary\": [{\"marker\": {\"colorbar\": {\"outlinewidth\": 0, \"ticks\": \"\"}}, \"type\": \"scatterternary\"}], \"surface\": [{\"colorbar\": {\"outlinewidth\": 0, \"ticks\": \"\"}, \"colorscale\": [[0.0, \"#0d0887\"], [0.1111111111111111, \"#46039f\"], [0.2222222222222222, \"#7201a8\"], [0.3333333333333333, \"#9c179e\"], [0.4444444444444444, \"#bd3786\"], [0.5555555555555556, \"#d8576b\"], [0.6666666666666666, \"#ed7953\"], [0.7777777777777778, \"#fb9f3a\"], [0.8888888888888888, \"#fdca26\"], [1.0, \"#f0f921\"]], \"type\": \"surface\"}], \"table\": [{\"cells\": {\"fill\": {\"color\": \"#EBF0F8\"}, \"line\": {\"color\": \"white\"}}, \"header\": {\"fill\": {\"color\": \"#C8D4E3\"}, \"line\": {\"color\": \"white\"}}, \"type\": \"table\"}]}, \"layout\": {\"annotationdefaults\": {\"arrowcolor\": \"#2a3f5f\", \"arrowhead\": 0, \"arrowwidth\": 1}, \"autotypenumbers\": \"strict\", \"coloraxis\": {\"colorbar\": {\"outlinewidth\": 0, \"ticks\": \"\"}}, \"colorscale\": {\"diverging\": [[0, \"#8e0152\"], [0.1, \"#c51b7d\"], [0.2, \"#de77ae\"], [0.3, \"#f1b6da\"], [0.4, \"#fde0ef\"], [0.5, \"#f7f7f7\"], [0.6, \"#e6f5d0\"], [0.7, \"#b8e186\"], [0.8, \"#7fbc41\"], [0.9, \"#4d9221\"], [1, \"#276419\"]], \"sequential\": [[0.0, \"#0d0887\"], [0.1111111111111111, \"#46039f\"], [0.2222222222222222, \"#7201a8\"], [0.3333333333333333, \"#9c179e\"], [0.4444444444444444, \"#bd3786\"], [0.5555555555555556, \"#d8576b\"], [0.6666666666666666, \"#ed7953\"], [0.7777777777777778, \"#fb9f3a\"], [0.8888888888888888, \"#fdca26\"], [1.0, \"#f0f921\"]], \"sequentialminus\": [[0.0, \"#0d0887\"], [0.1111111111111111, \"#46039f\"], [0.2222222222222222, \"#7201a8\"], [0.3333333333333333, \"#9c179e\"], [0.4444444444444444, \"#bd3786\"], [0.5555555555555556, \"#d8576b\"], [0.6666666666666666, \"#ed7953\"], [0.7777777777777778, \"#fb9f3a\"], [0.8888888888888888, \"#fdca26\"], [1.0, \"#f0f921\"]]}, \"colorway\": [\"#636efa\", \"#EF553B\", \"#00cc96\", \"#ab63fa\", \"#FFA15A\", \"#19d3f3\", \"#FF6692\", \"#B6E880\", \"#FF97FF\", \"#FECB52\"], \"font\": {\"color\": \"#2a3f5f\"}, \"geo\": {\"bgcolor\": \"white\", \"lakecolor\": \"white\", \"landcolor\": \"#E5ECF6\", \"showlakes\": true, \"showland\": true, \"subunitcolor\": \"white\"}, \"hoverlabel\": {\"align\": \"left\"}, \"hovermode\": \"closest\", \"mapbox\": {\"style\": \"light\"}, \"paper_bgcolor\": \"white\", \"plot_bgcolor\": \"#E5ECF6\", \"polar\": {\"angularaxis\": {\"gridcolor\": \"white\", \"linecolor\": \"white\", \"ticks\": \"\"}, \"bgcolor\": \"#E5ECF6\", \"radialaxis\": {\"gridcolor\": \"white\", \"linecolor\": \"white\", \"ticks\": \"\"}}, \"scene\": {\"xaxis\": {\"backgroundcolor\": \"#E5ECF6\", \"gridcolor\": \"white\", \"gridwidth\": 2, \"linecolor\": \"white\", \"showbackground\": true, \"ticks\": \"\", \"zerolinecolor\": \"white\"}, \"yaxis\": {\"backgroundcolor\": \"#E5ECF6\", \"gridcolor\": \"white\", \"gridwidth\": 2, \"linecolor\": \"white\", \"showbackground\": true, \"ticks\": \"\", \"zerolinecolor\": \"white\"}, \"zaxis\": {\"backgroundcolor\": \"#E5ECF6\", \"gridcolor\": \"white\", \"gridwidth\": 2, \"linecolor\": \"white\", \"showbackground\": true, \"ticks\": \"\", \"zerolinecolor\": \"white\"}}, \"shapedefaults\": {\"line\": {\"color\": \"#2a3f5f\"}}, \"ternary\": {\"aaxis\": {\"gridcolor\": \"white\", \"linecolor\": \"white\", \"ticks\": \"\"}, \"baxis\": {\"gridcolor\": \"white\", \"linecolor\": \"white\", \"ticks\": \"\"}, \"bgcolor\": \"#E5ECF6\", \"caxis\": {\"gridcolor\": \"white\", \"linecolor\": \"white\", \"ticks\": \"\"}}, \"title\": {\"x\": 0.05}, \"xaxis\": {\"automargin\": true, \"gridcolor\": \"white\", \"linecolor\": \"white\", \"ticks\": \"\", \"title\": {\"standoff\": 15}, \"zerolinecolor\": \"white\", \"zerolinewidth\": 2}, \"yaxis\": {\"automargin\": true, \"gridcolor\": \"white\", \"linecolor\": \"white\", \"ticks\": \"\", \"title\": {\"standoff\": 15}, \"zerolinecolor\": \"white\", \"zerolinewidth\": 2}}}, \"title\": {\"text\": \"Education Level of the Customers\"}},                        {\"responsive\": true}                    ).then(function(){\n",
       "                            \n",
       "var gd = document.getElementById('c253217c-a0af-4280-a2dc-d0cb3c5e92ad');\n",
       "var x = new MutationObserver(function (mutations, observer) {{\n",
       "        var display = window.getComputedStyle(gd).display;\n",
       "        if (!display || display === 'none') {{\n",
       "            console.log([gd, 'removed!']);\n",
       "            Plotly.purge(gd);\n",
       "            observer.disconnect();\n",
       "        }}\n",
       "}});\n",
       "\n",
       "// Listen for the removal of the full notebook cells\n",
       "var notebookContainer = gd.closest('#notebook-container');\n",
       "if (notebookContainer) {{\n",
       "    x.observe(notebookContainer, {childList: true});\n",
       "}}\n",
       "\n",
       "// Listen for the clearing of the current output cell\n",
       "var outputEl = gd.closest('.output');\n",
       "if (outputEl) {{\n",
       "    x.observe(outputEl, {childList: true});\n",
       "}}\n",
       "\n",
       "                        })                };                });            </script>        </div>"
      ]
     },
     "metadata": {},
     "output_type": "display_data"
    }
   ],
   "source": [
    "trace = go.Histogram(\n",
    "          x = data['insured_education_level'],\n",
    "          name = 'Marvel',\n",
    "          opacity = 0.75,\n",
    "          marker = dict(\n",
    "                 color = 'rgb(195, 195, 145, 0.5)'\n",
    "          )\n",
    ")\n",
    "df = [trace]\n",
    "\n",
    "layout = go.Layout(\n",
    "    title = 'Education Level of the Customers')\n",
    "\n",
    "fig = go.Figure(data = df, layout = layout)\n",
    "py.iplot(fig)"
   ]
  },
  {
   "cell_type": "code",
   "execution_count": 14,
   "metadata": {},
   "outputs": [
    {
     "data": {
      "image/png": "[encoded data removed]",
      "text/plain": [
       "<Figure size 1080x576 with 1 Axes>"
      ]
     },
     "metadata": {},
     "output_type": "display_data"
    }
   ],
   "source": [
    "\n",
    "plt.style.use('fivethirtyeight')\n",
    "plt.rcParams['figure.figsize'] = (15, 8)\n",
    "\n",
    "sns.countplot(data['insured_hobbies'], palette = 'cool')\n",
    "plt.title('Different Types of Hobbies of Insured Customers', fontsize = 20)\n",
    "plt.xticks(rotation = 90)\n",
    "plt.show() "
   ]
  },
  {
   "cell_type": "code",
   "execution_count": 15,
   "metadata": {},
   "outputs": [
    {
     "data": {
      "image/png": "[encoded data removed]",
      "text/plain": [
       "<Figure size 1080x576 with 1 Axes>"
      ]
     },
     "metadata": {},
     "output_type": "display_data"
    }
   ],
   "source": [
    "plt.style.use('fivethirtyeight')\n",
    "plt.rcParams['figure.figsize'] = (15, 8)\n",
    "\n",
    "sns.countplot(data['incident_type'], palette = 'spring')\n",
    "plt.title('Different Types of Incidents', fontsize = 20)\n",
    "plt.show()"
   ]
  },
  {
   "cell_type": "code",
   "execution_count": 16,
   "metadata": {},
   "outputs": [
    {
     "data": {
      "image/png": "[encoded data removed]",
      "text/plain": [
       "<Figure size 1080x504 with 1 Axes>"
      ]
     },
     "metadata": {},
     "output_type": "display_data"
    }
   ],
   "source": [
    "incident = pd.crosstab(data['incident_city'], data['incident_type'])\n",
    "colors = plt.cm.Blues(np.linspace(0, 1, 5))\n",
    "incident.div(incident.sum(1).astype(float), axis = 0).plot(kind = 'bar',\n",
    "                                                           stacked = False,\n",
    "                                                           figsize = (15, 7),\n",
    "                                                           color = colors)\n",
    "\n",
    "plt.title('Incident Type vs Collision Type', fontsize = 20)\n",
    "plt.legend()\n",
    "plt.show()"
   ]
  },
  {
   "cell_type": "code",
   "execution_count": 17,
   "metadata": {},
   "outputs": [
    {
     "data": {
      "application/vnd.plotly.v1+json": {
       "config": {
        "linkText": "Export to plot.ly",
        "plotlyServerURL": "https://plot.ly",
        "showLink": false
       },
       "data": [
        {
         "marker": {
          "color": "rgb(215, 195, 5, 0.5)"
         },
         "opacity": 0.7,
         "type": "box",
         "x": [
          "Saab",
          "Mercedes",
          "Dodge",
          "Chevrolet",
          "Accura",
          "Saab",
          "Nissan",
          "Audi",
          "Toyota",
          "Saab",
          "Ford",
          "Audi",
          "Saab",
          "Toyota",
          "Dodge",
          "Accura",
          "Nissan",
          "Suburu",
          "Accura",
          "Nissan",
          "Suburu",
          "Accura",
          "Suburu",
          "Dodge",
          "Ford",
          "Ford",
          "Toyota",
          "Suburu",
          "Dodge",
          "Accura",
          "Toyota",
          "Ford",
          "BMW",
          "Suburu",
          "Audi",
          "Mercedes",
          "Suburu",
          "Suburu",
          "Jeep",
          "Nissan",
          "BMW",
          "BMW",
          "Dodge",
          "Mercedes",
          "Toyota",
          "Accura",
          "Honda",
          "Audi",
          "Volkswagen",
          "Mercedes",
          "Nissan",
          "BMW",
          "Toyota",
          "Suburu",
          "Ford",
          "Chevrolet",
          "Honda",
          "Chevrolet",
          "Saab",
          "Ford",
          "Nissan",
          "Honda",
          "BMW",
          "Suburu",
          "Ford",
          "Dodge",
          "Audi",
          "BMW",
          "Audi",
          "Ford",
          "Audi",
          "Honda",
          "Chevrolet",
          "Mercedes",
          "BMW",
          "Ford",
          "Suburu",
          "Audi",
          "Saab",
          "BMW",
          "Accura",
          "Accura",
          "Nissan",
          "Volkswagen",
          "Audi",
          "Suburu",
          "Ford",
          "BMW",
          "Dodge",
          "Accura",
          "Saab",
          "Honda",
          "BMW",
          "Ford",
          "Mercedes",
          "Toyota",
          "Dodge",
          "Nissan",
          "Saab",
          "Audi",
          "Saab",
          "Saab",
          "Ford",
          "Toyota",
          "Chevrolet",
          "Mercedes",
          "Saab",
          "Volkswagen",
          "Saab",
          "Nissan",
          "Dodge",
          "Ford",
          "BMW",
          "Saab",
          "Ford",
          "Accura",
          "Suburu",
          "Toyota",
          "Ford",
          "BMW",
          "Volkswagen",
          "Ford",
          "Nissan",
          "Accura",
          "BMW",
          "Ford",
          "Suburu",
          "BMW",
          "BMW",
          "Saab",
          "Ford",
          "Dodge",
          "Nissan",
          "Jeep",
          "BMW",
          "Volkswagen",
          "Ford",
          "BMW",
          "Toyota",
          "BMW",
          "Mercedes",
          "Suburu",
          "Chevrolet",
          "Accura",
          "Accura",
          "Accura",
          "BMW",
          "Nissan",
          "Volkswagen",
          "Suburu",
          "Audi",
          "Mercedes",
          "Volkswagen",
          "Suburu",
          "Saab",
          "Audi",
          "Jeep",
          "Saab",
          "Suburu",
          "Honda",
          "Mercedes",
          "Chevrolet",
          "Volkswagen",
          "Dodge",
          "Mercedes",
          "Suburu",
          "Audi",
          "Saab",
          "Toyota",
          "Jeep",
          "Jeep",
          "Volkswagen",
          "Dodge",
          "Volkswagen",
          "Ford",
          "Jeep",
          "Honda",
          "Volkswagen",
          "Chevrolet",
          "Chevrolet",
          "Audi",
          "Dodge",
          "Accura",
          "Chevrolet",
          "Mercedes",
          "Mercedes",
          "Audi",
          "Chevrolet",
          "Honda",
          "Honda",
          "Volkswagen",
          "Nissan",
          "Mercedes",
          "Nissan",
          "Chevrolet",
          "Saab",
          "Jeep",
          "Accura",
          "Honda",
          "BMW",
          "Suburu",
          "Suburu",
          "Chevrolet",
          "Chevrolet",
          "Saab",
          "BMW",
          "Ford",
          "Audi",
          "Mercedes",
          "Suburu",
          "Toyota",
          "Dodge",
          "Volkswagen",
          "Dodge",
          "Suburu",
          "Audi",
          "Audi",
          "BMW",
          "Saab",
          "BMW",
          "Honda",
          "Jeep",
          "Chevrolet",
          "Mercedes",
          "Accura",
          "Jeep",
          "Accura",
          "Toyota",
          "Saab",
          "Accura",
          "Honda",
          "Volkswagen",
          "Toyota",
          "Nissan",
          "Audi",
          "Nissan",
          "Dodge",
          "Audi",
          "Saab",
          "Suburu",
          "Saab",
          "Chevrolet",
          "Nissan",
          "Dodge",
          "Mercedes",
          "Dodge",
          "Saab",
          "Chevrolet",
          "Mercedes",
          "Chevrolet",
          "Suburu",
          "Ford",
          "Saab",
          "Nissan",
          "Chevrolet",
          "Dodge",
          "Accura",
          "Mercedes",
          "Toyota",
          "Suburu",
          "Dodge",
          "Ford",
          "Volkswagen",
          "Dodge",
          "Volkswagen",
          "Audi",
          "Toyota",
          "BMW",
          "Nissan",
          "Chevrolet",
          "Toyota",
          "Audi",
          "Jeep",
          "Nissan",
          "Ford",
          "Jeep",
          "Saab",
          "BMW",
          "Nissan",
          "BMW",
          "Nissan",
          "Chevrolet",
          "Jeep",
          "BMW",
          "Ford",
          "Accura",
          "Suburu",
          "Toyota",
          "Ford",
          "BMW",
          "Chevrolet",
          "BMW",
          "BMW",
          "Mercedes",
          "Honda",
          "Mercedes",
          "Audi",
          "Dodge",
          "Nissan",
          "Accura",
          "Audi",
          "Honda",
          "Jeep",
          "Ford",
          "Accura",
          "Honda",
          "Mercedes",
          "Nissan",
          "Suburu",
          "BMW",
          "Toyota",
          "Honda",
          "Suburu",
          "Toyota",
          "BMW",
          "Nissan",
          "BMW",
          "Accura",
          "Toyota",
          "Suburu",
          "Toyota",
          "Dodge",
          "BMW",
          "Audi",
          "Honda",
          "Nissan",
          "Volkswagen",
          "Chevrolet",
          "Audi",
          "Honda",
          "Toyota",
          "Nissan",
          "Nissan",
          "Suburu",
          "Ford",
          "BMW",
          "Chevrolet",
          "Dodge",
          "Saab",
          "Suburu",
          "Audi",
          "BMW",
          "Suburu",
          "Ford",
          "Jeep",
          "Jeep",
          "Suburu",
          "Mercedes",
          "Audi",
          "Accura",
          "Volkswagen",
          "Audi",
          "Honda",
          "Suburu",
          "Volkswagen",
          "Nissan",
          "Ford",
          "Suburu",
          "Jeep",
          "Saab",
          "Chevrolet",
          "Toyota",
          "Saab",
          "Mercedes",
          "Volkswagen",
          "BMW",
          "Volkswagen",
          "Toyota",
          "Accura",
          "Dodge",
          "Saab",
          "Honda",
          "Suburu",
          "Honda",
          "Suburu",
          "Volkswagen",
          "Dodge",
          "Toyota",
          "Audi",
          "Mercedes",
          "Audi",
          "Chevrolet",
          "Nissan",
          "BMW",
          "Audi",
          "Ford",
          "Mercedes",
          "Honda",
          "Nissan",
          "Suburu",
          "Saab",
          "Toyota",
          "Saab",
          "Volkswagen",
          "Accura",
          "Accura",
          "Ford",
          "Jeep",
          "Saab",
          "Chevrolet",
          "Jeep",
          "Ford",
          "Mercedes",
          "Audi",
          "Chevrolet",
          "Honda",
          "Toyota",
          "Suburu",
          "Chevrolet",
          "Ford",
          "BMW",
          "BMW",
          "Chevrolet",
          "Jeep",
          "Dodge",
          "Suburu",
          "Mercedes",
          "Jeep",
          "Jeep",
          "BMW",
          "Volkswagen",
          "Toyota",
          "Toyota",
          "Ford",
          "Suburu",
          "Chevrolet",
          "BMW",
          "Nissan",
          "Mercedes",
          "Nissan",
          "Dodge",
          "Saab",
          "Audi",
          "Dodge",
          "Honda",
          "Dodge",
          "Suburu",
          "Mercedes",
          "Audi",
          "Nissan",
          "Dodge",
          "Dodge",
          "Suburu",
          "Jeep",
          "Dodge",
          "Chevrolet",
          "Jeep",
          "Chevrolet",
          "Dodge",
          "BMW",
          "Toyota",
          "Chevrolet",
          "Audi",
          "Suburu",
          "Chevrolet",
          "Ford",
          "Dodge",
          "Volkswagen",
          "Jeep",
          "Accura",
          "Volkswagen",
          "Honda",
          "Suburu",
          "Saab",
          "Nissan",
          "BMW",
          "Chevrolet",
          "Volkswagen",
          "Volkswagen",
          "Volkswagen",
          "Nissan",
          "Dodge",
          "BMW",
          "Nissan",
          "Toyota",
          "Nissan",
          "Saab",
          "Saab",
          "Mercedes",
          "Mercedes",
          "Ford",
          "Accura",
          "Volkswagen",
          "BMW",
          "Jeep",
          "Nissan",
          "Chevrolet",
          "Dodge",
          "Mercedes",
          "Dodge",
          "Toyota",
          "Jeep",
          "Saab",
          "Chevrolet",
          "Dodge",
          "Chevrolet",
          "Accura",
          "Accura",
          "Mercedes",
          "Saab",
          "Honda",
          "Mercedes",
          "Nissan",
          "Accura",
          "Ford",
          "Jeep",
          "Nissan",
          "Accura",
          "Honda",
          "Mercedes",
          "Audi",
          "Volkswagen",
          "Nissan",
          "Dodge",
          "Honda",
          "Mercedes",
          "Chevrolet",
          "Jeep",
          "Jeep",
          "Chevrolet",
          "Accura",
          "Audi",
          "Honda",
          "Ford",
          "Toyota",
          "Jeep",
          "Suburu",
          "Ford",
          "Jeep",
          "BMW",
          "Chevrolet",
          "Accura",
          "Mercedes",
          "Mercedes",
          "Nissan",
          "Accura",
          "Volkswagen",
          "Nissan",
          "Dodge",
          "BMW",
          "Volkswagen",
          "Mercedes",
          "Saab",
          "Suburu",
          "Honda",
          "Suburu",
          "Audi",
          "Ford",
          "Accura",
          "BMW",
          "Volkswagen",
          "Accura",
          "Dodge",
          "Honda",
          "Saab",
          "Volkswagen",
          "Ford",
          "Accura",
          "Saab",
          "Toyota",
          "Chevrolet",
          "Ford",
          "Ford",
          "Dodge",
          "Jeep",
          "Saab",
          "Toyota",
          "Ford",
          "Chevrolet",
          "BMW",
          "Volkswagen",
          "Jeep",
          "Dodge",
          "Mercedes",
          "Chevrolet",
          "Audi",
          "BMW",
          "Saab",
          "Toyota",
          "Honda",
          "Ford",
          "Audi",
          "Ford",
          "Toyota",
          "Nissan",
          "Chevrolet",
          "Volkswagen",
          "Chevrolet",
          "Mercedes",
          "Saab",
          "Ford",
          "Honda",
          "Chevrolet",
          "Toyota",
          "Mercedes",
          "Ford",
          "Dodge",
          "Mercedes",
          "Saab",
          "Saab",
          "Nissan",
          "Ford",
          "Volkswagen",
          "Toyota",
          "Toyota",
          "Accura",
          "Audi",
          "Accura",
          "Volkswagen",
          "Dodge",
          "Toyota",
          "Chevrolet",
          "BMW",
          "Volkswagen",
          "Toyota",
          "Nissan",
          "Nissan",
          "Volkswagen",
          "Jeep",
          "Saab",
          "Volkswagen",
          "Ford",
          "Jeep",
          "Saab",
          "Nissan",
          "Mercedes",
          "Dodge",
          "Toyota",
          "BMW",
          "Ford",
          "Chevrolet",
          "Accura",
          "Accura",
          "Mercedes",
          "Toyota",
          "Chevrolet",
          "Saab",
          "Suburu",
          "Audi",
          "Nissan",
          "Dodge",
          "Suburu",
          "Saab",
          "Audi",
          "Volkswagen",
          "Honda",
          "Dodge",
          "Suburu",
          "Honda",
          "Dodge",
          "Ford",
          "Jeep",
          "Audi",
          "Jeep",
          "Audi",
          "Ford",
          "Ford",
          "Jeep",
          "Nissan",
          "Suburu",
          "Jeep",
          "Dodge",
          "Honda",
          "Saab",
          "Accura",
          "Mercedes",
          "BMW",
          "Audi",
          "Toyota",
          "Nissan",
          "Jeep",
          "Ford",
          "Dodge",
          "Dodge",
          "Toyota",
          "Jeep",
          "Saab",
          "Saab",
          "Ford",
          "Dodge",
          "Accura",
          "Honda",
          "Volkswagen",
          "Saab",
          "Accura",
          "Chevrolet",
          "Saab",
          "Saab",
          "Audi",
          "Saab",
          "BMW",
          "BMW",
          "Jeep",
          "Ford",
          "Audi",
          "Honda",
          "Volkswagen",
          "Nissan",
          "Mercedes",
          "Saab",
          "BMW",
          "Mercedes",
          "Volkswagen",
          "Mercedes",
          "Chevrolet",
          "Accura",
          "Nissan",
          "Ford",
          "Dodge",
          "Volkswagen",
          "Ford",
          "Jeep",
          "Saab",
          "Chevrolet",
          "Mercedes",
          "Chevrolet",
          "Dodge",
          "Accura",
          "Audi",
          "Volkswagen",
          "Dodge",
          "Dodge",
          "Suburu",
          "Accura",
          "Chevrolet",
          "Dodge",
          "Chevrolet",
          "Suburu",
          "Chevrolet",
          "Suburu",
          "Suburu",
          "Toyota",
          "Saab",
          "Dodge",
          "Accura",
          "Jeep",
          "Volkswagen",
          "Nissan",
          "Honda",
          "Chevrolet",
          "Suburu",
          "BMW",
          "Volkswagen",
          "Toyota",
          "Dodge",
          "Mercedes",
          "Audi",
          "Dodge",
          "Jeep",
          "Ford",
          "Mercedes",
          "Accura",
          "Chevrolet",
          "Mercedes",
          "Nissan",
          "Dodge",
          "Jeep",
          "Accura",
          "Saab",
          "Nissan",
          "Nissan",
          "Jeep",
          "Jeep",
          "Volkswagen",
          "Mercedes",
          "Suburu",
          "Suburu",
          "Jeep",
          "Suburu",
          "Audi",
          "Volkswagen",
          "Chevrolet",
          "Toyota",
          "Saab",
          "Toyota",
          "Audi",
          "Volkswagen",
          "Dodge",
          "Volkswagen",
          "Nissan",
          "Suburu",
          "Dodge",
          "Chevrolet",
          "Nissan",
          "BMW",
          "Ford",
          "Toyota",
          "Dodge",
          "Honda",
          "Volkswagen",
          "Nissan",
          "BMW",
          "Suburu",
          "Toyota",
          "Saab",
          "Jeep",
          "Mercedes",
          "Toyota",
          "Toyota",
          "Audi",
          "Accura",
          "Chevrolet",
          "Chevrolet",
          "Volkswagen",
          "Toyota",
          "Saab",
          "Nissan",
          "Audi",
          "Audi",
          "Saab",
          "Ford",
          "Chevrolet",
          "Accura",
          "Accura",
          "Nissan",
          "Volkswagen",
          "Nissan",
          "Ford",
          "Chevrolet",
          "Dodge",
          "Audi",
          "Nissan",
          "Honda",
          "Volkswagen",
          "Ford",
          "Volkswagen",
          "Suburu",
          "Suburu",
          "Audi",
          "Jeep",
          "Dodge",
          "Audi",
          "Nissan",
          "Ford",
          "Suburu",
          "Mercedes",
          "Nissan",
          "Audi",
          "BMW",
          "Dodge",
          "Chevrolet",
          "Saab",
          "BMW",
          "Toyota",
          "Jeep",
          "Ford",
          "Toyota",
          "Jeep",
          "Volkswagen",
          "Saab",
          "Accura",
          "Audi",
          "Mercedes",
          "Nissan",
          "Saab",
          "Audi",
          "Suburu",
          "Toyota",
          "Nissan",
          "Suburu",
          "Accura",
          "Nissan",
          "Suburu",
          "Jeep",
          "Toyota",
          "Dodge",
          "Accura",
          "Dodge",
          "Suburu",
          "Ford",
          "Honda",
          "Jeep",
          "Ford",
          "Chevrolet",
          "Mercedes",
          "Jeep",
          "Saab",
          "Saab",
          "Chevrolet",
          "Mercedes",
          "Dodge",
          "BMW",
          "BMW",
          "Audi",
          "BMW",
          "BMW",
          "Audi",
          "Honda",
          "Accura",
          "Volkswagen",
          "Suburu",
          "Saab",
          "Jeep",
          "Dodge",
          "Suburu",
          "Saab",
          "Saab",
          "Jeep",
          "Chevrolet",
          "Saab",
          "Mercedes",
          "Nissan",
          "Honda",
          "Volkswagen",
          "Saab",
          "Chevrolet",
          "BMW",
          "Saab",
          "Honda",
          "Jeep",
          "Nissan",
          "Jeep",
          "Accura",
          "Honda",
          "Honda",
          "Mercedes",
          "Honda",
          "Mercedes",
          "Toyota",
          "Dodge",
          "Accura",
          "BMW",
          "Nissan",
          "Accura",
          "Honda",
          "Jeep",
          "BMW",
          "Dodge",
          "Audi",
          "Toyota",
          "Saab",
          "Nissan",
          "Honda",
          "Dodge",
          "Toyota",
          "Toyota",
          "Honda",
          "Jeep",
          "Toyota",
          "Dodge",
          "Suburu",
          "Volkswagen",
          "Volkswagen",
          "Audi",
          "Jeep",
          "Suburu",
          "Audi",
          "Suburu",
          "Suburu",
          "Ford",
          "Toyota",
          "Nissan",
          "Audi",
          "Volkswagen",
          "Honda",
          "Nissan",
          "Toyota",
          "Chevrolet",
          "Dodge",
          "Saab",
          "Toyota",
          "Accura",
          "Chevrolet",
          "BMW",
          "Volkswagen",
          "BMW",
          "Jeep",
          "Nissan",
          "Accura",
          "Accura",
          "Ford",
          "Mercedes",
          "Jeep",
          "Suburu",
          "Chevrolet",
          "Ford",
          "Accura",
          "Suburu",
          "Dodge",
          "Saab",
          "Suburu",
          "Dodge",
          "BMW",
          "Suburu",
          "Toyota",
          "Jeep",
          "Toyota",
          "Chevrolet",
          "Honda",
          "Chevrolet",
          "Jeep",
          "Accura",
          "Nissan",
          "Volkswagen",
          "Honda",
          "Honda",
          "Volkswagen",
          "Suburu",
          "Audi",
          "Mercedes"
         ],
         "y": [
          52080,
          3510,
          23100,
          50720,
          4550,
          51280,
          50050,
          32830,
          22160,
          32900,
          63280,
          79560,
          42390,
          5040,
          33600,
          42080,
          40530,
          56640,
          53040,
          48320,
          41920,
          33110,
          47680,
          73620,
          56640,
          44000,
          6560,
          4160,
          46560,
          63450,
          50400,
          52220,
          23170,
          49070,
          48600,
          37170,
          48160,
          3280,
          43610,
          38290,
          28000,
          64720,
          40180,
          39760,
          33840,
          48230,
          63090,
          50240,
          5670,
          53620,
          57260,
          5280,
          3440,
          44870,
          1680,
          55230,
          50160,
          1800,
          51170,
          45760,
          54040,
          33210,
          39410,
          51390,
          45990,
          61740,
          62100,
          30160,
          49840,
          2580,
          49680,
          47670,
          27090,
          42840,
          28620,
          34140,
          67050,
          38010,
          5580,
          50540,
          30480,
          4620,
          5250,
          4130,
          44320,
          40810,
          45600,
          40880,
          3290,
          39480,
          46350,
          71520,
          4720,
          53010,
          68160,
          5040,
          59670,
          50470,
          3600,
          4200,
          47580,
          36960,
          25200,
          2310,
          70110,
          3360,
          53200,
          51940,
          48870,
          44320,
          52290,
          49000,
          51590,
          33670,
          4720,
          33390,
          32620,
          51200,
          63000,
          52960,
          41580,
          51040,
          49280,
          51420,
          28000,
          23100,
          28800,
          2970,
          42560,
          34790,
          56480,
          43050,
          34000,
          32760,
          52080,
          48440,
          2870,
          52400,
          55360,
          49040,
          37840,
          3760,
          5040,
          49560,
          35490,
          76400,
          44800,
          37840,
          53760,
          77760,
          60160,
          32040,
          44010,
          42160,
          36160,
          37280,
          50470,
          4550,
          52160,
          4340,
          3920,
          52650,
          59580,
          75530,
          63630,
          44640,
          45360,
          44800,
          4620,
          5360,
          31840,
          40200,
          34930,
          29600,
          4270,
          47760,
          59920,
          39830,
          58950,
          3600,
          35770,
          67200,
          57890,
          59520,
          43920,
          64480,
          13500,
          3850,
          53760,
          64820,
          3430,
          39270,
          38850,
          5120,
          35140,
          41760,
          4240,
          3900,
          41580,
          1960,
          3840,
          61360,
          4440,
          50050,
          12720,
          43520,
          47840,
          57600,
          43380,
          6160,
          4080,
          5310,
          21450,
          34020,
          61020,
          58960,
          47340,
          5040,
          51120,
          41670,
          44640,
          19670,
          31220,
          44380,
          51920,
          51450,
          68400,
          30310,
          45920,
          57840,
          43920,
          24400,
          55280,
          50750,
          37520,
          57420,
          31990,
          57200,
          51680,
          31770,
          42800,
          58960,
          5040,
          43600,
          2240,
          52780,
          45220,
          68310,
          4130,
          51280,
          40320,
          58800,
          6120,
          41720,
          46000,
          39360,
          35350,
          38460,
          4620,
          37170,
          3150,
          47200,
          49420,
          44720,
          41920,
          4770,
          35520,
          54810,
          32270,
          50160,
          59710,
          2240,
          49680,
          35820,
          43280,
          29190,
          49840,
          43920,
          46800,
          49630,
          31040,
          3010,
          4340,
          41930,
          53040,
          51120,
          46480,
          5120,
          51940,
          5840,
          68480,
          34380,
          31620,
          69930,
          42720,
          48080,
          53970,
          2700,
          4320,
          35400,
          5760,
          57680,
          52380,
          3780,
          46060,
          28560,
          38400,
          47280,
          56320,
          36560,
          58720,
          22800,
          24500,
          47600,
          58500,
          52850,
          60400,
          48240,
          22190,
          49520,
          60390,
          44520,
          26240,
          29460,
          35280,
          61880,
          48400,
          47840,
          37680,
          40480,
          29760,
          56480,
          3760,
          2030,
          46760,
          50750,
          34440,
          54670,
          69680,
          41220,
          45360,
          44800,
          47340,
          4320,
          38850,
          47280,
          26320,
          47430,
          49200,
          44520,
          38940,
          25130,
          36540,
          58500,
          53760,
          46000,
          51570,
          43360,
          48300,
          49360,
          54670,
          46800,
          3600,
          36600,
          4340,
          2520,
          2240,
          42000,
          35600,
          46680,
          35040,
          32080,
          54080,
          4760,
          46710,
          17010,
          52960,
          31850,
          44200,
          35560,
          35360,
          45760,
          38850,
          43890,
          63770,
          38220,
          44560,
          48580,
          39970,
          40620,
          33880,
          40040,
          36190,
          49140,
          33390,
          4060,
          54990,
          52430,
          2320,
          57690,
          56720,
          41310,
          32640,
          60240,
          61440,
          55860,
          33740,
          17600,
          27510,
          2320,
          3900,
          4960,
          46320,
          70920,
          6240,
          44560,
          53580,
          38920,
          3500,
          66330,
          48510,
          47320,
          63180,
          42420,
          45360,
          48640,
          46560,
          47110,
          52260,
          38990,
          51030,
          44460,
          42910,
          40950,
          46620,
          58720,
          32550,
          4480,
          2320,
          4720,
          44590,
          54640,
          44800,
          2610,
          5180,
          42630,
          34580,
          50000,
          43050,
          55920,
          37380,
          42000,
          3120,
          47250,
          39870,
          60550,
          6120,
          59850,
          77670,
          55650,
          55440,
          39680,
          35820,
          61520,
          47950,
          65120,
          42480,
          31590,
          38400,
          35460,
          40810,
          57440,
          60320,
          4720,
          4720,
          44720,
          51040,
          43620,
          4410,
          66570,
          50800,
          44030,
          46410,
          57050,
          30000,
          30730,
          48330,
          44310,
          41860,
          52200,
          1750,
          40590,
          46320,
          46350,
          44870,
          53520,
          4160,
          26480,
          52020,
          53360,
          55230,
          34860,
          56320,
          34320,
          35880,
          38220,
          41510,
          38720,
          43120,
          55620,
          62300,
          4920,
          41160,
          35820,
          45450,
          26000,
          32130,
          58640,
          38240,
          2560,
          56000,
          56070,
          39060,
          42880,
          1440,
          5300,
          57360,
          2100,
          63300,
          54960,
          60160,
          58880,
          59310,
          4960,
          45520,
          39300,
          46240,
          49120,
          3290,
          47180,
          62370,
          8300,
          30590,
          34020,
          37870,
          53480,
          48020,
          48300,
          6480,
          42770,
          34000,
          64800,
          2940,
          5040,
          25020,
          49210,
          3600,
          3440,
          19110,
          39040,
          35100,
          58870,
          47880,
          33180,
          40390,
          74790,
          38010,
          21520,
          59220,
          55760,
          25480,
          28140,
          50330,
          45180,
          33180,
          49770,
          48580,
          40000,
          35370,
          38520,
          42840,
          55360,
          58860,
          43330,
          4690,
          3570,
          3570,
          50680,
          49630,
          52080,
          49980,
          50890,
          44030,
          69210,
          44520,
          52000,
          4000,
          3500,
          36300,
          48160,
          34960,
          49840,
          35000,
          3850,
          53730,
          48020,
          46000,
          6090,
          53970,
          46200,
          39920,
          53840,
          39130,
          59670,
          3920,
          49490,
          52290,
          32480,
          25150,
          34240,
          32560,
          25200,
          2400,
          57440,
          4480,
          62000,
          54630,
          3850,
          63920,
          44000,
          56140,
          39040,
          43040,
          40770,
          39520,
          2080,
          4270,
          5360,
          40640,
          31140,
          65200,
          39690,
          50940,
          37760,
          38880,
          45680,
          56320,
          47810,
          3680,
          39600,
          54390,
          54390,
          43750,
          57960,
          36270,
          76000,
          2730,
          41580,
          46830,
          30520,
          43960,
          41650,
          41580,
          26530,
          44170,
          47160,
          46400,
          33600,
          46800,
          44160,
          49080,
          42800,
          24240,
          26040,
          2880,
          2940,
          42160,
          3360,
          48510,
          24360,
          47040,
          1760,
          4400,
          34160,
          29280,
          35000,
          2880,
          61650,
          37440,
          45840,
          46160,
          32320,
          4200,
          57900,
          45600,
          2100,
          34400,
          40080,
          3360,
          51570,
          52080,
          28240,
          1680,
          46300,
          30240,
          46800,
          59490,
          67590,
          45850,
          39970,
          56160,
          2940,
          49860,
          36640,
          44550,
          38780,
          34930,
          49920,
          73260,
          5200,
          33480,
          3710,
          51540,
          4740,
          26880,
          51520,
          1440,
          62640,
          59760,
          35210,
          30940,
          54540,
          56960,
          72720,
          40560,
          34140,
          34560,
          42240,
          32200,
          6300,
          47320,
          27200,
          58500,
          52080,
          42420,
          54160,
          20510,
          55600,
          34580,
          57610,
          5840,
          51120,
          28980,
          27660,
          57520,
          61530,
          42720,
          33110,
          59680,
          32240,
          34860,
          43400,
          40500,
          41720,
          44730,
          35000,
          43260,
          46960,
          49350,
          34740,
          42080,
          25200,
          50640,
          30940,
          24640,
          70,
          43820,
          57060,
          40320,
          60660,
          35920,
          46240,
          2380,
          3680,
          26080,
          38500,
          42960,
          22120,
          28980,
          27090,
          4240,
          42930,
          33600,
          46160,
          42120,
          33300,
          67440,
          21490,
          39620,
          2640,
          24360,
          63600,
          44800,
          56980,
          3600,
          33600,
          36540,
          49200,
          54740,
          32200,
          44380,
          3640,
          42480,
          2560,
          43740,
          49490,
          43760,
          54400,
          2870,
          44720,
          5040,
          32800,
          48480,
          53480,
          37100,
          41680,
          41300,
          52290,
          42350,
          61760,
          44400,
          50240,
          3420,
          45200,
          3920,
          6300,
          56880,
          4320,
          37360,
          36120,
          4200,
          38010,
          3870,
          48090,
          27860,
          43680,
          36890,
          53340,
          58410,
          4560,
          77670,
          32760,
          42240,
          60720,
          46320,
          38430,
          52960,
          42720,
          29750,
          35600,
          37450,
          65920,
          40680,
          59360,
          36890,
          47740,
          49700,
          41510,
          46830,
          29680,
          52780,
          2940,
          40950,
          26880,
          46270,
          35360,
          5390,
          40960,
          38080,
          39040,
          53840,
          26720,
          54530,
          29890,
          40880,
          53120,
          48020,
          5120,
          42420,
          40960,
          38000,
          37730,
          1980,
          6210,
          4000,
          38640,
          5280,
          41160,
          47360,
          3290,
          55520,
          32400,
          45000,
          44880,
          58870,
          51440,
          51520,
          64720,
          4500,
          21490,
          26040,
          43620,
          31040,
          71820,
          43680,
          63280,
          2800,
          41760,
          50640,
          55280,
          32160,
          41600,
          1960,
          55120,
          23760,
          2580,
          66560,
          54320,
          3360,
          35000,
          39600,
          49120,
          35980,
          32520,
          40740,
          47320,
          42720,
          43080,
          59710,
          38850,
          3870,
          29820,
          2730,
          54950,
          55090,
          45360,
          47700,
          33880,
          40560,
          45440,
          3760,
          46160,
          59680,
          3360,
          35140,
          31570,
          52920,
          54810,
          33600,
          2100,
          40040,
          5520,
          55440,
          3360,
          2730,
          72320,
          44030,
          37940,
          36260,
          4800,
          53920,
          47460,
          38780,
          34370,
          75600,
          48400,
          49280,
          39960,
          53830,
          34720,
          67230,
          42770,
          36330,
          2580,
          34260,
          61520,
          53900,
          41760,
          42490,
          47360,
          26670,
          41760,
          25690,
          48160,
          4860,
          61040,
          72320,
          52500,
          36540,
          3680
         ]
        }
       ],
       "layout": {
        "template": {
         "data": {
          "bar": [
           {
            "error_x": {
             "color": "#2a3f5f"
            },
            "error_y": {
             "color": "#2a3f5f"
            },
            "marker": {
             "line": {
              "color": "#E5ECF6",
              "width": 0.5
             }
            },
            "type": "bar"
           }
          ],
          "barpolar": [
           {
            "marker": {
             "line": {
              "color": "#E5ECF6",
              "width": 0.5
             }
            },
            "type": "barpolar"
           }
          ],
          "carpet": [
           {
            "aaxis": {
             "endlinecolor": "#2a3f5f",
             "gridcolor": "white",
             "linecolor": "white",
             "minorgridcolor": "white",
             "startlinecolor": "#2a3f5f"
            },
            "baxis": {
             "endlinecolor": "#2a3f5f",
             "gridcolor": "white",
             "linecolor": "white",
             "minorgridcolor": "white",
             "startlinecolor": "#2a3f5f"
            },
            "type": "carpet"
           }
          ],
          "choropleth": [
           {
            "colorbar": {
             "outlinewidth": 0,
             "ticks": ""
            },
            "type": "choropleth"
           }
          ],
          "contour": [
           {
            "colorbar": {
             "outlinewidth": 0,
             "ticks": ""
            },
            "colorscale": [
             [
              0,
              "#0d0887"
             ],
             [
              0.1111111111111111,
              "#46039f"
             ],
             [
              0.2222222222222222,
              "#7201a8"
             ],
             [
              0.3333333333333333,
              "#9c179e"
             ],
             [
              0.4444444444444444,
              "#bd3786"
             ],
             [
              0.5555555555555556,
              "#d8576b"
             ],
             [
              0.6666666666666666,
              "#ed7953"
             ],
             [
              0.7777777777777778,
              "#fb9f3a"
             ],
             [
              0.8888888888888888,
              "#fdca26"
             ],
             [
              1,
              "#f0f921"
             ]
            ],
            "type": "contour"
           }
          ],
          "contourcarpet": [
           {
            "colorbar": {
             "outlinewidth": 0,
             "ticks": ""
            },
            "type": "contourcarpet"
           }
          ],
          "heatmap": [
           {
            "colorbar": {
             "outlinewidth": 0,
             "ticks": ""
            },
            "colorscale": [
             [
              0,
              "#0d0887"
             ],
             [
              0.1111111111111111,
              "#46039f"
             ],
             [
              0.2222222222222222,
              "#7201a8"
             ],
             [
              0.3333333333333333,
              "#9c179e"
             ],
             [
              0.4444444444444444,
              "#bd3786"
             ],
             [
              0.5555555555555556,
              "#d8576b"
             ],
             [
              0.6666666666666666,
              "#ed7953"
             ],
             [
              0.7777777777777778,
              "#fb9f3a"
             ],
             [
              0.8888888888888888,
              "#fdca26"
             ],
             [
              1,
              "#f0f921"
             ]
            ],
            "type": "heatmap"
           }
          ],
          "heatmapgl": [
           {
            "colorbar": {
             "outlinewidth": 0,
             "ticks": ""
            },
            "colorscale": [
             [
              0,
              "#0d0887"
             ],
             [
              0.1111111111111111,
              "#46039f"
             ],
             [
              0.2222222222222222,
              "#7201a8"
             ],
             [
              0.3333333333333333,
              "#9c179e"
             ],
             [
              0.4444444444444444,
              "#bd3786"
             ],
             [
              0.5555555555555556,
              "#d8576b"
             ],
             [
              0.6666666666666666,
              "#ed7953"
             ],
             [
              0.7777777777777778,
              "#fb9f3a"
             ],
             [
              0.8888888888888888,
              "#fdca26"
             ],
             [
              1,
              "#f0f921"
             ]
            ],
            "type": "heatmapgl"
           }
          ],
          "histogram": [
           {
            "marker": {
             "colorbar": {
              "outlinewidth": 0,
              "ticks": ""
             }
            },
            "type": "histogram"
           }
          ],
          "histogram2d": [
           {
            "colorbar": {
             "outlinewidth": 0,
             "ticks": ""
            },
            "colorscale": [
             [
              0,
              "#0d0887"
             ],
             [
              0.1111111111111111,
              "#46039f"
             ],
             [
              0.2222222222222222,
              "#7201a8"
             ],
             [
              0.3333333333333333,
              "#9c179e"
             ],
             [
              0.4444444444444444,
              "#bd3786"
             ],
             [
              0.5555555555555556,
              "#d8576b"
             ],
             [
              0.6666666666666666,
              "#ed7953"
             ],
             [
              0.7777777777777778,
              "#fb9f3a"
             ],
             [
              0.8888888888888888,
              "#fdca26"
             ],
             [
              1,
              "#f0f921"
             ]
            ],
            "type": "histogram2d"
           }
          ],
          "histogram2dcontour": [
           {
            "colorbar": {
             "outlinewidth": 0,
             "ticks": ""
            },
            "colorscale": [
             [
              0,
              "#0d0887"
             ],
             [
              0.1111111111111111,
              "#46039f"
             ],
             [
              0.2222222222222222,
              "#7201a8"
             ],
             [
              0.3333333333333333,
              "#9c179e"
             ],
             [
              0.4444444444444444,
              "#bd3786"
             ],
             [
              0.5555555555555556,
              "#d8576b"
             ],
             [
              0.6666666666666666,
              "#ed7953"
             ],
             [
              0.7777777777777778,
              "#fb9f3a"
             ],
             [
              0.8888888888888888,
              "#fdca26"
             ],
             [
              1,
              "#f0f921"
             ]
            ],
            "type": "histogram2dcontour"
           }
          ],
          "mesh3d": [
           {
            "colorbar": {
             "outlinewidth": 0,
             "ticks": ""
            },
            "type": "mesh3d"
           }
          ],
          "parcoords": [
           {
            "line": {
             "colorbar": {
              "outlinewidth": 0,
              "ticks": ""
             }
            },
            "type": "parcoords"
           }
          ],
          "pie": [
           {
            "automargin": true,
            "type": "pie"
           }
          ],
          "scatter": [
           {
            "marker": {
             "colorbar": {
              "outlinewidth": 0,
              "ticks": ""
             }
            },
            "type": "scatter"
           }
          ],
          "scatter3d": [
           {
            "line": {
             "colorbar": {
              "outlinewidth": 0,
              "ticks": ""
             }
            },
            "marker": {
             "colorbar": {
              "outlinewidth": 0,
              "ticks": ""
             }
            },
            "type": "scatter3d"
           }
          ],
          "scattercarpet": [
           {
            "marker": {
             "colorbar": {
              "outlinewidth": 0,
              "ticks": ""
             }
            },
            "type": "scattercarpet"
           }
          ],
          "scattergeo": [
           {
            "marker": {
             "colorbar": {
              "outlinewidth": 0,
              "ticks": ""
             }
            },
            "type": "scattergeo"
           }
          ],
          "scattergl": [
           {
            "marker": {
             "colorbar": {
              "outlinewidth": 0,
              "ticks": ""
             }
            },
            "type": "scattergl"
           }
          ],
          "scattermapbox": [
           {
            "marker": {
             "colorbar": {
              "outlinewidth": 0,
              "ticks": ""
             }
            },
            "type": "scattermapbox"
           }
          ],
          "scatterpolar": [
           {
            "marker": {
             "colorbar": {
              "outlinewidth": 0,
              "ticks": ""
             }
            },
            "type": "scatterpolar"
           }
          ],
          "scatterpolargl": [
           {
            "marker": {
             "colorbar": {
              "outlinewidth": 0,
              "ticks": ""
             }
            },
            "type": "scatterpolargl"
           }
          ],
          "scatterternary": [
           {
            "marker": {
             "colorbar": {
              "outlinewidth": 0,
              "ticks": ""
             }
            },
            "type": "scatterternary"
           }
          ],
          "surface": [
           {
            "colorbar": {
             "outlinewidth": 0,
             "ticks": ""
            },
            "colorscale": [
             [
              0,
              "#0d0887"
             ],
             [
              0.1111111111111111,
              "#46039f"
             ],
             [
              0.2222222222222222,
              "#7201a8"
             ],
             [
              0.3333333333333333,
              "#9c179e"
             ],
             [
              0.4444444444444444,
              "#bd3786"
             ],
             [
              0.5555555555555556,
              "#d8576b"
             ],
             [
              0.6666666666666666,
              "#ed7953"
             ],
             [
              0.7777777777777778,
              "#fb9f3a"
             ],
             [
              0.8888888888888888,
              "#fdca26"
             ],
             [
              1,
              "#f0f921"
             ]
            ],
            "type": "surface"
           }
          ],
          "table": [
           {
            "cells": {
             "fill": {
              "color": "#EBF0F8"
             },
             "line": {
              "color": "white"
             }
            },
            "header": {
             "fill": {
              "color": "#C8D4E3"
             },
             "line": {
              "color": "white"
             }
            },
            "type": "table"
           }
          ]
         },
         "layout": {
          "annotationdefaults": {
           "arrowcolor": "#2a3f5f",
           "arrowhead": 0,
           "arrowwidth": 1
          },
          "autotypenumbers": "strict",
          "coloraxis": {
           "colorbar": {
            "outlinewidth": 0,
            "ticks": ""
           }
          },
          "colorscale": {
           "diverging": [
            [
             0,
             "#8e0152"
            ],
            [
             0.1,
             "#c51b7d"
            ],
            [
             0.2,
             "#de77ae"
            ],
            [
             0.3,
             "#f1b6da"
            ],
            [
             0.4,
             "#fde0ef"
            ],
            [
             0.5,
             "#f7f7f7"
            ],
            [
             0.6,
             "#e6f5d0"
            ],
            [
             0.7,
             "#b8e186"
            ],
            [
             0.8,
             "#7fbc41"
            ],
            [
             0.9,
             "#4d9221"
            ],
            [
             1,
             "#276419"
            ]
           ],
           "sequential": [
            [
             0,
             "#0d0887"
            ],
            [
             0.1111111111111111,
             "#46039f"
            ],
            [
             0.2222222222222222,
             "#7201a8"
            ],
            [
             0.3333333333333333,
             "#9c179e"
            ],
            [
             0.4444444444444444,
             "#bd3786"
            ],
            [
             0.5555555555555556,
             "#d8576b"
            ],
            [
             0.6666666666666666,
             "#ed7953"
            ],
            [
             0.7777777777777778,
             "#fb9f3a"
            ],
            [
             0.8888888888888888,
             "#fdca26"
            ],
            [
             1,
             "#f0f921"
            ]
           ],
           "sequentialminus": [
            [
             0,
             "#0d0887"
            ],
            [
             0.1111111111111111,
             "#46039f"
            ],
            [
             0.2222222222222222,
             "#7201a8"
            ],
            [
             0.3333333333333333,
             "#9c179e"
            ],
            [
             0.4444444444444444,
             "#bd3786"
            ],
            [
             0.5555555555555556,
             "#d8576b"
            ],
            [
             0.6666666666666666,
             "#ed7953"
            ],
            [
             0.7777777777777778,
             "#fb9f3a"
            ],
            [
             0.8888888888888888,
             "#fdca26"
            ],
            [
             1,
             "#f0f921"
            ]
           ]
          },
          "colorway": [
           "#636efa",
           "#EF553B",
           "#00cc96",
           "#ab63fa",
           "#FFA15A",
           "#19d3f3",
           "#FF6692",
           "#B6E880",
           "#FF97FF",
           "#FECB52"
          ],
          "font": {
           "color": "#2a3f5f"
          },
          "geo": {
           "bgcolor": "white",
           "lakecolor": "white",
           "landcolor": "#E5ECF6",
           "showlakes": true,
           "showland": true,
           "subunitcolor": "white"
          },
          "hoverlabel": {
           "align": "left"
          },
          "hovermode": "closest",
          "mapbox": {
           "style": "light"
          },
          "paper_bgcolor": "white",
          "plot_bgcolor": "#E5ECF6",
          "polar": {
           "angularaxis": {
            "gridcolor": "white",
            "linecolor": "white",
            "ticks": ""
           },
           "bgcolor": "#E5ECF6",
           "radialaxis": {
            "gridcolor": "white",
            "linecolor": "white",
            "ticks": ""
           }
          },
          "scene": {
           "xaxis": {
            "backgroundcolor": "#E5ECF6",
            "gridcolor": "white",
            "gridwidth": 2,
            "linecolor": "white",
            "showbackground": true,
            "ticks": "",
            "zerolinecolor": "white"
           },
           "yaxis": {
            "backgroundcolor": "#E5ECF6",
            "gridcolor": "white",
            "gridwidth": 2,
            "linecolor": "white",
            "showbackground": true,
            "ticks": "",
            "zerolinecolor": "white"
           },
           "zaxis": {
            "backgroundcolor": "#E5ECF6",
            "gridcolor": "white",
            "gridwidth": 2,
            "linecolor": "white",
            "showbackground": true,
            "ticks": "",
            "zerolinecolor": "white"
           }
          },
          "shapedefaults": {
           "line": {
            "color": "#2a3f5f"
           }
          },
          "ternary": {
           "aaxis": {
            "gridcolor": "white",
            "linecolor": "white",
            "ticks": ""
           },
           "baxis": {
            "gridcolor": "white",
            "linecolor": "white",
            "ticks": ""
           },
           "bgcolor": "#E5ECF6",
           "caxis": {
            "gridcolor": "white",
            "linecolor": "white",
            "ticks": ""
           }
          },
          "title": {
           "x": 0.05
          },
          "xaxis": {
           "automargin": true,
           "gridcolor": "white",
           "linecolor": "white",
           "ticks": "",
           "title": {
            "standoff": 15
           },
           "zerolinecolor": "white",
           "zerolinewidth": 2
          },
          "yaxis": {
           "automargin": true,
           "gridcolor": "white",
           "linecolor": "white",
           "ticks": "",
           "title": {
            "standoff": 15
           },
           "zerolinecolor": "white",
           "zerolinewidth": 2
          }
         }
        },
        "title": {
         "text": "Automobile Company vs Vehicle Claim"
        }
       }
      },
      "text/html": [
       "<div>                            <div id=\"7e8f2eb4-cf90-4fc7-b9cf-50a09ca9999e\" class=\"plotly-graph-div\" style=\"height:525px; width:100%;\"></div>            <script type=\"text/javascript\">                require([\"plotly\"], function(Plotly) {                    window.PLOTLYENV=window.PLOTLYENV || {};                                    if (document.getElementById(\"7e8f2eb4-cf90-4fc7-b9cf-50a09ca9999e\")) {                    Plotly.newPlot(                        \"7e8f2eb4-cf90-4fc7-b9cf-50a09ca9999e\",                        [{\"marker\": {\"color\": \"rgb(215, 195, 5, 0.5)\"}, \"opacity\": 0.7, \"type\": \"box\", \"x\": [\"Saab\", \"Mercedes\", \"Dodge\", \"Chevrolet\", \"Accura\", \"Saab\", \"Nissan\", \"Audi\", \"Toyota\", \"Saab\", \"Ford\", \"Audi\", \"Saab\", \"Toyota\", \"Dodge\", \"Accura\", \"Nissan\", \"Suburu\", \"Accura\", \"Nissan\", \"Suburu\", \"Accura\", \"Suburu\", \"Dodge\", \"Ford\", \"Ford\", \"Toyota\", \"Suburu\", \"Dodge\", \"Accura\", \"Toyota\", \"Ford\", \"BMW\", \"Suburu\", \"Audi\", \"Mercedes\", \"Suburu\", \"Suburu\", \"Jeep\", \"Nissan\", \"BMW\", \"BMW\", \"Dodge\", \"Mercedes\", \"Toyota\", \"Accura\", \"Honda\", \"Audi\", \"Volkswagen\", \"Mercedes\", \"Nissan\", \"BMW\", \"Toyota\", \"Suburu\", \"Ford\", \"Chevrolet\", \"Honda\", \"Chevrolet\", \"Saab\", \"Ford\", \"Nissan\", \"Honda\", \"BMW\", \"Suburu\", \"Ford\", \"Dodge\", \"Audi\", \"BMW\", \"Audi\", \"Ford\", \"Audi\", \"Honda\", \"Chevrolet\", \"Mercedes\", \"BMW\", \"Ford\", \"Suburu\", \"Audi\", \"Saab\", \"BMW\", \"Accura\", \"Accura\", \"Nissan\", \"Volkswagen\", \"Audi\", \"Suburu\", \"Ford\", \"BMW\", \"Dodge\", \"Accura\", \"Saab\", \"Honda\", \"BMW\", \"Ford\", \"Mercedes\", \"Toyota\", \"Dodge\", \"Nissan\", \"Saab\", \"Audi\", \"Saab\", \"Saab\", \"Ford\", \"Toyota\", \"Chevrolet\", \"Mercedes\", \"Saab\", \"Volkswagen\", \"Saab\", \"Nissan\", \"Dodge\", \"Ford\", \"BMW\", \"Saab\", \"Ford\", \"Accura\", \"Suburu\", \"Toyota\", \"Ford\", \"BMW\", \"Volkswagen\", \"Ford\", \"Nissan\", \"Accura\", \"BMW\", \"Ford\", \"Suburu\", \"BMW\", \"BMW\", \"Saab\", \"Ford\", \"Dodge\", \"Nissan\", \"Jeep\", \"BMW\", \"Volkswagen\", \"Ford\", \"BMW\", \"Toyota\", \"BMW\", \"Mercedes\", \"Suburu\", \"Chevrolet\", \"Accura\", \"Accura\", \"Accura\", \"BMW\", \"Nissan\", \"Volkswagen\", \"Suburu\", \"Audi\", \"Mercedes\", \"Volkswagen\", \"Suburu\", \"Saab\", \"Audi\", \"Jeep\", \"Saab\", \"Suburu\", \"Honda\", \"Mercedes\", \"Chevrolet\", \"Volkswagen\", \"Dodge\", \"Mercedes\", \"Suburu\", \"Audi\", \"Saab\", \"Toyota\", \"Jeep\", \"Jeep\", \"Volkswagen\", \"Dodge\", \"Volkswagen\", \"Ford\", \"Jeep\", \"Honda\", \"Volkswagen\", \"Chevrolet\", \"Chevrolet\", \"Audi\", \"Dodge\", \"Accura\", \"Chevrolet\", \"Mercedes\", \"Mercedes\", \"Audi\", \"Chevrolet\", \"Honda\", \"Honda\", \"Volkswagen\", \"Nissan\", \"Mercedes\", \"Nissan\", \"Chevrolet\", \"Saab\", \"Jeep\", \"Accura\", \"Honda\", \"BMW\", \"Suburu\", \"Suburu\", \"Chevrolet\", \"Chevrolet\", \"Saab\", \"BMW\", \"Ford\", \"Audi\", \"Mercedes\", \"Suburu\", \"Toyota\", \"Dodge\", \"Volkswagen\", \"Dodge\", \"Suburu\", \"Audi\", \"Audi\", \"BMW\", \"Saab\", \"BMW\", \"Honda\", \"Jeep\", \"Chevrolet\", \"Mercedes\", \"Accura\", \"Jeep\", \"Accura\", \"Toyota\", \"Saab\", \"Accura\", \"Honda\", \"Volkswagen\", \"Toyota\", \"Nissan\", \"Audi\", \"Nissan\", \"Dodge\", \"Audi\", \"Saab\", \"Suburu\", \"Saab\", \"Chevrolet\", \"Nissan\", \"Dodge\", \"Mercedes\", \"Dodge\", \"Saab\", \"Chevrolet\", \"Mercedes\", \"Chevrolet\", \"Suburu\", \"Ford\", \"Saab\", \"Nissan\", \"Chevrolet\", \"Dodge\", \"Accura\", \"Mercedes\", \"Toyota\", \"Suburu\", \"Dodge\", \"Ford\", \"Volkswagen\", \"Dodge\", \"Volkswagen\", \"Audi\", \"Toyota\", \"BMW\", \"Nissan\", \"Chevrolet\", \"Toyota\", \"Audi\", \"Jeep\", \"Nissan\", \"Ford\", \"Jeep\", \"Saab\", \"BMW\", \"Nissan\", \"BMW\", \"Nissan\", \"Chevrolet\", \"Jeep\", \"BMW\", \"Ford\", \"Accura\", \"Suburu\", \"Toyota\", \"Ford\", \"BMW\", \"Chevrolet\", \"BMW\", \"BMW\", \"Mercedes\", \"Honda\", \"Mercedes\", \"Audi\", \"Dodge\", \"Nissan\", \"Accura\", \"Audi\", \"Honda\", \"Jeep\", \"Ford\", \"Accura\", \"Honda\", \"Mercedes\", \"Nissan\", \"Suburu\", \"BMW\", \"Toyota\", \"Honda\", \"Suburu\", \"Toyota\", \"BMW\", \"Nissan\", \"BMW\", \"Accura\", \"Toyota\", \"Suburu\", \"Toyota\", \"Dodge\", \"BMW\", \"Audi\", \"Honda\", \"Nissan\", \"Volkswagen\", \"Chevrolet\", \"Audi\", \"Honda\", \"Toyota\", \"Nissan\", \"Nissan\", \"Suburu\", \"Ford\", \"BMW\", \"Chevrolet\", \"Dodge\", \"Saab\", \"Suburu\", \"Audi\", \"BMW\", \"Suburu\", \"Ford\", \"Jeep\", \"Jeep\", \"Suburu\", \"Mercedes\", \"Audi\", \"Accura\", \"Volkswagen\", \"Audi\", \"Honda\", \"Suburu\", \"Volkswagen\", \"Nissan\", \"Ford\", \"Suburu\", \"Jeep\", \"Saab\", \"Chevrolet\", \"Toyota\", \"Saab\", \"Mercedes\", \"Volkswagen\", \"BMW\", \"Volkswagen\", \"Toyota\", \"Accura\", \"Dodge\", \"Saab\", \"Honda\", \"Suburu\", \"Honda\", \"Suburu\", \"Volkswagen\", \"Dodge\", \"Toyota\", \"Audi\", \"Mercedes\", \"Audi\", \"Chevrolet\", \"Nissan\", \"BMW\", \"Audi\", \"Ford\", \"Mercedes\", \"Honda\", \"Nissan\", \"Suburu\", \"Saab\", \"Toyota\", \"Saab\", \"Volkswagen\", \"Accura\", \"Accura\", \"Ford\", \"Jeep\", \"Saab\", \"Chevrolet\", \"Jeep\", \"Ford\", \"Mercedes\", \"Audi\", \"Chevrolet\", \"Honda\", \"Toyota\", \"Suburu\", \"Chevrolet\", \"Ford\", \"BMW\", \"BMW\", \"Chevrolet\", \"Jeep\", \"Dodge\", \"Suburu\", \"Mercedes\", \"Jeep\", \"Jeep\", \"BMW\", \"Volkswagen\", \"Toyota\", \"Toyota\", \"Ford\", \"Suburu\", \"Chevrolet\", \"BMW\", \"Nissan\", \"Mercedes\", \"Nissan\", \"Dodge\", \"Saab\", \"Audi\", \"Dodge\", \"Honda\", \"Dodge\", \"Suburu\", \"Mercedes\", \"Audi\", \"Nissan\", \"Dodge\", \"Dodge\", \"Suburu\", \"Jeep\", \"Dodge\", \"Chevrolet\", \"Jeep\", \"Chevrolet\", \"Dodge\", \"BMW\", \"Toyota\", \"Chevrolet\", \"Audi\", \"Suburu\", \"Chevrolet\", \"Ford\", \"Dodge\", \"Volkswagen\", \"Jeep\", \"Accura\", \"Volkswagen\", \"Honda\", \"Suburu\", \"Saab\", \"Nissan\", \"BMW\", \"Chevrolet\", \"Volkswagen\", \"Volkswagen\", \"Volkswagen\", \"Nissan\", \"Dodge\", \"BMW\", \"Nissan\", \"Toyota\", \"Nissan\", \"Saab\", \"Saab\", \"Mercedes\", \"Mercedes\", \"Ford\", \"Accura\", \"Volkswagen\", \"BMW\", \"Jeep\", \"Nissan\", \"Chevrolet\", \"Dodge\", \"Mercedes\", \"Dodge\", \"Toyota\", \"Jeep\", \"Saab\", \"Chevrolet\", \"Dodge\", \"Chevrolet\", \"Accura\", \"Accura\", \"Mercedes\", \"Saab\", \"Honda\", \"Mercedes\", \"Nissan\", \"Accura\", \"Ford\", \"Jeep\", \"Nissan\", \"Accura\", \"Honda\", \"Mercedes\", \"Audi\", \"Volkswagen\", \"Nissan\", \"Dodge\", \"Honda\", \"Mercedes\", \"Chevrolet\", \"Jeep\", \"Jeep\", \"Chevrolet\", \"Accura\", \"Audi\", \"Honda\", \"Ford\", \"Toyota\", \"Jeep\", \"Suburu\", \"Ford\", \"Jeep\", \"BMW\", \"Chevrolet\", \"Accura\", \"Mercedes\", \"Mercedes\", \"Nissan\", \"Accura\", \"Volkswagen\", \"Nissan\", \"Dodge\", \"BMW\", \"Volkswagen\", \"Mercedes\", \"Saab\", \"Suburu\", \"Honda\", \"Suburu\", \"Audi\", \"Ford\", \"Accura\", \"BMW\", \"Volkswagen\", \"Accura\", \"Dodge\", \"Honda\", \"Saab\", \"Volkswagen\", \"Ford\", \"Accura\", \"Saab\", \"Toyota\", \"Chevrolet\", \"Ford\", \"Ford\", \"Dodge\", \"Jeep\", \"Saab\", \"Toyota\", \"Ford\", \"Chevrolet\", \"BMW\", \"Volkswagen\", \"Jeep\", \"Dodge\", \"Mercedes\", \"Chevrolet\", \"Audi\", \"BMW\", \"Saab\", \"Toyota\", \"Honda\", \"Ford\", \"Audi\", \"Ford\", \"Toyota\", \"Nissan\", \"Chevrolet\", \"Volkswagen\", \"Chevrolet\", \"Mercedes\", \"Saab\", \"Ford\", \"Honda\", \"Chevrolet\", \"Toyota\", \"Mercedes\", \"Ford\", \"Dodge\", \"Mercedes\", \"Saab\", \"Saab\", \"Nissan\", \"Ford\", \"Volkswagen\", \"Toyota\", \"Toyota\", \"Accura\", \"Audi\", \"Accura\", \"Volkswagen\", \"Dodge\", \"Toyota\", \"Chevrolet\", \"BMW\", \"Volkswagen\", \"Toyota\", \"Nissan\", \"Nissan\", \"Volkswagen\", \"Jeep\", \"Saab\", \"Volkswagen\", \"Ford\", \"Jeep\", \"Saab\", \"Nissan\", \"Mercedes\", \"Dodge\", \"Toyota\", \"BMW\", \"Ford\", \"Chevrolet\", \"Accura\", \"Accura\", \"Mercedes\", \"Toyota\", \"Chevrolet\", \"Saab\", \"Suburu\", \"Audi\", \"Nissan\", \"Dodge\", \"Suburu\", \"Saab\", \"Audi\", \"Volkswagen\", \"Honda\", \"Dodge\", \"Suburu\", \"Honda\", \"Dodge\", \"Ford\", \"Jeep\", \"Audi\", \"Jeep\", \"Audi\", \"Ford\", \"Ford\", \"Jeep\", \"Nissan\", \"Suburu\", \"Jeep\", \"Dodge\", \"Honda\", \"Saab\", \"Accura\", \"Mercedes\", \"BMW\", \"Audi\", \"Toyota\", \"Nissan\", \"Jeep\", \"Ford\", \"Dodge\", \"Dodge\", \"Toyota\", \"Jeep\", \"Saab\", \"Saab\", \"Ford\", \"Dodge\", \"Accura\", \"Honda\", \"Volkswagen\", \"Saab\", \"Accura\", \"Chevrolet\", \"Saab\", \"Saab\", \"Audi\", \"Saab\", \"BMW\", \"BMW\", \"Jeep\", \"Ford\", \"Audi\", \"Honda\", \"Volkswagen\", \"Nissan\", \"Mercedes\", \"Saab\", \"BMW\", \"Mercedes\", \"Volkswagen\", \"Mercedes\", \"Chevrolet\", \"Accura\", \"Nissan\", \"Ford\", \"Dodge\", \"Volkswagen\", \"Ford\", \"Jeep\", \"Saab\", \"Chevrolet\", \"Mercedes\", \"Chevrolet\", \"Dodge\", \"Accura\", \"Audi\", \"Volkswagen\", \"Dodge\", \"Dodge\", \"Suburu\", \"Accura\", \"Chevrolet\", \"Dodge\", \"Chevrolet\", \"Suburu\", \"Chevrolet\", \"Suburu\", \"Suburu\", \"Toyota\", \"Saab\", \"Dodge\", \"Accura\", \"Jeep\", \"Volkswagen\", \"Nissan\", \"Honda\", \"Chevrolet\", \"Suburu\", \"BMW\", \"Volkswagen\", \"Toyota\", \"Dodge\", \"Mercedes\", \"Audi\", \"Dodge\", \"Jeep\", \"Ford\", \"Mercedes\", \"Accura\", \"Chevrolet\", \"Mercedes\", \"Nissan\", \"Dodge\", \"Jeep\", \"Accura\", \"Saab\", \"Nissan\", \"Nissan\", \"Jeep\", \"Jeep\", \"Volkswagen\", \"Mercedes\", \"Suburu\", \"Suburu\", \"Jeep\", \"Suburu\", \"Audi\", \"Volkswagen\", \"Chevrolet\", \"Toyota\", \"Saab\", \"Toyota\", \"Audi\", \"Volkswagen\", \"Dodge\", \"Volkswagen\", \"Nissan\", \"Suburu\", \"Dodge\", \"Chevrolet\", \"Nissan\", \"BMW\", \"Ford\", \"Toyota\", \"Dodge\", \"Honda\", \"Volkswagen\", \"Nissan\", \"BMW\", \"Suburu\", \"Toyota\", \"Saab\", \"Jeep\", \"Mercedes\", \"Toyota\", \"Toyota\", \"Audi\", \"Accura\", \"Chevrolet\", \"Chevrolet\", \"Volkswagen\", \"Toyota\", \"Saab\", \"Nissan\", \"Audi\", \"Audi\", \"Saab\", \"Ford\", \"Chevrolet\", \"Accura\", \"Accura\", \"Nissan\", \"Volkswagen\", \"Nissan\", \"Ford\", \"Chevrolet\", \"Dodge\", \"Audi\", \"Nissan\", \"Honda\", \"Volkswagen\", \"Ford\", \"Volkswagen\", \"Suburu\", \"Suburu\", \"Audi\", \"Jeep\", \"Dodge\", \"Audi\", \"Nissan\", \"Ford\", \"Suburu\", \"Mercedes\", \"Nissan\", \"Audi\", \"BMW\", \"Dodge\", \"Chevrolet\", \"Saab\", \"BMW\", \"Toyota\", \"Jeep\", \"Ford\", \"Toyota\", \"Jeep\", \"Volkswagen\", \"Saab\", \"Accura\", \"Audi\", \"Mercedes\", \"Nissan\", \"Saab\", \"Audi\", \"Suburu\", \"Toyota\", \"Nissan\", \"Suburu\", \"Accura\", \"Nissan\", \"Suburu\", \"Jeep\", \"Toyota\", \"Dodge\", \"Accura\", \"Dodge\", \"Suburu\", \"Ford\", \"Honda\", \"Jeep\", \"Ford\", \"Chevrolet\", \"Mercedes\", \"Jeep\", \"Saab\", \"Saab\", \"Chevrolet\", \"Mercedes\", \"Dodge\", \"BMW\", \"BMW\", \"Audi\", \"BMW\", \"BMW\", \"Audi\", \"Honda\", \"Accura\", \"Volkswagen\", \"Suburu\", \"Saab\", \"Jeep\", \"Dodge\", \"Suburu\", \"Saab\", \"Saab\", \"Jeep\", \"Chevrolet\", \"Saab\", \"Mercedes\", \"Nissan\", \"Honda\", \"Volkswagen\", \"Saab\", \"Chevrolet\", \"BMW\", \"Saab\", \"Honda\", \"Jeep\", \"Nissan\", \"Jeep\", \"Accura\", \"Honda\", \"Honda\", \"Mercedes\", \"Honda\", \"Mercedes\", \"Toyota\", \"Dodge\", \"Accura\", \"BMW\", \"Nissan\", \"Accura\", \"Honda\", \"Jeep\", \"BMW\", \"Dodge\", \"Audi\", \"Toyota\", \"Saab\", \"Nissan\", \"Honda\", \"Dodge\", \"Toyota\", \"Toyota\", \"Honda\", \"Jeep\", \"Toyota\", \"Dodge\", \"Suburu\", \"Volkswagen\", \"Volkswagen\", \"Audi\", \"Jeep\", \"Suburu\", \"Audi\", \"Suburu\", \"Suburu\", \"Ford\", \"Toyota\", \"Nissan\", \"Audi\", \"Volkswagen\", \"Honda\", \"Nissan\", \"Toyota\", \"Chevrolet\", \"Dodge\", \"Saab\", \"Toyota\", \"Accura\", \"Chevrolet\", \"BMW\", \"Volkswagen\", \"BMW\", \"Jeep\", \"Nissan\", \"Accura\", \"Accura\", \"Ford\", \"Mercedes\", \"Jeep\", \"Suburu\", \"Chevrolet\", \"Ford\", \"Accura\", \"Suburu\", \"Dodge\", \"Saab\", \"Suburu\", \"Dodge\", \"BMW\", \"Suburu\", \"Toyota\", \"Jeep\", \"Toyota\", \"Chevrolet\", \"Honda\", \"Chevrolet\", \"Jeep\", \"Accura\", \"Nissan\", \"Volkswagen\", \"Honda\", \"Honda\", \"Volkswagen\", \"Suburu\", \"Audi\", \"Mercedes\"], \"y\": [52080, 3510, 23100, 50720, 4550, 51280, 50050, 32830, 22160, 32900, 63280, 79560, 42390, 5040, 33600, 42080, 40530, 56640, 53040, 48320, 41920, 33110, 47680, 73620, 56640, 44000, 6560, 4160, 46560, 63450, 50400, 52220, 23170, 49070, 48600, 37170, 48160, 3280, 43610, 38290, 28000, 64720, 40180, 39760, 33840, 48230, 63090, 50240, 5670, 53620, 57260, 5280, 3440, 44870, 1680, 55230, 50160, 1800, 51170, 45760, 54040, 33210, 39410, 51390, 45990, 61740, 62100, 30160, 49840, 2580, 49680, 47670, 27090, 42840, 28620, 34140, 67050, 38010, 5580, 50540, 30480, 4620, 5250, 4130, 44320, 40810, 45600, 40880, 3290, 39480, 46350, 71520, 4720, 53010, 68160, 5040, 59670, 50470, 3600, 4200, 47580, 36960, 25200, 2310, 70110, 3360, 53200, 51940, 48870, 44320, 52290, 49000, 51590, 33670, 4720, 33390, 32620, 51200, 63000, 52960, 41580, 51040, 49280, 51420, 28000, 23100, 28800, 2970, 42560, 34790, 56480, 43050, 34000, 32760, 52080, 48440, 2870, 52400, 55360, 49040, 37840, 3760, 5040, 49560, 35490, 76400, 44800, 37840, 53760, 77760, 60160, 32040, 44010, 42160, 36160, 37280, 50470, 4550, 52160, 4340, 3920, 52650, 59580, 75530, 63630, 44640, 45360, 44800, 4620, 5360, 31840, 40200, 34930, 29600, 4270, 47760, 59920, 39830, 58950, 3600, 35770, 67200, 57890, 59520, 43920, 64480, 13500, 3850, 53760, 64820, 3430, 39270, 38850, 5120, 35140, 41760, 4240, 3900, 41580, 1960, 3840, 61360, 4440, 50050, 12720, 43520, 47840, 57600, 43380, 6160, 4080, 5310, 21450, 34020, 61020, 58960, 47340, 5040, 51120, 41670, 44640, 19670, 31220, 44380, 51920, 51450, 68400, 30310, 45920, 57840, 43920, 24400, 55280, 50750, 37520, 57420, 31990, 57200, 51680, 31770, 42800, 58960, 5040, 43600, 2240, 52780, 45220, 68310, 4130, 51280, 40320, 58800, 6120, 41720, 46000, 39360, 35350, 38460, 4620, 37170, 3150, 47200, 49420, 44720, 41920, 4770, 35520, 54810, 32270, 50160, 59710, 2240, 49680, 35820, 43280, 29190, 49840, 43920, 46800, 49630, 31040, 3010, 4340, 41930, 53040, 51120, 46480, 5120, 51940, 5840, 68480, 34380, 31620, 69930, 42720, 48080, 53970, 2700, 4320, 35400, 5760, 57680, 52380, 3780, 46060, 28560, 38400, 47280, 56320, 36560, 58720, 22800, 24500, 47600, 58500, 52850, 60400, 48240, 22190, 49520, 60390, 44520, 26240, 29460, 35280, 61880, 48400, 47840, 37680, 40480, 29760, 56480, 3760, 2030, 46760, 50750, 34440, 54670, 69680, 41220, 45360, 44800, 47340, 4320, 38850, 47280, 26320, 47430, 49200, 44520, 38940, 25130, 36540, 58500, 53760, 46000, 51570, 43360, 48300, 49360, 54670, 46800, 3600, 36600, 4340, 2520, 2240, 42000, 35600, 46680, 35040, 32080, 54080, 4760, 46710, 17010, 52960, 31850, 44200, 35560, 35360, 45760, 38850, 43890, 63770, 38220, 44560, 48580, 39970, 40620, 33880, 40040, 36190, 49140, 33390, 4060, 54990, 52430, 2320, 57690, 56720, 41310, 32640, 60240, 61440, 55860, 33740, 17600, 27510, 2320, 3900, 4960, 46320, 70920, 6240, 44560, 53580, 38920, 3500, 66330, 48510, 47320, 63180, 42420, 45360, 48640, 46560, 47110, 52260, 38990, 51030, 44460, 42910, 40950, 46620, 58720, 32550, 4480, 2320, 4720, 44590, 54640, 44800, 2610, 5180, 42630, 34580, 50000, 43050, 55920, 37380, 42000, 3120, 47250, 39870, 60550, 6120, 59850, 77670, 55650, 55440, 39680, 35820, 61520, 47950, 65120, 42480, 31590, 38400, 35460, 40810, 57440, 60320, 4720, 4720, 44720, 51040, 43620, 4410, 66570, 50800, 44030, 46410, 57050, 30000, 30730, 48330, 44310, 41860, 52200, 1750, 40590, 46320, 46350, 44870, 53520, 4160, 26480, 52020, 53360, 55230, 34860, 56320, 34320, 35880, 38220, 41510, 38720, 43120, 55620, 62300, 4920, 41160, 35820, 45450, 26000, 32130, 58640, 38240, 2560, 56000, 56070, 39060, 42880, 1440, 5300, 57360, 2100, 63300, 54960, 60160, 58880, 59310, 4960, 45520, 39300, 46240, 49120, 3290, 47180, 62370, 8300, 30590, 34020, 37870, 53480, 48020, 48300, 6480, 42770, 34000, 64800, 2940, 5040, 25020, 49210, 3600, 3440, 19110, 39040, 35100, 58870, 47880, 33180, 40390, 74790, 38010, 21520, 59220, 55760, 25480, 28140, 50330, 45180, 33180, 49770, 48580, 40000, 35370, 38520, 42840, 55360, 58860, 43330, 4690, 3570, 3570, 50680, 49630, 52080, 49980, 50890, 44030, 69210, 44520, 52000, 4000, 3500, 36300, 48160, 34960, 49840, 35000, 3850, 53730, 48020, 46000, 6090, 53970, 46200, 39920, 53840, 39130, 59670, 3920, 49490, 52290, 32480, 25150, 34240, 32560, 25200, 2400, 57440, 4480, 62000, 54630, 3850, 63920, 44000, 56140, 39040, 43040, 40770, 39520, 2080, 4270, 5360, 40640, 31140, 65200, 39690, 50940, 37760, 38880, 45680, 56320, 47810, 3680, 39600, 54390, 54390, 43750, 57960, 36270, 76000, 2730, 41580, 46830, 30520, 43960, 41650, 41580, 26530, 44170, 47160, 46400, 33600, 46800, 44160, 49080, 42800, 24240, 26040, 2880, 2940, 42160, 3360, 48510, 24360, 47040, 1760, 4400, 34160, 29280, 35000, 2880, 61650, 37440, 45840, 46160, 32320, 4200, 57900, 45600, 2100, 34400, 40080, 3360, 51570, 52080, 28240, 1680, 46300, 30240, 46800, 59490, 67590, 45850, 39970, 56160, 2940, 49860, 36640, 44550, 38780, 34930, 49920, 73260, 5200, 33480, 3710, 51540, 4740, 26880, 51520, 1440, 62640, 59760, 35210, 30940, 54540, 56960, 72720, 40560, 34140, 34560, 42240, 32200, 6300, 47320, 27200, 58500, 52080, 42420, 54160, 20510, 55600, 34580, 57610, 5840, 51120, 28980, 27660, 57520, 61530, 42720, 33110, 59680, 32240, 34860, 43400, 40500, 41720, 44730, 35000, 43260, 46960, 49350, 34740, 42080, 25200, 50640, 30940, 24640, 70, 43820, 57060, 40320, 60660, 35920, 46240, 2380, 3680, 26080, 38500, 42960, 22120, 28980, 27090, 4240, 42930, 33600, 46160, 42120, 33300, 67440, 21490, 39620, 2640, 24360, 63600, 44800, 56980, 3600, 33600, 36540, 49200, 54740, 32200, 44380, 3640, 42480, 2560, 43740, 49490, 43760, 54400, 2870, 44720, 5040, 32800, 48480, 53480, 37100, 41680, 41300, 52290, 42350, 61760, 44400, 50240, 3420, 45200, 3920, 6300, 56880, 4320, 37360, 36120, 4200, 38010, 3870, 48090, 27860, 43680, 36890, 53340, 58410, 4560, 77670, 32760, 42240, 60720, 46320, 38430, 52960, 42720, 29750, 35600, 37450, 65920, 40680, 59360, 36890, 47740, 49700, 41510, 46830, 29680, 52780, 2940, 40950, 26880, 46270, 35360, 5390, 40960, 38080, 39040, 53840, 26720, 54530, 29890, 40880, 53120, 48020, 5120, 42420, 40960, 38000, 37730, 1980, 6210, 4000, 38640, 5280, 41160, 47360, 3290, 55520, 32400, 45000, 44880, 58870, 51440, 51520, 64720, 4500, 21490, 26040, 43620, 31040, 71820, 43680, 63280, 2800, 41760, 50640, 55280, 32160, 41600, 1960, 55120, 23760, 2580, 66560, 54320, 3360, 35000, 39600, 49120, 35980, 32520, 40740, 47320, 42720, 43080, 59710, 38850, 3870, 29820, 2730, 54950, 55090, 45360, 47700, 33880, 40560, 45440, 3760, 46160, 59680, 3360, 35140, 31570, 52920, 54810, 33600, 2100, 40040, 5520, 55440, 3360, 2730, 72320, 44030, 37940, 36260, 4800, 53920, 47460, 38780, 34370, 75600, 48400, 49280, 39960, 53830, 34720, 67230, 42770, 36330, 2580, 34260, 61520, 53900, 41760, 42490, 47360, 26670, 41760, 25690, 48160, 4860, 61040, 72320, 52500, 36540, 3680]}],                        {\"template\": {\"data\": {\"bar\": [{\"error_x\": {\"color\": \"#2a3f5f\"}, \"error_y\": {\"color\": \"#2a3f5f\"}, \"marker\": {\"line\": {\"color\": \"#E5ECF6\", \"width\": 0.5}}, \"type\": \"bar\"}], \"barpolar\": [{\"marker\": {\"line\": {\"color\": \"#E5ECF6\", \"width\": 0.5}}, \"type\": \"barpolar\"}], \"carpet\": [{\"aaxis\": {\"endlinecolor\": \"#2a3f5f\", \"gridcolor\": \"white\", \"linecolor\": \"white\", \"minorgridcolor\": \"white\", \"startlinecolor\": \"#2a3f5f\"}, \"baxis\": {\"endlinecolor\": \"#2a3f5f\", \"gridcolor\": \"white\", \"linecolor\": \"white\", \"minorgridcolor\": \"white\", \"startlinecolor\": \"#2a3f5f\"}, \"type\": \"carpet\"}], \"choropleth\": [{\"colorbar\": {\"outlinewidth\": 0, \"ticks\": \"\"}, \"type\": \"choropleth\"}], \"contour\": [{\"colorbar\": {\"outlinewidth\": 0, \"ticks\": \"\"}, \"colorscale\": [[0.0, \"#0d0887\"], [0.1111111111111111, \"#46039f\"], [0.2222222222222222, \"#7201a8\"], [0.3333333333333333, \"#9c179e\"], [0.4444444444444444, \"#bd3786\"], [0.5555555555555556, \"#d8576b\"], [0.6666666666666666, \"#ed7953\"], [0.7777777777777778, \"#fb9f3a\"], [0.8888888888888888, \"#fdca26\"], [1.0, \"#f0f921\"]], \"type\": \"contour\"}], \"contourcarpet\": [{\"colorbar\": {\"outlinewidth\": 0, \"ticks\": \"\"}, \"type\": \"contourcarpet\"}], \"heatmap\": [{\"colorbar\": {\"outlinewidth\": 0, \"ticks\": \"\"}, \"colorscale\": [[0.0, \"#0d0887\"], [0.1111111111111111, \"#46039f\"], [0.2222222222222222, \"#7201a8\"], [0.3333333333333333, \"#9c179e\"], [0.4444444444444444, \"#bd3786\"], [0.5555555555555556, \"#d8576b\"], [0.6666666666666666, \"#ed7953\"], [0.7777777777777778, \"#fb9f3a\"], [0.8888888888888888, \"#fdca26\"], [1.0, \"#f0f921\"]], \"type\": \"heatmap\"}], \"heatmapgl\": [{\"colorbar\": {\"outlinewidth\": 0, \"ticks\": \"\"}, \"colorscale\": [[0.0, \"#0d0887\"], [0.1111111111111111, \"#46039f\"], [0.2222222222222222, \"#7201a8\"], [0.3333333333333333, \"#9c179e\"], [0.4444444444444444, \"#bd3786\"], [0.5555555555555556, \"#d8576b\"], [0.6666666666666666, \"#ed7953\"], [0.7777777777777778, \"#fb9f3a\"], [0.8888888888888888, \"#fdca26\"], [1.0, \"#f0f921\"]], \"type\": \"heatmapgl\"}], \"histogram\": [{\"marker\": {\"colorbar\": {\"outlinewidth\": 0, \"ticks\": \"\"}}, \"type\": \"histogram\"}], \"histogram2d\": [{\"colorbar\": {\"outlinewidth\": 0, \"ticks\": \"\"}, \"colorscale\": [[0.0, \"#0d0887\"], [0.1111111111111111, \"#46039f\"], [0.2222222222222222, \"#7201a8\"], [0.3333333333333333, \"#9c179e\"], [0.4444444444444444, \"#bd3786\"], [0.5555555555555556, \"#d8576b\"], [0.6666666666666666, \"#ed7953\"], [0.7777777777777778, \"#fb9f3a\"], [0.8888888888888888, \"#fdca26\"], [1.0, \"#f0f921\"]], \"type\": \"histogram2d\"}], \"histogram2dcontour\": [{\"colorbar\": {\"outlinewidth\": 0, \"ticks\": \"\"}, \"colorscale\": [[0.0, \"#0d0887\"], [0.1111111111111111, \"#46039f\"], [0.2222222222222222, \"#7201a8\"], [0.3333333333333333, \"#9c179e\"], [0.4444444444444444, \"#bd3786\"], [0.5555555555555556, \"#d8576b\"], [0.6666666666666666, \"#ed7953\"], [0.7777777777777778, \"#fb9f3a\"], [0.8888888888888888, \"#fdca26\"], [1.0, \"#f0f921\"]], \"type\": \"histogram2dcontour\"}], \"mesh3d\": [{\"colorbar\": {\"outlinewidth\": 0, \"ticks\": \"\"}, \"type\": \"mesh3d\"}], \"parcoords\": [{\"line\": {\"colorbar\": {\"outlinewidth\": 0, \"ticks\": \"\"}}, \"type\": \"parcoords\"}], \"pie\": [{\"automargin\": true, \"type\": \"pie\"}], \"scatter\": [{\"marker\": {\"colorbar\": {\"outlinewidth\": 0, \"ticks\": \"\"}}, \"type\": \"scatter\"}], \"scatter3d\": [{\"line\": {\"colorbar\": {\"outlinewidth\": 0, \"ticks\": \"\"}}, \"marker\": {\"colorbar\": {\"outlinewidth\": 0, \"ticks\": \"\"}}, \"type\": \"scatter3d\"}], \"scattercarpet\": [{\"marker\": {\"colorbar\": {\"outlinewidth\": 0, \"ticks\": \"\"}}, \"type\": \"scattercarpet\"}], \"scattergeo\": [{\"marker\": {\"colorbar\": {\"outlinewidth\": 0, \"ticks\": \"\"}}, \"type\": \"scattergeo\"}], \"scattergl\": [{\"marker\": {\"colorbar\": {\"outlinewidth\": 0, \"ticks\": \"\"}}, \"type\": \"scattergl\"}], \"scattermapbox\": [{\"marker\": {\"colorbar\": {\"outlinewidth\": 0, \"ticks\": \"\"}}, \"type\": \"scattermapbox\"}], \"scatterpolar\": [{\"marker\": {\"colorbar\": {\"outlinewidth\": 0, \"ticks\": \"\"}}, \"type\": \"scatterpolar\"}], \"scatterpolargl\": [{\"marker\": {\"colorbar\": {\"outlinewidth\": 0, \"ticks\": \"\"}}, \"type\": \"scatterpolargl\"}], \"scatterternary\": [{\"marker\": {\"colorbar\": {\"outlinewidth\": 0, \"ticks\": \"\"}}, \"type\": \"scatterternary\"}], \"surface\": [{\"colorbar\": {\"outlinewidth\": 0, \"ticks\": \"\"}, \"colorscale\": [[0.0, \"#0d0887\"], [0.1111111111111111, \"#46039f\"], [0.2222222222222222, \"#7201a8\"], [0.3333333333333333, \"#9c179e\"], [0.4444444444444444, \"#bd3786\"], [0.5555555555555556, \"#d8576b\"], [0.6666666666666666, \"#ed7953\"], [0.7777777777777778, \"#fb9f3a\"], [0.8888888888888888, \"#fdca26\"], [1.0, \"#f0f921\"]], \"type\": \"surface\"}], \"table\": [{\"cells\": {\"fill\": {\"color\": \"#EBF0F8\"}, \"line\": {\"color\": \"white\"}}, \"header\": {\"fill\": {\"color\": \"#C8D4E3\"}, \"line\": {\"color\": \"white\"}}, \"type\": \"table\"}]}, \"layout\": {\"annotationdefaults\": {\"arrowcolor\": \"#2a3f5f\", \"arrowhead\": 0, \"arrowwidth\": 1}, \"autotypenumbers\": \"strict\", \"coloraxis\": {\"colorbar\": {\"outlinewidth\": 0, \"ticks\": \"\"}}, \"colorscale\": {\"diverging\": [[0, \"#8e0152\"], [0.1, \"#c51b7d\"], [0.2, \"#de77ae\"], [0.3, \"#f1b6da\"], [0.4, \"#fde0ef\"], [0.5, \"#f7f7f7\"], [0.6, \"#e6f5d0\"], [0.7, \"#b8e186\"], [0.8, \"#7fbc41\"], [0.9, \"#4d9221\"], [1, \"#276419\"]], \"sequential\": [[0.0, \"#0d0887\"], [0.1111111111111111, \"#46039f\"], [0.2222222222222222, \"#7201a8\"], [0.3333333333333333, \"#9c179e\"], [0.4444444444444444, \"#bd3786\"], [0.5555555555555556, \"#d8576b\"], [0.6666666666666666, \"#ed7953\"], [0.7777777777777778, \"#fb9f3a\"], [0.8888888888888888, \"#fdca26\"], [1.0, \"#f0f921\"]], \"sequentialminus\": [[0.0, \"#0d0887\"], [0.1111111111111111, \"#46039f\"], [0.2222222222222222, \"#7201a8\"], [0.3333333333333333, \"#9c179e\"], [0.4444444444444444, \"#bd3786\"], [0.5555555555555556, \"#d8576b\"], [0.6666666666666666, \"#ed7953\"], [0.7777777777777778, \"#fb9f3a\"], [0.8888888888888888, \"#fdca26\"], [1.0, \"#f0f921\"]]}, \"colorway\": [\"#636efa\", \"#EF553B\", \"#00cc96\", \"#ab63fa\", \"#FFA15A\", \"#19d3f3\", \"#FF6692\", \"#B6E880\", \"#FF97FF\", \"#FECB52\"], \"font\": {\"color\": \"#2a3f5f\"}, \"geo\": {\"bgcolor\": \"white\", \"lakecolor\": \"white\", \"landcolor\": \"#E5ECF6\", \"showlakes\": true, \"showland\": true, \"subunitcolor\": \"white\"}, \"hoverlabel\": {\"align\": \"left\"}, \"hovermode\": \"closest\", \"mapbox\": {\"style\": \"light\"}, \"paper_bgcolor\": \"white\", \"plot_bgcolor\": \"#E5ECF6\", \"polar\": {\"angularaxis\": {\"gridcolor\": \"white\", \"linecolor\": \"white\", \"ticks\": \"\"}, \"bgcolor\": \"#E5ECF6\", \"radialaxis\": {\"gridcolor\": \"white\", \"linecolor\": \"white\", \"ticks\": \"\"}}, \"scene\": {\"xaxis\": {\"backgroundcolor\": \"#E5ECF6\", \"gridcolor\": \"white\", \"gridwidth\": 2, \"linecolor\": \"white\", \"showbackground\": true, \"ticks\": \"\", \"zerolinecolor\": \"white\"}, \"yaxis\": {\"backgroundcolor\": \"#E5ECF6\", \"gridcolor\": \"white\", \"gridwidth\": 2, \"linecolor\": \"white\", \"showbackground\": true, \"ticks\": \"\", \"zerolinecolor\": \"white\"}, \"zaxis\": {\"backgroundcolor\": \"#E5ECF6\", \"gridcolor\": \"white\", \"gridwidth\": 2, \"linecolor\": \"white\", \"showbackground\": true, \"ticks\": \"\", \"zerolinecolor\": \"white\"}}, \"shapedefaults\": {\"line\": {\"color\": \"#2a3f5f\"}}, \"ternary\": {\"aaxis\": {\"gridcolor\": \"white\", \"linecolor\": \"white\", \"ticks\": \"\"}, \"baxis\": {\"gridcolor\": \"white\", \"linecolor\": \"white\", \"ticks\": \"\"}, \"bgcolor\": \"#E5ECF6\", \"caxis\": {\"gridcolor\": \"white\", \"linecolor\": \"white\", \"ticks\": \"\"}}, \"title\": {\"x\": 0.05}, \"xaxis\": {\"automargin\": true, \"gridcolor\": \"white\", \"linecolor\": \"white\", \"ticks\": \"\", \"title\": {\"standoff\": 15}, \"zerolinecolor\": \"white\", \"zerolinewidth\": 2}, \"yaxis\": {\"automargin\": true, \"gridcolor\": \"white\", \"linecolor\": \"white\", \"ticks\": \"\", \"title\": {\"standoff\": 15}, \"zerolinecolor\": \"white\", \"zerolinewidth\": 2}}}, \"title\": {\"text\": \"Automobile Company vs Vehicle Claim\"}},                        {\"responsive\": true}                    ).then(function(){\n",
       "                            \n",
       "var gd = document.getElementById('7e8f2eb4-cf90-4fc7-b9cf-50a09ca9999e');\n",
       "var x = new MutationObserver(function (mutations, observer) {{\n",
       "        var display = window.getComputedStyle(gd).display;\n",
       "        if (!display || display === 'none') {{\n",
       "            console.log([gd, 'removed!']);\n",
       "            Plotly.purge(gd);\n",
       "            observer.disconnect();\n",
       "        }}\n",
       "}});\n",
       "\n",
       "// Listen for the removal of the full notebook cells\n",
       "var notebookContainer = gd.closest('#notebook-container');\n",
       "if (notebookContainer) {{\n",
       "    x.observe(notebookContainer, {childList: true});\n",
       "}}\n",
       "\n",
       "// Listen for the clearing of the current output cell\n",
       "var outputEl = gd.closest('.output');\n",
       "if (outputEl) {{\n",
       "    x.observe(outputEl, {childList: true});\n",
       "}}\n",
       "\n",
       "                        })                };                });            </script>        </div>"
      ]
     },
     "metadata": {},
     "output_type": "display_data"
    }
   ],
   "source": [
    "trace = go.Box(\n",
    "          x = data['auto_make'],\n",
    "          y = data['vehicle_claim'],\n",
    "          opacity = 0.7,\n",
    "          marker = dict(\n",
    "                 color = 'rgb(215, 195, 5, 0.5)'\n",
    "          )\n",
    ")\n",
    "df = [trace]\n",
    "\n",
    "layout = go.Layout(\n",
    "    title = 'Automobile Company vs Vehicle Claim')\n",
    "\n",
    "fig = go.Figure(data = df, layout = layout)\n",
    "py.iplot(fig)"
   ]
  },
  {
   "cell_type": "code",
   "execution_count": 18,
   "metadata": {},
   "outputs": [],
   "source": [
    "# let's extrat days, month and year from policy bind date\n",
    "data['policy_bind_date'] = pd.to_datetime(data['policy_bind_date'], errors = 'coerce')"
   ]
  },
  {
   "cell_type": "code",
   "execution_count": 19,
   "metadata": {},
   "outputs": [],
   "source": [
    "# let's encode the fraud report to numerical values\n",
    "\n",
    "data['fraud_reported'] = data['fraud_reported'].replace(('Y','N'),(0,1))"
   ]
  },
  {
   "cell_type": "code",
   "execution_count": 20,
   "metadata": {},
   "outputs": [
    {
     "data": {
      "text/html": [
       "<div>\n",
       "<style scoped>\n",
       "    .dataframe tbody tr th:only-of-type {\n",
       "        vertical-align: middle;\n",
       "    }\n",
       "\n",
       "    .dataframe tbody tr th {\n",
       "        vertical-align: top;\n",
       "    }\n",
       "\n",
       "    .dataframe thead th {\n",
       "        text-align: right;\n",
       "    }\n",
       "</style>\n",
       "<table border=\"1\" class=\"dataframe\">\n",
       "  <thead>\n",
       "    <tr style=\"text-align: right;\">\n",
       "      <th></th>\n",
       "      <th>auto_model</th>\n",
       "      <th>fraud_reported</th>\n",
       "    </tr>\n",
       "  </thead>\n",
       "  <tbody>\n",
       "    <tr>\n",
       "      <th>0</th>\n",
       "      <td>3 Series</td>\n",
       "      <td>0.944444</td>\n",
       "    </tr>\n",
       "    <tr>\n",
       "      <th>31</th>\n",
       "      <td>RSX</td>\n",
       "      <td>0.916667</td>\n",
       "    </tr>\n",
       "    <tr>\n",
       "      <th>25</th>\n",
       "      <td>Malibu</td>\n",
       "      <td>0.900000</td>\n",
       "    </tr>\n",
       "    <tr>\n",
       "      <th>36</th>\n",
       "      <td>Wrangler</td>\n",
       "      <td>0.880952</td>\n",
       "    </tr>\n",
       "    <tr>\n",
       "      <th>29</th>\n",
       "      <td>Pathfinder</td>\n",
       "      <td>0.870968</td>\n",
       "    </tr>\n",
       "    <tr>\n",
       "      <th>35</th>\n",
       "      <td>Ultima</td>\n",
       "      <td>0.869565</td>\n",
       "    </tr>\n",
       "    <tr>\n",
       "      <th>9</th>\n",
       "      <td>Camry</td>\n",
       "      <td>0.857143</td>\n",
       "    </tr>\n",
       "    <tr>\n",
       "      <th>11</th>\n",
       "      <td>Corolla</td>\n",
       "      <td>0.850000</td>\n",
       "    </tr>\n",
       "    <tr>\n",
       "      <th>8</th>\n",
       "      <td>CRV</td>\n",
       "      <td>0.850000</td>\n",
       "    </tr>\n",
       "    <tr>\n",
       "      <th>21</th>\n",
       "      <td>Legacy</td>\n",
       "      <td>0.843750</td>\n",
       "    </tr>\n",
       "    <tr>\n",
       "      <th>27</th>\n",
       "      <td>Neon</td>\n",
       "      <td>0.837838</td>\n",
       "    </tr>\n",
       "    <tr>\n",
       "      <th>3</th>\n",
       "      <td>95</td>\n",
       "      <td>0.814815</td>\n",
       "    </tr>\n",
       "    <tr>\n",
       "      <th>33</th>\n",
       "      <td>TL</td>\n",
       "      <td>0.800000</td>\n",
       "    </tr>\n",
       "    <tr>\n",
       "      <th>2</th>\n",
       "      <td>93</td>\n",
       "      <td>0.800000</td>\n",
       "    </tr>\n",
       "    <tr>\n",
       "      <th>23</th>\n",
       "      <td>MDX</td>\n",
       "      <td>0.777778</td>\n",
       "    </tr>\n",
       "    <tr>\n",
       "      <th>6</th>\n",
       "      <td>Accord</td>\n",
       "      <td>0.769231</td>\n",
       "    </tr>\n",
       "    <tr>\n",
       "      <th>17</th>\n",
       "      <td>Grand Cherokee</td>\n",
       "      <td>0.760000</td>\n",
       "    </tr>\n",
       "    <tr>\n",
       "      <th>13</th>\n",
       "      <td>Escape</td>\n",
       "      <td>0.750000</td>\n",
       "    </tr>\n",
       "    <tr>\n",
       "      <th>12</th>\n",
       "      <td>E400</td>\n",
       "      <td>0.740741</td>\n",
       "    </tr>\n",
       "    <tr>\n",
       "      <th>4</th>\n",
       "      <td>A3</td>\n",
       "      <td>0.729730</td>\n",
       "    </tr>\n",
       "    <tr>\n",
       "      <th>18</th>\n",
       "      <td>Highlander</td>\n",
       "      <td>0.727273</td>\n",
       "    </tr>\n",
       "    <tr>\n",
       "      <th>28</th>\n",
       "      <td>Passat</td>\n",
       "      <td>0.727273</td>\n",
       "    </tr>\n",
       "    <tr>\n",
       "      <th>1</th>\n",
       "      <td>92x</td>\n",
       "      <td>0.714286</td>\n",
       "    </tr>\n",
       "    <tr>\n",
       "      <th>20</th>\n",
       "      <td>Jetta</td>\n",
       "      <td>0.714286</td>\n",
       "    </tr>\n",
       "    <tr>\n",
       "      <th>16</th>\n",
       "      <td>Fusion</td>\n",
       "      <td>0.714286</td>\n",
       "    </tr>\n",
       "    <tr>\n",
       "      <th>15</th>\n",
       "      <td>Forrestor</td>\n",
       "      <td>0.714286</td>\n",
       "    </tr>\n",
       "    <tr>\n",
       "      <th>26</th>\n",
       "      <td>Maxima</td>\n",
       "      <td>0.708333</td>\n",
       "    </tr>\n",
       "    <tr>\n",
       "      <th>19</th>\n",
       "      <td>Impreza</td>\n",
       "      <td>0.700000</td>\n",
       "    </tr>\n",
       "    <tr>\n",
       "      <th>37</th>\n",
       "      <td>X5</td>\n",
       "      <td>0.695652</td>\n",
       "    </tr>\n",
       "    <tr>\n",
       "      <th>30</th>\n",
       "      <td>RAM</td>\n",
       "      <td>0.674419</td>\n",
       "    </tr>\n",
       "    <tr>\n",
       "      <th>22</th>\n",
       "      <td>M5</td>\n",
       "      <td>0.666667</td>\n",
       "    </tr>\n",
       "    <tr>\n",
       "      <th>5</th>\n",
       "      <td>A5</td>\n",
       "      <td>0.656250</td>\n",
       "    </tr>\n",
       "    <tr>\n",
       "      <th>10</th>\n",
       "      <td>Civic</td>\n",
       "      <td>0.636364</td>\n",
       "    </tr>\n",
       "    <tr>\n",
       "      <th>14</th>\n",
       "      <td>F150</td>\n",
       "      <td>0.629630</td>\n",
       "    </tr>\n",
       "    <tr>\n",
       "      <th>34</th>\n",
       "      <td>Tahoe</td>\n",
       "      <td>0.625000</td>\n",
       "    </tr>\n",
       "    <tr>\n",
       "      <th>7</th>\n",
       "      <td>C300</td>\n",
       "      <td>0.611111</td>\n",
       "    </tr>\n",
       "    <tr>\n",
       "      <th>24</th>\n",
       "      <td>ML350</td>\n",
       "      <td>0.600000</td>\n",
       "    </tr>\n",
       "    <tr>\n",
       "      <th>32</th>\n",
       "      <td>Silverado</td>\n",
       "      <td>0.590909</td>\n",
       "    </tr>\n",
       "    <tr>\n",
       "      <th>38</th>\n",
       "      <td>X6</td>\n",
       "      <td>0.562500</td>\n",
       "    </tr>\n",
       "  </tbody>\n",
       "</table>\n",
       "</div>"
      ],
      "text/plain": [
       "        auto_model  fraud_reported\n",
       "0         3 Series        0.944444\n",
       "31             RSX        0.916667\n",
       "25          Malibu        0.900000\n",
       "36        Wrangler        0.880952\n",
       "29      Pathfinder        0.870968\n",
       "35          Ultima        0.869565\n",
       "9            Camry        0.857143\n",
       "11         Corolla        0.850000\n",
       "8              CRV        0.850000\n",
       "21          Legacy        0.843750\n",
       "27            Neon        0.837838\n",
       "3               95        0.814815\n",
       "33              TL        0.800000\n",
       "2               93        0.800000\n",
       "23             MDX        0.777778\n",
       "6           Accord        0.769231\n",
       "17  Grand Cherokee        0.760000\n",
       "13          Escape        0.750000\n",
       "12            E400        0.740741\n",
       "4               A3        0.729730\n",
       "18      Highlander        0.727273\n",
       "28          Passat        0.727273\n",
       "1              92x        0.714286\n",
       "20           Jetta        0.714286\n",
       "16          Fusion        0.714286\n",
       "15       Forrestor        0.714286\n",
       "26          Maxima        0.708333\n",
       "19         Impreza        0.700000\n",
       "37              X5        0.695652\n",
       "30             RAM        0.674419\n",
       "22              M5        0.666667\n",
       "5               A5        0.656250\n",
       "10           Civic        0.636364\n",
       "14            F150        0.629630\n",
       "34           Tahoe        0.625000\n",
       "7             C300        0.611111\n",
       "24           ML350        0.600000\n",
       "32       Silverado        0.590909\n",
       "38              X6        0.562500"
      ]
     },
     "execution_count": 20,
     "metadata": {},
     "output_type": "execute_result"
    }
   ],
   "source": [
    "data[['auto_model','fraud_reported']].groupby(['auto_model'], \n",
    "                as_index = False).mean().sort_values(by = 'fraud_reported', ascending = False)"
   ]
  },
  {
   "cell_type": "code",
   "execution_count": 21,
   "metadata": {},
   "outputs": [],
   "source": [
    "#target encoding for auto make\n",
    "data['auto_make'] = data['auto_make'].replace(('3 Series','RSX','Malibu','Wrangler','Pathfinder','Ultima','Camry',\n",
    "                'Corolla','CRV','Legacy','Neon','95','TL','93','MDX','Accord','Grand Cherokee','Escape','E4000',\n",
    "            'A3','Highlander','Passat','92x','Jetta','Fusion','Forrestor','Maxima','Impreza','X5','RAM','M5','A5',\n",
    "                'Civic','F150','Tahaoe','C300','ML350','Silverado','X6'),\n",
    "                (0.95,0.91, 0.90,0.88,0.87,0.86,0.855,0.85,0.85,0.84,0.83,0.81,0.80,0.80,0.78,0.77,0.76,0.75,0.74,\n",
    "                 0.73,0.72,0.72,0.71,0.71,0.71,0.71,0.70,0.70,0.69,0.67,0.66,0.65,0.64,0.63,0.62,0.61,0.60,0.59,0.56))"
   ]
  },
  {
   "cell_type": "code",
   "execution_count": 22,
   "metadata": {},
   "outputs": [
    {
     "data": {
      "text/html": [
       "<div>\n",
       "<style scoped>\n",
       "    .dataframe tbody tr th:only-of-type {\n",
       "        vertical-align: middle;\n",
       "    }\n",
       "\n",
       "    .dataframe tbody tr th {\n",
       "        vertical-align: top;\n",
       "    }\n",
       "\n",
       "    .dataframe thead th {\n",
       "        text-align: right;\n",
       "    }\n",
       "</style>\n",
       "<table border=\"1\" class=\"dataframe\">\n",
       "  <thead>\n",
       "    <tr style=\"text-align: right;\">\n",
       "      <th></th>\n",
       "      <th>auto_make</th>\n",
       "      <th>fraud_reported</th>\n",
       "    </tr>\n",
       "  </thead>\n",
       "  <tbody>\n",
       "    <tr>\n",
       "      <th>7</th>\n",
       "      <td>Jeep</td>\n",
       "      <td>0.835821</td>\n",
       "    </tr>\n",
       "    <tr>\n",
       "      <th>9</th>\n",
       "      <td>Nissan</td>\n",
       "      <td>0.820513</td>\n",
       "    </tr>\n",
       "    <tr>\n",
       "      <th>12</th>\n",
       "      <td>Toyota</td>\n",
       "      <td>0.814286</td>\n",
       "    </tr>\n",
       "    <tr>\n",
       "      <th>0</th>\n",
       "      <td>Accura</td>\n",
       "      <td>0.808824</td>\n",
       "    </tr>\n",
       "    <tr>\n",
       "      <th>10</th>\n",
       "      <td>Saab</td>\n",
       "      <td>0.775000</td>\n",
       "    </tr>\n",
       "    <tr>\n",
       "      <th>11</th>\n",
       "      <td>Suburu</td>\n",
       "      <td>0.762500</td>\n",
       "    </tr>\n",
       "    <tr>\n",
       "      <th>4</th>\n",
       "      <td>Dodge</td>\n",
       "      <td>0.750000</td>\n",
       "    </tr>\n",
       "    <tr>\n",
       "      <th>6</th>\n",
       "      <td>Honda</td>\n",
       "      <td>0.745455</td>\n",
       "    </tr>\n",
       "    <tr>\n",
       "      <th>3</th>\n",
       "      <td>Chevrolet</td>\n",
       "      <td>0.723684</td>\n",
       "    </tr>\n",
       "    <tr>\n",
       "      <th>2</th>\n",
       "      <td>BMW</td>\n",
       "      <td>0.722222</td>\n",
       "    </tr>\n",
       "    <tr>\n",
       "      <th>13</th>\n",
       "      <td>Volkswagen</td>\n",
       "      <td>0.720588</td>\n",
       "    </tr>\n",
       "    <tr>\n",
       "      <th>1</th>\n",
       "      <td>Audi</td>\n",
       "      <td>0.695652</td>\n",
       "    </tr>\n",
       "    <tr>\n",
       "      <th>5</th>\n",
       "      <td>Ford</td>\n",
       "      <td>0.694444</td>\n",
       "    </tr>\n",
       "    <tr>\n",
       "      <th>8</th>\n",
       "      <td>Mercedes</td>\n",
       "      <td>0.661538</td>\n",
       "    </tr>\n",
       "  </tbody>\n",
       "</table>\n",
       "</div>"
      ],
      "text/plain": [
       "     auto_make  fraud_reported\n",
       "7         Jeep        0.835821\n",
       "9       Nissan        0.820513\n",
       "12      Toyota        0.814286\n",
       "0       Accura        0.808824\n",
       "10        Saab        0.775000\n",
       "11      Suburu        0.762500\n",
       "4        Dodge        0.750000\n",
       "6        Honda        0.745455\n",
       "3    Chevrolet        0.723684\n",
       "2          BMW        0.722222\n",
       "13  Volkswagen        0.720588\n",
       "1         Audi        0.695652\n",
       "5         Ford        0.694444\n",
       "8     Mercedes        0.661538"
      ]
     },
     "execution_count": 22,
     "metadata": {},
     "output_type": "execute_result"
    }
   ],
   "source": [
    "data[['auto_make','fraud_reported']].groupby(['auto_make'], \n",
    "                as_index = False).mean().sort_values(by = 'fraud_reported', ascending = False)"
   ]
  },
  {
   "cell_type": "code",
   "execution_count": 23,
   "metadata": {},
   "outputs": [],
   "source": [
    "#perform target encoding for auto make\n",
    "\n",
    "data['auto_make'] = data['auto_make'].replace(('Jeep','Nissan','Toyota','Accura','Saab','Suburu',\n",
    "                                'Dodge','Honda','Chevrolet','BMW','Volkswagen','Audi','Ford','Mercedes'),\n",
    "                                              (0.84,0.82,0.81,0.80,0.77,0.76,0.75,0.74,0.73,0.72,0.71,0.69,0.69,0.66))"
   ]
  },
  {
   "cell_type": "code",
   "execution_count": 24,
   "metadata": {},
   "outputs": [
    {
     "data": {
      "text/html": [
       "<div>\n",
       "<style scoped>\n",
       "    .dataframe tbody tr th:only-of-type {\n",
       "        vertical-align: middle;\n",
       "    }\n",
       "\n",
       "    .dataframe tbody tr th {\n",
       "        vertical-align: top;\n",
       "    }\n",
       "\n",
       "    .dataframe thead th {\n",
       "        text-align: right;\n",
       "    }\n",
       "</style>\n",
       "<table border=\"1\" class=\"dataframe\">\n",
       "  <thead>\n",
       "    <tr style=\"text-align: right;\">\n",
       "      <th></th>\n",
       "      <th>police_report_available</th>\n",
       "      <th>fraud_reported</th>\n",
       "    </tr>\n",
       "  </thead>\n",
       "  <tbody>\n",
       "    <tr>\n",
       "      <th>1</th>\n",
       "      <td>YES</td>\n",
       "      <td>0.770701</td>\n",
       "    </tr>\n",
       "    <tr>\n",
       "      <th>0</th>\n",
       "      <td>NO</td>\n",
       "      <td>0.744898</td>\n",
       "    </tr>\n",
       "  </tbody>\n",
       "</table>\n",
       "</div>"
      ],
      "text/plain": [
       "  police_report_available  fraud_reported\n",
       "1                     YES        0.770701\n",
       "0                      NO        0.744898"
      ]
     },
     "execution_count": 24,
     "metadata": {},
     "output_type": "execute_result"
    }
   ],
   "source": [
    "#correlation of authorities_contacted with the target\n",
    "\n",
    "data[['police_report_available','fraud_reported']].groupby(['police_report_available'], \n",
    "                as_index = False).mean().sort_values(by = 'fraud_reported', ascending = False)"
   ]
  },
  {
   "cell_type": "code",
   "execution_count": 25,
   "metadata": {},
   "outputs": [],
   "source": [
    "#target encoding for authorities_contacted damage\n",
    "\n",
    "data['police_report_available'] = data['police_report_available'].replace(('NO','YES'),(0.77,0.74))"
   ]
  },
  {
   "cell_type": "code",
   "execution_count": 26,
   "metadata": {},
   "outputs": [
    {
     "data": {
      "text/plain": [
       "0.77    686\n",
       "0.74    314\n",
       "Name: police_report_available, dtype: int64"
      ]
     },
     "execution_count": 26,
     "metadata": {},
     "output_type": "execute_result"
    }
   ],
   "source": [
    "data['police_report_available'].value_counts()"
   ]
  },
  {
   "cell_type": "code",
   "execution_count": 27,
   "metadata": {},
   "outputs": [
    {
     "data": {
      "text/html": [
       "<div>\n",
       "<style scoped>\n",
       "    .dataframe tbody tr th:only-of-type {\n",
       "        vertical-align: middle;\n",
       "    }\n",
       "\n",
       "    .dataframe tbody tr th {\n",
       "        vertical-align: top;\n",
       "    }\n",
       "\n",
       "    .dataframe thead th {\n",
       "        text-align: right;\n",
       "    }\n",
       "</style>\n",
       "<table border=\"1\" class=\"dataframe\">\n",
       "  <thead>\n",
       "    <tr style=\"text-align: right;\">\n",
       "      <th></th>\n",
       "      <th>property_damage</th>\n",
       "      <th>fraud_reported</th>\n",
       "    </tr>\n",
       "  </thead>\n",
       "  <tbody>\n",
       "    <tr>\n",
       "      <th>0</th>\n",
       "      <td>NO</td>\n",
       "      <td>0.757880</td>\n",
       "    </tr>\n",
       "    <tr>\n",
       "      <th>1</th>\n",
       "      <td>YES</td>\n",
       "      <td>0.741722</td>\n",
       "    </tr>\n",
       "  </tbody>\n",
       "</table>\n",
       "</div>"
      ],
      "text/plain": [
       "  property_damage  fraud_reported\n",
       "0              NO        0.757880\n",
       "1             YES        0.741722"
      ]
     },
     "execution_count": 27,
     "metadata": {},
     "output_type": "execute_result"
    }
   ],
   "source": [
    "#correlation of property_damage with the target\n",
    "\n",
    "data[['property_damage','fraud_reported']].groupby(['property_damage'], \n",
    "                as_index = False).mean().sort_values(by = 'fraud_reported', ascending = False)"
   ]
  },
  {
   "cell_type": "code",
   "execution_count": 28,
   "metadata": {},
   "outputs": [],
   "source": [
    "#target encoding for property damage\n",
    "\n",
    "data['property_damage'] = data['property_damage'].replace(('NO','YES'),(0.76,0.74))"
   ]
  },
  {
   "cell_type": "code",
   "execution_count": 29,
   "metadata": {},
   "outputs": [
    {
     "data": {
      "text/html": [
       "<div>\n",
       "<style scoped>\n",
       "    .dataframe tbody tr th:only-of-type {\n",
       "        vertical-align: middle;\n",
       "    }\n",
       "\n",
       "    .dataframe tbody tr th {\n",
       "        vertical-align: top;\n",
       "    }\n",
       "\n",
       "    .dataframe thead th {\n",
       "        text-align: right;\n",
       "    }\n",
       "</style>\n",
       "<table border=\"1\" class=\"dataframe\">\n",
       "  <thead>\n",
       "    <tr style=\"text-align: right;\">\n",
       "      <th></th>\n",
       "      <th>incident_city</th>\n",
       "      <th>fraud_reported</th>\n",
       "    </tr>\n",
       "  </thead>\n",
       "  <tbody>\n",
       "    <tr>\n",
       "      <th>4</th>\n",
       "      <td>Northbrook</td>\n",
       "      <td>0.778689</td>\n",
       "    </tr>\n",
       "    <tr>\n",
       "      <th>5</th>\n",
       "      <td>Riverwood</td>\n",
       "      <td>0.776119</td>\n",
       "    </tr>\n",
       "    <tr>\n",
       "      <th>3</th>\n",
       "      <td>Northbend</td>\n",
       "      <td>0.765517</td>\n",
       "    </tr>\n",
       "    <tr>\n",
       "      <th>6</th>\n",
       "      <td>Springfield</td>\n",
       "      <td>0.757962</td>\n",
       "    </tr>\n",
       "    <tr>\n",
       "      <th>2</th>\n",
       "      <td>Hillsdale</td>\n",
       "      <td>0.751773</td>\n",
       "    </tr>\n",
       "    <tr>\n",
       "      <th>1</th>\n",
       "      <td>Columbus</td>\n",
       "      <td>0.738255</td>\n",
       "    </tr>\n",
       "    <tr>\n",
       "      <th>0</th>\n",
       "      <td>Arlington</td>\n",
       "      <td>0.710526</td>\n",
       "    </tr>\n",
       "  </tbody>\n",
       "</table>\n",
       "</div>"
      ],
      "text/plain": [
       "  incident_city  fraud_reported\n",
       "4    Northbrook        0.778689\n",
       "5     Riverwood        0.776119\n",
       "3     Northbend        0.765517\n",
       "6   Springfield        0.757962\n",
       "2     Hillsdale        0.751773\n",
       "1      Columbus        0.738255\n",
       "0     Arlington        0.710526"
      ]
     },
     "execution_count": 29,
     "metadata": {},
     "output_type": "execute_result"
    }
   ],
   "source": [
    "#correlation of incident_city with the target\n",
    "\n",
    "data[['incident_city','fraud_reported']].groupby(['incident_city'], \n",
    "                as_index = False).mean().sort_values(by = 'fraud_reported', ascending = False)"
   ]
  },
  {
   "cell_type": "code",
   "execution_count": 30,
   "metadata": {},
   "outputs": [],
   "source": [
    "#target encoding for incident city\n",
    "\n",
    "data['incident_city'] = data['incident_city'].replace(('Northbrook','Riverwood','Northbend','Springfield',\n",
    "                                    'Hillsdale','Columbus','Arlington'),(0.78,0.77,0.76,0.75,0.74,0.73,0.71))\n"
   ]
  },
  {
   "cell_type": "code",
   "execution_count": 31,
   "metadata": {},
   "outputs": [
    {
     "data": {
      "text/html": [
       "<div>\n",
       "<style scoped>\n",
       "    .dataframe tbody tr th:only-of-type {\n",
       "        vertical-align: middle;\n",
       "    }\n",
       "\n",
       "    .dataframe tbody tr th {\n",
       "        vertical-align: top;\n",
       "    }\n",
       "\n",
       "    .dataframe thead th {\n",
       "        text-align: right;\n",
       "    }\n",
       "</style>\n",
       "<table border=\"1\" class=\"dataframe\">\n",
       "  <thead>\n",
       "    <tr style=\"text-align: right;\">\n",
       "      <th></th>\n",
       "      <th>incident_state</th>\n",
       "      <th>fraud_reported</th>\n",
       "    </tr>\n",
       "  </thead>\n",
       "  <tbody>\n",
       "    <tr>\n",
       "      <th>6</th>\n",
       "      <td>WV</td>\n",
       "      <td>0.820276</td>\n",
       "    </tr>\n",
       "    <tr>\n",
       "      <th>1</th>\n",
       "      <td>NY</td>\n",
       "      <td>0.778626</td>\n",
       "    </tr>\n",
       "    <tr>\n",
       "      <th>5</th>\n",
       "      <td>VA</td>\n",
       "      <td>0.772727</td>\n",
       "    </tr>\n",
       "    <tr>\n",
       "      <th>3</th>\n",
       "      <td>PA</td>\n",
       "      <td>0.733333</td>\n",
       "    </tr>\n",
       "    <tr>\n",
       "      <th>4</th>\n",
       "      <td>SC</td>\n",
       "      <td>0.705645</td>\n",
       "    </tr>\n",
       "    <tr>\n",
       "      <th>0</th>\n",
       "      <td>NC</td>\n",
       "      <td>0.690909</td>\n",
       "    </tr>\n",
       "    <tr>\n",
       "      <th>2</th>\n",
       "      <td>OH</td>\n",
       "      <td>0.565217</td>\n",
       "    </tr>\n",
       "  </tbody>\n",
       "</table>\n",
       "</div>"
      ],
      "text/plain": [
       "  incident_state  fraud_reported\n",
       "6             WV        0.820276\n",
       "1             NY        0.778626\n",
       "5             VA        0.772727\n",
       "3             PA        0.733333\n",
       "4             SC        0.705645\n",
       "0             NC        0.690909\n",
       "2             OH        0.565217"
      ]
     },
     "execution_count": 31,
     "metadata": {},
     "output_type": "execute_result"
    }
   ],
   "source": [
    "#correlation of incident_state with the target\n",
    "\n",
    "data[['incident_state','fraud_reported']].groupby(['incident_state'], \n",
    "                as_index = False).mean().sort_values(by = 'fraud_reported', ascending = False)"
   ]
  },
  {
   "cell_type": "code",
   "execution_count": 32,
   "metadata": {},
   "outputs": [],
   "source": [
    "#target encoding for incident state\n",
    "\n",
    "data['incident_state'] = data['incident_state'].replace(('WV','NY','VA','PA','SC','NC','OH'),\n",
    "                                                        (0.82,0.77,0.76,0.73,0.70,0.69,0.56))"
   ]
  },
  {
   "cell_type": "code",
   "execution_count": 33,
   "metadata": {},
   "outputs": [
    {
     "data": {
      "text/html": [
       "<div>\n",
       "<style scoped>\n",
       "    .dataframe tbody tr th:only-of-type {\n",
       "        vertical-align: middle;\n",
       "    }\n",
       "\n",
       "    .dataframe tbody tr th {\n",
       "        vertical-align: top;\n",
       "    }\n",
       "\n",
       "    .dataframe thead th {\n",
       "        text-align: right;\n",
       "    }\n",
       "</style>\n",
       "<table border=\"1\" class=\"dataframe\">\n",
       "  <thead>\n",
       "    <tr style=\"text-align: right;\">\n",
       "      <th></th>\n",
       "      <th>authorities_contacted</th>\n",
       "      <th>fraud_reported</th>\n",
       "    </tr>\n",
       "  </thead>\n",
       "  <tbody>\n",
       "    <tr>\n",
       "      <th>2</th>\n",
       "      <td>None</td>\n",
       "      <td>0.934066</td>\n",
       "    </tr>\n",
       "    <tr>\n",
       "      <th>4</th>\n",
       "      <td>Police</td>\n",
       "      <td>0.791096</td>\n",
       "    </tr>\n",
       "    <tr>\n",
       "      <th>1</th>\n",
       "      <td>Fire</td>\n",
       "      <td>0.730942</td>\n",
       "    </tr>\n",
       "    <tr>\n",
       "      <th>0</th>\n",
       "      <td>Ambulance</td>\n",
       "      <td>0.709184</td>\n",
       "    </tr>\n",
       "    <tr>\n",
       "      <th>3</th>\n",
       "      <td>Other</td>\n",
       "      <td>0.681818</td>\n",
       "    </tr>\n",
       "  </tbody>\n",
       "</table>\n",
       "</div>"
      ],
      "text/plain": [
       "  authorities_contacted  fraud_reported\n",
       "2                  None        0.934066\n",
       "4                Police        0.791096\n",
       "1                  Fire        0.730942\n",
       "0             Ambulance        0.709184\n",
       "3                 Other        0.681818"
      ]
     },
     "execution_count": 33,
     "metadata": {},
     "output_type": "execute_result"
    }
   ],
   "source": [
    "#correlation of authorities_contacted with the target\n",
    "\n",
    "data[['authorities_contacted','fraud_reported']].groupby(['authorities_contacted'], \n",
    "                as_index = False).mean().sort_values(by = 'fraud_reported', ascending = False)"
   ]
  },
  {
   "cell_type": "code",
   "execution_count": 34,
   "metadata": {},
   "outputs": [],
   "source": [
    "#target encoding for authorities contacted\n",
    "\n",
    "data['authorities_contacted'] = data['authorities_contacted'].replace(('None','Police','Fire','Ambulance','Other'),\n",
    "                                                                      (0.94,0.79,0.73,0.70,0.68))"
   ]
  },
  {
   "cell_type": "code",
   "execution_count": 35,
   "metadata": {},
   "outputs": [
    {
     "data": {
      "text/html": [
       "<div>\n",
       "<style scoped>\n",
       "    .dataframe tbody tr th:only-of-type {\n",
       "        vertical-align: middle;\n",
       "    }\n",
       "\n",
       "    .dataframe tbody tr th {\n",
       "        vertical-align: top;\n",
       "    }\n",
       "\n",
       "    .dataframe thead th {\n",
       "        text-align: right;\n",
       "    }\n",
       "</style>\n",
       "<table border=\"1\" class=\"dataframe\">\n",
       "  <thead>\n",
       "    <tr style=\"text-align: right;\">\n",
       "      <th></th>\n",
       "      <th>incident_severity</th>\n",
       "      <th>fraud_reported</th>\n",
       "    </tr>\n",
       "  </thead>\n",
       "  <tbody>\n",
       "    <tr>\n",
       "      <th>3</th>\n",
       "      <td>Trivial Damage</td>\n",
       "      <td>0.933333</td>\n",
       "    </tr>\n",
       "    <tr>\n",
       "      <th>1</th>\n",
       "      <td>Minor Damage</td>\n",
       "      <td>0.892655</td>\n",
       "    </tr>\n",
       "    <tr>\n",
       "      <th>2</th>\n",
       "      <td>Total Loss</td>\n",
       "      <td>0.871429</td>\n",
       "    </tr>\n",
       "    <tr>\n",
       "      <th>0</th>\n",
       "      <td>Major Damage</td>\n",
       "      <td>0.394928</td>\n",
       "    </tr>\n",
       "  </tbody>\n",
       "</table>\n",
       "</div>"
      ],
      "text/plain": [
       "  incident_severity  fraud_reported\n",
       "3    Trivial Damage        0.933333\n",
       "1      Minor Damage        0.892655\n",
       "2        Total Loss        0.871429\n",
       "0      Major Damage        0.394928"
      ]
     },
     "execution_count": 35,
     "metadata": {},
     "output_type": "execute_result"
    }
   ],
   "source": [
    "#correlation of incident_severity with the target\n",
    "\n",
    "data[['incident_severity','fraud_reported']].groupby(['incident_severity'], \n",
    "                as_index = False).mean().sort_values(by = 'fraud_reported', ascending = False)"
   ]
  },
  {
   "cell_type": "code",
   "execution_count": 36,
   "metadata": {},
   "outputs": [],
   "source": [
    "#target encoding for incident severity\n",
    "\n",
    "data['incident_severity'] = data['incident_severity'].replace(('Trivial Damage','Minor Damage','Total Loss',\n",
    "                                                              'Major Damage'),(0.94,0.89,0.87,0.39))"
   ]
  },
  {
   "cell_type": "code",
   "execution_count": 37,
   "metadata": {},
   "outputs": [
    {
     "data": {
      "text/html": [
       "<div>\n",
       "<style scoped>\n",
       "    .dataframe tbody tr th:only-of-type {\n",
       "        vertical-align: middle;\n",
       "    }\n",
       "\n",
       "    .dataframe tbody tr th {\n",
       "        vertical-align: top;\n",
       "    }\n",
       "\n",
       "    .dataframe thead th {\n",
       "        text-align: right;\n",
       "    }\n",
       "</style>\n",
       "<table border=\"1\" class=\"dataframe\">\n",
       "  <thead>\n",
       "    <tr style=\"text-align: right;\">\n",
       "      <th></th>\n",
       "      <th>collision_type</th>\n",
       "      <th>fraud_reported</th>\n",
       "    </tr>\n",
       "  </thead>\n",
       "  <tbody>\n",
       "    <tr>\n",
       "      <th>1</th>\n",
       "      <td>Rear Collision</td>\n",
       "      <td>0.772340</td>\n",
       "    </tr>\n",
       "    <tr>\n",
       "      <th>2</th>\n",
       "      <td>Side Collision</td>\n",
       "      <td>0.746377</td>\n",
       "    </tr>\n",
       "    <tr>\n",
       "      <th>0</th>\n",
       "      <td>Front Collision</td>\n",
       "      <td>0.724409</td>\n",
       "    </tr>\n",
       "  </tbody>\n",
       "</table>\n",
       "</div>"
      ],
      "text/plain": [
       "    collision_type  fraud_reported\n",
       "1   Rear Collision        0.772340\n",
       "2   Side Collision        0.746377\n",
       "0  Front Collision        0.724409"
      ]
     },
     "execution_count": 37,
     "metadata": {},
     "output_type": "execute_result"
    }
   ],
   "source": [
    "#correlation of collision_type with the target\n",
    "\n",
    "data[['collision_type','fraud_reported']].groupby(['collision_type'], \n",
    "                as_index = False).mean().sort_values(by = 'fraud_reported', ascending = False)"
   ]
  },
  {
   "cell_type": "code",
   "execution_count": 38,
   "metadata": {},
   "outputs": [],
   "source": [
    "#target encoding for collision type\n",
    "\n",
    "data['collision_type'] = data['collision_type'].replace(('Rear Collision', 'Side Collision', 'Front Collision'),\n",
    "                                                        (0.78,0.74,0.72))"
   ]
  },
  {
   "cell_type": "code",
   "execution_count": 39,
   "metadata": {},
   "outputs": [
    {
     "data": {
      "text/html": [
       "<div>\n",
       "<style scoped>\n",
       "    .dataframe tbody tr th:only-of-type {\n",
       "        vertical-align: middle;\n",
       "    }\n",
       "\n",
       "    .dataframe tbody tr th {\n",
       "        vertical-align: top;\n",
       "    }\n",
       "\n",
       "    .dataframe thead th {\n",
       "        text-align: right;\n",
       "    }\n",
       "</style>\n",
       "<table border=\"1\" class=\"dataframe\">\n",
       "  <thead>\n",
       "    <tr style=\"text-align: right;\">\n",
       "      <th></th>\n",
       "      <th>incident_type</th>\n",
       "      <th>fraud_reported</th>\n",
       "    </tr>\n",
       "  </thead>\n",
       "  <tbody>\n",
       "    <tr>\n",
       "      <th>3</th>\n",
       "      <td>Vehicle Theft</td>\n",
       "      <td>0.914894</td>\n",
       "    </tr>\n",
       "    <tr>\n",
       "      <th>1</th>\n",
       "      <td>Parked Car</td>\n",
       "      <td>0.904762</td>\n",
       "    </tr>\n",
       "    <tr>\n",
       "      <th>0</th>\n",
       "      <td>Multi-vehicle Collision</td>\n",
       "      <td>0.727924</td>\n",
       "    </tr>\n",
       "    <tr>\n",
       "      <th>2</th>\n",
       "      <td>Single Vehicle Collision</td>\n",
       "      <td>0.709677</td>\n",
       "    </tr>\n",
       "  </tbody>\n",
       "</table>\n",
       "</div>"
      ],
      "text/plain": [
       "              incident_type  fraud_reported\n",
       "3             Vehicle Theft        0.914894\n",
       "1                Parked Car        0.904762\n",
       "0   Multi-vehicle Collision        0.727924\n",
       "2  Single Vehicle Collision        0.709677"
      ]
     },
     "execution_count": 39,
     "metadata": {},
     "output_type": "execute_result"
    }
   ],
   "source": [
    "#correlation of incident_type with the target\n",
    "\n",
    "data[['incident_type','fraud_reported']].groupby(['incident_type'], \n",
    "                as_index = False).mean().sort_values(by = 'fraud_reported', ascending = False)"
   ]
  },
  {
   "cell_type": "code",
   "execution_count": 40,
   "metadata": {},
   "outputs": [],
   "source": [
    "#target encoing for incident type\n",
    "\n",
    "data['incident_type'] = data['incident_type'].replace(('Vehicle Theft','Parked Car','Multi-vehicle Collision',\n",
    "                                'Single Vehicle Collision'),(0.91, 0.90, 0.72,0.70))"
   ]
  },
  {
   "cell_type": "code",
   "execution_count": 41,
   "metadata": {},
   "outputs": [],
   "source": [
    "data['incident_date'] = pd.to_datetime(data['incident_date'], errors = 'coerce')\n",
    "\n",
    "# extracting days and month from date\n",
    "data['incident_month'] = data['incident_date'].dt.month\n",
    "data['incident_day'] = data['incident_date'].dt.day"
   ]
  },
  {
   "cell_type": "code",
   "execution_count": 42,
   "metadata": {},
   "outputs": [
    {
     "data": {
      "text/html": [
       "<div>\n",
       "<style scoped>\n",
       "    .dataframe tbody tr th:only-of-type {\n",
       "        vertical-align: middle;\n",
       "    }\n",
       "\n",
       "    .dataframe tbody tr th {\n",
       "        vertical-align: top;\n",
       "    }\n",
       "\n",
       "    .dataframe thead th {\n",
       "        text-align: right;\n",
       "    }\n",
       "</style>\n",
       "<table border=\"1\" class=\"dataframe\">\n",
       "  <thead>\n",
       "    <tr style=\"text-align: right;\">\n",
       "      <th></th>\n",
       "      <th>insured_relationship</th>\n",
       "      <th>fraud_reported</th>\n",
       "    </tr>\n",
       "  </thead>\n",
       "  <tbody>\n",
       "    <tr>\n",
       "      <th>0</th>\n",
       "      <td>husband</td>\n",
       "      <td>0.794118</td>\n",
       "    </tr>\n",
       "    <tr>\n",
       "      <th>3</th>\n",
       "      <td>own-child</td>\n",
       "      <td>0.786885</td>\n",
       "    </tr>\n",
       "    <tr>\n",
       "      <th>4</th>\n",
       "      <td>unmarried</td>\n",
       "      <td>0.758865</td>\n",
       "    </tr>\n",
       "    <tr>\n",
       "      <th>1</th>\n",
       "      <td>not-in-family</td>\n",
       "      <td>0.741379</td>\n",
       "    </tr>\n",
       "    <tr>\n",
       "      <th>5</th>\n",
       "      <td>wife</td>\n",
       "      <td>0.729032</td>\n",
       "    </tr>\n",
       "    <tr>\n",
       "      <th>2</th>\n",
       "      <td>other-relative</td>\n",
       "      <td>0.706215</td>\n",
       "    </tr>\n",
       "  </tbody>\n",
       "</table>\n",
       "</div>"
      ],
      "text/plain": [
       "  insured_relationship  fraud_reported\n",
       "0              husband        0.794118\n",
       "3            own-child        0.786885\n",
       "4            unmarried        0.758865\n",
       "1        not-in-family        0.741379\n",
       "5                 wife        0.729032\n",
       "2       other-relative        0.706215"
      ]
     },
     "execution_count": 42,
     "metadata": {},
     "output_type": "execute_result"
    }
   ],
   "source": [
    "#relation between insured_relationship and fraud reported\n",
    "\n",
    "data[['insured_relationship','fraud_reported']].groupby(['insured_relationship'], \n",
    "                as_index = False).mean().sort_values(by = 'fraud_reported', ascending = False)"
   ]
  },
  {
   "cell_type": "code",
   "execution_count": 43,
   "metadata": {},
   "outputs": [],
   "source": [
    "#target encoding for insured relationship\n",
    "\n",
    "data['insured_relationship'] = data['insured_relationship'].replace(('husband','own-child','unmarried',\n",
    "                                        'not-in-family','wife','other-relative'),(0.79,0.78,0.75,0.74,0.72,0.70))"
   ]
  },
  {
   "cell_type": "code",
   "execution_count": 44,
   "metadata": {},
   "outputs": [
    {
     "data": {
      "text/html": [
       "<div>\n",
       "<style scoped>\n",
       "    .dataframe tbody tr th:only-of-type {\n",
       "        vertical-align: middle;\n",
       "    }\n",
       "\n",
       "    .dataframe tbody tr th {\n",
       "        vertical-align: top;\n",
       "    }\n",
       "\n",
       "    .dataframe thead th {\n",
       "        text-align: right;\n",
       "    }\n",
       "</style>\n",
       "<table border=\"1\" class=\"dataframe\">\n",
       "  <thead>\n",
       "    <tr style=\"text-align: right;\">\n",
       "      <th></th>\n",
       "      <th>insured_hobbies</th>\n",
       "      <th>fraud_reported</th>\n",
       "    </tr>\n",
       "  </thead>\n",
       "  <tbody>\n",
       "    <tr>\n",
       "      <th>4</th>\n",
       "      <td>camping</td>\n",
       "      <td>0.909091</td>\n",
       "    </tr>\n",
       "    <tr>\n",
       "      <th>11</th>\n",
       "      <td>kayaking</td>\n",
       "      <td>0.907407</td>\n",
       "    </tr>\n",
       "    <tr>\n",
       "      <th>9</th>\n",
       "      <td>golf</td>\n",
       "      <td>0.890909</td>\n",
       "    </tr>\n",
       "    <tr>\n",
       "      <th>7</th>\n",
       "      <td>dancing</td>\n",
       "      <td>0.883721</td>\n",
       "    </tr>\n",
       "    <tr>\n",
       "      <th>3</th>\n",
       "      <td>bungie-jumping</td>\n",
       "      <td>0.839286</td>\n",
       "    </tr>\n",
       "    <tr>\n",
       "      <th>12</th>\n",
       "      <td>movies</td>\n",
       "      <td>0.836364</td>\n",
       "    </tr>\n",
       "    <tr>\n",
       "      <th>1</th>\n",
       "      <td>basketball</td>\n",
       "      <td>0.823529</td>\n",
       "    </tr>\n",
       "    <tr>\n",
       "      <th>8</th>\n",
       "      <td>exercise</td>\n",
       "      <td>0.807018</td>\n",
       "    </tr>\n",
       "    <tr>\n",
       "      <th>17</th>\n",
       "      <td>sleeping</td>\n",
       "      <td>0.804878</td>\n",
       "    </tr>\n",
       "    <tr>\n",
       "      <th>18</th>\n",
       "      <td>video-games</td>\n",
       "      <td>0.800000</td>\n",
       "    </tr>\n",
       "    <tr>\n",
       "      <th>16</th>\n",
       "      <td>skydiving</td>\n",
       "      <td>0.775510</td>\n",
       "    </tr>\n",
       "    <tr>\n",
       "      <th>13</th>\n",
       "      <td>paintball</td>\n",
       "      <td>0.771930</td>\n",
       "    </tr>\n",
       "    <tr>\n",
       "      <th>10</th>\n",
       "      <td>hiking</td>\n",
       "      <td>0.769231</td>\n",
       "    </tr>\n",
       "    <tr>\n",
       "      <th>0</th>\n",
       "      <td>base-jumping</td>\n",
       "      <td>0.734694</td>\n",
       "    </tr>\n",
       "    <tr>\n",
       "      <th>15</th>\n",
       "      <td>reading</td>\n",
       "      <td>0.734375</td>\n",
       "    </tr>\n",
       "    <tr>\n",
       "      <th>14</th>\n",
       "      <td>polo</td>\n",
       "      <td>0.723404</td>\n",
       "    </tr>\n",
       "    <tr>\n",
       "      <th>2</th>\n",
       "      <td>board-games</td>\n",
       "      <td>0.708333</td>\n",
       "    </tr>\n",
       "    <tr>\n",
       "      <th>19</th>\n",
       "      <td>yachting</td>\n",
       "      <td>0.698113</td>\n",
       "    </tr>\n",
       "    <tr>\n",
       "      <th>6</th>\n",
       "      <td>cross-fit</td>\n",
       "      <td>0.257143</td>\n",
       "    </tr>\n",
       "    <tr>\n",
       "      <th>5</th>\n",
       "      <td>chess</td>\n",
       "      <td>0.173913</td>\n",
       "    </tr>\n",
       "  </tbody>\n",
       "</table>\n",
       "</div>"
      ],
      "text/plain": [
       "   insured_hobbies  fraud_reported\n",
       "4          camping        0.909091\n",
       "11        kayaking        0.907407\n",
       "9             golf        0.890909\n",
       "7          dancing        0.883721\n",
       "3   bungie-jumping        0.839286\n",
       "12          movies        0.836364\n",
       "1       basketball        0.823529\n",
       "8         exercise        0.807018\n",
       "17        sleeping        0.804878\n",
       "18     video-games        0.800000\n",
       "16       skydiving        0.775510\n",
       "13       paintball        0.771930\n",
       "10          hiking        0.769231\n",
       "0     base-jumping        0.734694\n",
       "15         reading        0.734375\n",
       "14            polo        0.723404\n",
       "2      board-games        0.708333\n",
       "19        yachting        0.698113\n",
       "6        cross-fit        0.257143\n",
       "5            chess        0.173913"
      ]
     },
     "execution_count": 44,
     "metadata": {},
     "output_type": "execute_result"
    }
   ],
   "source": [
    "#relation between insured_hobbies and fraud reported\n",
    "\n",
    "data[['insured_hobbies','fraud_reported']].groupby(['insured_hobbies'], \n",
    "                as_index = False).mean().sort_values(by = 'fraud_reported', ascending = False)"
   ]
  },
  {
   "cell_type": "code",
   "execution_count": 45,
   "metadata": {},
   "outputs": [],
   "source": [
    "#target encoding for insured_hobbies\n",
    "\n",
    "data['insured_hobbies'] = data['insured_hobbies'].replace(('camping', 'kayaking', 'golf','dancing',\n",
    "        'bungie-jumping','movies', 'basketball','exercise','sleeping','video-games','skydiving','paintball',\n",
    "            'hiking','base-jumping','reading','polo','board-games','yachting', 'cross-fit','chess'),(0.91, 0.90,\n",
    "                0.89, 0.88,0.84,0.83,0.82,0.81,0.805,0.80,0.78,0.77,0.76,0.73,0.73,0.72,0.70,0.69,0.25,0.17))"
   ]
  },
  {
   "cell_type": "code",
   "execution_count": 46,
   "metadata": {},
   "outputs": [
    {
     "data": {
      "text/html": [
       "<div>\n",
       "<style scoped>\n",
       "    .dataframe tbody tr th:only-of-type {\n",
       "        vertical-align: middle;\n",
       "    }\n",
       "\n",
       "    .dataframe tbody tr th {\n",
       "        vertical-align: top;\n",
       "    }\n",
       "\n",
       "    .dataframe thead th {\n",
       "        text-align: right;\n",
       "    }\n",
       "</style>\n",
       "<table border=\"1\" class=\"dataframe\">\n",
       "  <thead>\n",
       "    <tr style=\"text-align: right;\">\n",
       "      <th></th>\n",
       "      <th>insured_occupation</th>\n",
       "      <th>fraud_reported</th>\n",
       "    </tr>\n",
       "  </thead>\n",
       "  <tbody>\n",
       "    <tr>\n",
       "      <th>7</th>\n",
       "      <td>other-service</td>\n",
       "      <td>0.830986</td>\n",
       "    </tr>\n",
       "    <tr>\n",
       "      <th>8</th>\n",
       "      <td>priv-house-serv</td>\n",
       "      <td>0.830986</td>\n",
       "    </tr>\n",
       "    <tr>\n",
       "      <th>0</th>\n",
       "      <td>adm-clerical</td>\n",
       "      <td>0.830769</td>\n",
       "    </tr>\n",
       "    <tr>\n",
       "      <th>5</th>\n",
       "      <td>handlers-cleaners</td>\n",
       "      <td>0.796296</td>\n",
       "    </tr>\n",
       "    <tr>\n",
       "      <th>9</th>\n",
       "      <td>prof-specialty</td>\n",
       "      <td>0.788235</td>\n",
       "    </tr>\n",
       "    <tr>\n",
       "      <th>10</th>\n",
       "      <td>protective-serv</td>\n",
       "      <td>0.777778</td>\n",
       "    </tr>\n",
       "    <tr>\n",
       "      <th>6</th>\n",
       "      <td>machine-op-inspct</td>\n",
       "      <td>0.763441</td>\n",
       "    </tr>\n",
       "    <tr>\n",
       "      <th>1</th>\n",
       "      <td>armed-forces</td>\n",
       "      <td>0.753623</td>\n",
       "    </tr>\n",
       "    <tr>\n",
       "      <th>11</th>\n",
       "      <td>sales</td>\n",
       "      <td>0.723684</td>\n",
       "    </tr>\n",
       "    <tr>\n",
       "      <th>12</th>\n",
       "      <td>tech-support</td>\n",
       "      <td>0.717949</td>\n",
       "    </tr>\n",
       "    <tr>\n",
       "      <th>13</th>\n",
       "      <td>transport-moving</td>\n",
       "      <td>0.708333</td>\n",
       "    </tr>\n",
       "    <tr>\n",
       "      <th>2</th>\n",
       "      <td>craft-repair</td>\n",
       "      <td>0.702703</td>\n",
       "    </tr>\n",
       "    <tr>\n",
       "      <th>4</th>\n",
       "      <td>farming-fishing</td>\n",
       "      <td>0.698113</td>\n",
       "    </tr>\n",
       "    <tr>\n",
       "      <th>3</th>\n",
       "      <td>exec-managerial</td>\n",
       "      <td>0.631579</td>\n",
       "    </tr>\n",
       "  </tbody>\n",
       "</table>\n",
       "</div>"
      ],
      "text/plain": [
       "   insured_occupation  fraud_reported\n",
       "7       other-service        0.830986\n",
       "8     priv-house-serv        0.830986\n",
       "0        adm-clerical        0.830769\n",
       "5   handlers-cleaners        0.796296\n",
       "9      prof-specialty        0.788235\n",
       "10    protective-serv        0.777778\n",
       "6   machine-op-inspct        0.763441\n",
       "1        armed-forces        0.753623\n",
       "11              sales        0.723684\n",
       "12       tech-support        0.717949\n",
       "13   transport-moving        0.708333\n",
       "2        craft-repair        0.702703\n",
       "4     farming-fishing        0.698113\n",
       "3     exec-managerial        0.631579"
      ]
     },
     "execution_count": 46,
     "metadata": {},
     "output_type": "execute_result"
    }
   ],
   "source": [
    "#relation between insured_occupation and fraud reported\n",
    "\n",
    "data[['insured_occupation','fraud_reported']].groupby(['insured_occupation'], \n",
    "                as_index = False).mean().sort_values(by = 'fraud_reported', ascending = False)"
   ]
  },
  {
   "cell_type": "code",
   "execution_count": 47,
   "metadata": {},
   "outputs": [],
   "source": [
    "#target encoding for insured_occupation\n",
    "\n",
    "data['insured_occupation'] = data['insured_occupation'].replace(('other-service','priv-house-serv',\n",
    "                        'adm-clerical','handlers-cleaners','prof-specialty','protective-serv',\n",
    "                'machine-op-inspct','armed-forces','sales','tech-support','transport-moving','craft-repair',\n",
    "                    'farming-fishing','exec-managerial'),(0.84, 0.84,0.83, 0.79,0.78,0.77,0.76,0.75,0.72,0.71,\n",
    "                                                          0.705,0.70,0.69,0.63))"
   ]
  },
  {
   "cell_type": "code",
   "execution_count": 48,
   "metadata": {},
   "outputs": [
    {
     "data": {
      "text/html": [
       "<div>\n",
       "<style scoped>\n",
       "    .dataframe tbody tr th:only-of-type {\n",
       "        vertical-align: middle;\n",
       "    }\n",
       "\n",
       "    .dataframe tbody tr th {\n",
       "        vertical-align: top;\n",
       "    }\n",
       "\n",
       "    .dataframe thead th {\n",
       "        text-align: right;\n",
       "    }\n",
       "</style>\n",
       "<table border=\"1\" class=\"dataframe\">\n",
       "  <thead>\n",
       "    <tr style=\"text-align: right;\">\n",
       "      <th></th>\n",
       "      <th>insured_education_level</th>\n",
       "      <th>fraud_reported</th>\n",
       "    </tr>\n",
       "  </thead>\n",
       "  <tbody>\n",
       "    <tr>\n",
       "      <th>5</th>\n",
       "      <td>Masters</td>\n",
       "      <td>0.776224</td>\n",
       "    </tr>\n",
       "    <tr>\n",
       "      <th>2</th>\n",
       "      <td>High School</td>\n",
       "      <td>0.775000</td>\n",
       "    </tr>\n",
       "    <tr>\n",
       "      <th>0</th>\n",
       "      <td>Associate</td>\n",
       "      <td>0.765517</td>\n",
       "    </tr>\n",
       "    <tr>\n",
       "      <th>3</th>\n",
       "      <td>JD</td>\n",
       "      <td>0.739130</td>\n",
       "    </tr>\n",
       "    <tr>\n",
       "      <th>1</th>\n",
       "      <td>College</td>\n",
       "      <td>0.737705</td>\n",
       "    </tr>\n",
       "    <tr>\n",
       "      <th>4</th>\n",
       "      <td>MD</td>\n",
       "      <td>0.736111</td>\n",
       "    </tr>\n",
       "    <tr>\n",
       "      <th>6</th>\n",
       "      <td>PhD</td>\n",
       "      <td>0.736000</td>\n",
       "    </tr>\n",
       "  </tbody>\n",
       "</table>\n",
       "</div>"
      ],
      "text/plain": [
       "  insured_education_level  fraud_reported\n",
       "5                 Masters        0.776224\n",
       "2             High School        0.775000\n",
       "0               Associate        0.765517\n",
       "3                      JD        0.739130\n",
       "1                 College        0.737705\n",
       "4                      MD        0.736111\n",
       "6                     PhD        0.736000"
      ]
     },
     "execution_count": 48,
     "metadata": {},
     "output_type": "execute_result"
    }
   ],
   "source": [
    "# relation of insured_education_level with faud_reported\n",
    "\n",
    "data[['insured_education_level','fraud_reported']].groupby(['insured_education_level'], \n",
    "                as_index = False).mean().sort_values(by = 'fraud_reported', ascending = False)"
   ]
  },
  {
   "cell_type": "code",
   "execution_count": 49,
   "metadata": {},
   "outputs": [],
   "source": [
    "#perform target encoding for education level\n",
    "\n",
    "data['insured_education_level'] = data['insured_education_level'].replace(('Masters', 'High School','Associate',\n",
    "                                        'JD','College', 'MD','PhD'),(0.78,0.77,0.76,0.74,0.73,0.72,0.71))"
   ]
  },
  {
   "cell_type": "code",
   "execution_count": 50,
   "metadata": {},
   "outputs": [
    {
     "data": {
      "text/html": [
       "<div>\n",
       "<style scoped>\n",
       "    .dataframe tbody tr th:only-of-type {\n",
       "        vertical-align: middle;\n",
       "    }\n",
       "\n",
       "    .dataframe tbody tr th {\n",
       "        vertical-align: top;\n",
       "    }\n",
       "\n",
       "    .dataframe thead th {\n",
       "        text-align: right;\n",
       "    }\n",
       "</style>\n",
       "<table border=\"1\" class=\"dataframe\">\n",
       "  <thead>\n",
       "    <tr style=\"text-align: right;\">\n",
       "      <th></th>\n",
       "      <th>insured_sex</th>\n",
       "      <th>fraud_reported</th>\n",
       "    </tr>\n",
       "  </thead>\n",
       "  <tbody>\n",
       "    <tr>\n",
       "      <th>0</th>\n",
       "      <td>FEMALE</td>\n",
       "      <td>0.765363</td>\n",
       "    </tr>\n",
       "    <tr>\n",
       "      <th>1</th>\n",
       "      <td>MALE</td>\n",
       "      <td>0.738661</td>\n",
       "    </tr>\n",
       "  </tbody>\n",
       "</table>\n",
       "</div>"
      ],
      "text/plain": [
       "  insured_sex  fraud_reported\n",
       "0      FEMALE        0.765363\n",
       "1        MALE        0.738661"
      ]
     },
     "execution_count": 50,
     "metadata": {},
     "output_type": "execute_result"
    }
   ],
   "source": [
    "#relation of insured sex and fraud reported\n",
    "\n",
    "data[['insured_sex','fraud_reported']].groupby(['insured_sex'], as_index = False).mean().sort_values(\n",
    "    by = 'fraud_reported', ascending = False)"
   ]
  },
  {
   "cell_type": "code",
   "execution_count": 51,
   "metadata": {},
   "outputs": [],
   "source": [
    "# target encoding for sex\n",
    "\n",
    "data['insured_sex'] = data['insured_sex'].replace(('FEMALE','MALE'),(0.76,0.73))"
   ]
  },
  {
   "cell_type": "code",
   "execution_count": 52,
   "metadata": {},
   "outputs": [
    {
     "data": {
      "text/html": [
       "<div>\n",
       "<style scoped>\n",
       "    .dataframe tbody tr th:only-of-type {\n",
       "        vertical-align: middle;\n",
       "    }\n",
       "\n",
       "    .dataframe tbody tr th {\n",
       "        vertical-align: top;\n",
       "    }\n",
       "\n",
       "    .dataframe thead th {\n",
       "        text-align: right;\n",
       "    }\n",
       "</style>\n",
       "<table border=\"1\" class=\"dataframe\">\n",
       "  <thead>\n",
       "    <tr style=\"text-align: right;\">\n",
       "      <th></th>\n",
       "      <th>policy_csl</th>\n",
       "      <th>fraud_reported</th>\n",
       "    </tr>\n",
       "  </thead>\n",
       "  <tbody>\n",
       "    <tr>\n",
       "      <th>2</th>\n",
       "      <td>500/1000</td>\n",
       "      <td>0.783333</td>\n",
       "    </tr>\n",
       "    <tr>\n",
       "      <th>0</th>\n",
       "      <td>100/300</td>\n",
       "      <td>0.742120</td>\n",
       "    </tr>\n",
       "    <tr>\n",
       "      <th>1</th>\n",
       "      <td>250/500</td>\n",
       "      <td>0.737892</td>\n",
       "    </tr>\n",
       "  </tbody>\n",
       "</table>\n",
       "</div>"
      ],
      "text/plain": [
       "  policy_csl  fraud_reported\n",
       "2   500/1000        0.783333\n",
       "0    100/300        0.742120\n",
       "1    250/500        0.737892"
      ]
     },
     "execution_count": 52,
     "metadata": {},
     "output_type": "execute_result"
    }
   ],
   "source": [
    "#relation of policy csl and fraud reported\n",
    "\n",
    "data[['policy_csl','fraud_reported']].groupby(['policy_csl'], as_index = False).mean().sort_values(\n",
    "    by = 'fraud_reported', ascending = False)"
   ]
  },
  {
   "cell_type": "code",
   "execution_count": 53,
   "metadata": {},
   "outputs": [],
   "source": [
    "# target encoding for policy_csl\n",
    "\n",
    "data['policy_csl'] = data['policy_csl'].replace(('500/1000','100/300','250/500'),(0.78,0.74,0.73))"
   ]
  },
  {
   "cell_type": "code",
   "execution_count": 54,
   "metadata": {},
   "outputs": [
    {
     "data": {
      "text/html": [
       "<div>\n",
       "<style scoped>\n",
       "    .dataframe tbody tr th:only-of-type {\n",
       "        vertical-align: middle;\n",
       "    }\n",
       "\n",
       "    .dataframe tbody tr th {\n",
       "        vertical-align: top;\n",
       "    }\n",
       "\n",
       "    .dataframe thead th {\n",
       "        text-align: right;\n",
       "    }\n",
       "</style>\n",
       "<table border=\"1\" class=\"dataframe\">\n",
       "  <thead>\n",
       "    <tr style=\"text-align: right;\">\n",
       "      <th></th>\n",
       "      <th>policy_state</th>\n",
       "      <th>fraud_reported</th>\n",
       "    </tr>\n",
       "  </thead>\n",
       "  <tbody>\n",
       "    <tr>\n",
       "      <th>0</th>\n",
       "      <td>IL</td>\n",
       "      <td>0.772189</td>\n",
       "    </tr>\n",
       "    <tr>\n",
       "      <th>1</th>\n",
       "      <td>IN</td>\n",
       "      <td>0.745161</td>\n",
       "    </tr>\n",
       "    <tr>\n",
       "      <th>2</th>\n",
       "      <td>OH</td>\n",
       "      <td>0.741477</td>\n",
       "    </tr>\n",
       "  </tbody>\n",
       "</table>\n",
       "</div>"
      ],
      "text/plain": [
       "  policy_state  fraud_reported\n",
       "0           IL        0.772189\n",
       "1           IN        0.745161\n",
       "2           OH        0.741477"
      ]
     },
     "execution_count": 54,
     "metadata": {},
     "output_type": "execute_result"
    }
   ],
   "source": [
    "#relation of policy state and fraud reported\n",
    "\n",
    "data[['policy_state','fraud_reported']].groupby(['policy_state'], as_index = False).mean().sort_values(\n",
    "    by = 'fraud_reported', ascending = False)"
   ]
  },
  {
   "cell_type": "code",
   "execution_count": 55,
   "metadata": {},
   "outputs": [],
   "source": [
    "# target encoding for policy_csl\n",
    "\n",
    "data['policy_state'] = data['policy_state'].replace(('IL','IN','OH'),(0.77,0.745,0.74))"
   ]
  },
  {
   "cell_type": "code",
   "execution_count": 56,
   "metadata": {},
   "outputs": [],
   "source": [
    "data = data.drop(['policy_number','policy_bind_date', 'incident_date','incident_location','auto_model'], axis = 1)"
   ]
  },
  {
   "cell_type": "code",
   "execution_count": 57,
   "metadata": {},
   "outputs": [
    {
     "name": "stdout",
     "output_type": "stream",
     "text": [
      "Shape of x : (1000, 35)\n",
      "Shape of y : (1000,)\n"
     ]
    }
   ],
   "source": [
    "#X data without fraud report, Y data is fraud report for comparison\n",
    "x = data.drop(['fraud_reported'], axis = 1)\n",
    "y = data['fraud_reported']\n",
    "\n",
    "print(\"Shape of x :\", x.shape)\n",
    "print(\"Shape of y :\", y.shape)"
   ]
  },
  {
   "cell_type": "code",
   "execution_count": 58,
   "metadata": {},
   "outputs": [
    {
     "name": "stdout",
     "output_type": "stream",
     "text": [
      "Shape of x_train : (800, 35)\n",
      "Shape of x_test : (200, 35)\n",
      "Shape of y_train : (800,)\n",
      "Shape of y_test : (200,)\n"
     ]
    }
   ],
   "source": [
    "#split the dataset into train and test sets\n",
    "\n",
    "from sklearn.model_selection import train_test_split\n",
    "\n",
    "x_train, x_test, y_train, y_test = train_test_split(x, y, test_size = 0.2, random_state = 0)\n",
    "\n",
    "print(\"Shape of x_train :\", x_train.shape)\n",
    "print(\"Shape of x_test :\", x_test.shape)\n",
    "print(\"Shape of y_train :\", y_train.shape)\n",
    "print(\"Shape of y_test :\", y_test.shape)"
   ]
  },
  {
   "cell_type": "code",
   "execution_count": 84,
   "metadata": {},
   "outputs": [],
   "source": [
    "oversampler=SMOTE(random_state=0)\n",
    "smote_train, smote_target = oversampler.fit_sample(x_train, y_train)"
   ]
  },
  {
   "cell_type": "code",
   "execution_count": 74,
   "metadata": {},
   "outputs": [],
   "source": [
    "# Random Forest Classifier\n",
    "\n",
    "seed = 0   # We set our random seed to zero for reproducibility"
   ]
  },
  {
   "cell_type": "code",
   "execution_count": 75,
   "metadata": {},
   "outputs": [],
   "source": [
    "rf_params = {\n",
    "    'n_jobs': -1,\n",
    "    'n_estimators': 1000, \n",
    "    'max_features': 0.3,\n",
    "    'max_depth': 4,\n",
    "    'min_samples_leaf': 2,\n",
    "    'max_features' : 'sqrt',\n",
    "    'random_state' : seed,\n",
    "    'verbose': 0\n",
    "}"
   ]
  },
  {
   "cell_type": "code",
   "execution_count": 76,
   "metadata": {},
   "outputs": [
    {
     "name": "stdout",
     "output_type": "stream",
     "text": [
      "Fitting of Random Forest finished\n"
     ]
    }
   ],
   "source": [
    "rf = RandomForestClassifier(**rf_params)\n",
    "rf.fit(smote_train, smote_target)\n",
    "print(\"Fitting of Random Forest finished\")"
   ]
  },
  {
   "cell_type": "code",
   "execution_count": 78,
   "metadata": {},
   "outputs": [
    {
     "name": "stdout",
     "output_type": "stream",
     "text": [
      "Predictions finished\n"
     ]
    }
   ],
   "source": [
    "rf_predictions = rf.predict(x_test)\n",
    "print(\"Predictions finished\")"
   ]
  },
  {
   "cell_type": "code",
   "execution_count": 80,
   "metadata": {},
   "outputs": [
    {
     "name": "stdout",
     "output_type": "stream",
     "text": [
      "Accuracy score: 0.83\n",
      "================================================================================\n",
      "                   pre       rec       spe        f1       geo       iba       sup\n",
      "\n",
      "          0       0.69      0.72      0.87      0.71      0.79      0.62        57\n",
      "          1       0.89      0.87      0.72      0.88      0.79      0.64       143\n",
      "\n",
      "avg / total       0.83      0.83      0.76      0.83      0.79      0.63       200\n",
      "\n"
     ]
    }
   ],
   "source": [
    "print(\"Accuracy score: {}\".format(accuracy_score(y_test, rf_predictions)))\n",
    "print(\"=\"*80)\n",
    "print(classification_report_imbalanced(y_test, rf_predictions))"
   ]
  },
  {
   "cell_type": "code",
   "execution_count": 91,
   "metadata": {},
   "outputs": [
    {
     "data": {
      "image/png": "[encoded data removed]",
      "text/plain": [
       "<Figure size 360x360 with 1 Axes>"
      ]
     },
     "metadata": {
      "needs_background": "light"
     },
     "output_type": "display_data"
    }
   ],
   "source": [
    "import matplotlib.pyplot as plt\n",
    "from sklearn.model_selection import learning_curve\n",
    "\n",
    "train_sizes, train_scores, test_scores =\\\n",
    "                learning_curve(estimator=rf,\n",
    "                               X=x_train,\n",
    "                               y=y_train,\n",
    "                               train_sizes=np.linspace(0.1, 1.0, 10),\n",
    "                               cv=10,\n",
    "                               n_jobs=1)\n",
    "train_mean = np.mean(train_scores, axis=1)\n",
    "train_std = np.std(train_scores, axis=1)\n",
    "test_mean = np.mean(test_scores, axis=1)\n",
    "test_std = np.std(test_scores, axis=1)\n",
    "\n",
    "plt.plot(train_sizes, train_mean,\n",
    "         color='darkorange', marker='o',\n",
    "         markersize=5, label='Training accuracy')\n",
    "\n",
    "plt.fill_between(train_sizes,\n",
    "                 train_mean + train_std,\n",
    "                 train_mean - train_std,\n",
    "                 alpha=0.15, color='darkorange')\n",
    "\n",
    "plt.plot(train_sizes, test_mean,\n",
    "         color='navy', linestyle='--',\n",
    "         marker='s', markersize=5,\n",
    "         label='Validation accuracy')\n",
    "\n",
    "plt.fill_between(train_sizes,\n",
    "                 test_mean + test_std,\n",
    "                 test_mean - test_std,\n",
    "                 alpha=0.15, color='navy')\n",
    "\n",
    "plt.grid()\n",
    "plt.xlabel('Number of training examples')\n",
    "plt.ylabel('Accuracy')\n",
    "plt.legend(loc='lower right')\n",
    "plt.ylim([0.8, 1.03])\n",
    "plt.tight_layout()"
   ]
  },
  {
   "cell_type": "code",
   "execution_count": 86,
   "metadata": {},
   "outputs": [
    {
     "data": {
      "image/png": "[encoded data removed]",
      "text/plain": [
       "<Figure size 360x360 with 1 Axes>"
      ]
     },
     "metadata": {
      "needs_background": "light"
     },
     "output_type": "display_data"
    },
    {
     "name": "stdout",
     "output_type": "stream",
     "text": [
      "f Area Under Curve:  0.7967120598699546\n"
     ]
    }
   ],
   "source": [
    "import numpy as np\n",
    "from sklearn import metrics\n",
    "def plot_roc_curve(y_true, y_score, pos_label=1, num_thresholds=200):\n",
    "\n",
    "    y_true_arr = np.array(y_true)\n",
    "    y_score_arr = np.array(y_score)\n",
    "    x_axis_values = []\n",
    "    y_axis_values = []\n",
    "    thresholds = np.linspace(0., 1., num_thresholds)\n",
    "\n",
    "    num_positives = np.sum(y_true == pos_label)\n",
    "    num_negatives = y_true.shape[0] - num_positives\n",
    "\n",
    "    for threshold in thresholds:\n",
    "        \n",
    "        # Hint: create a vector which its value is 1, if y_score >= threshold, otherwise its value is 0\n",
    "        binarized_scores = np.where(y_score >= threshold, pos_label, int(not pos_label))\n",
    "        # YOUR CODE\n",
    "        \n",
    "        positive_predictions = (binarized_scores == pos_label)\n",
    "        \n",
    "        true_positives = (y_true[positive_predictions]== pos_label).sum() # YOUR CODE\n",
    "        false_positives = (y_true[positive_predictions]!= pos_label).sum()# YOUR CODE\n",
    "        \n",
    "        x_axis_values.append(false_positives / float(num_negatives))\n",
    "        y_axis_values.append(true_positives / float(num_positives))\n",
    "\n",
    "    plt.step(x_axis_values, y_axis_values, where='post')\n",
    "    \n",
    "    plt.xlim([0., 1.01])\n",
    "    plt.ylim([0., 1.01])\n",
    "    plt.ylabel('True Positive Rate')\n",
    "    plt.xlabel('False Positive Rate')\n",
    "    \n",
    "    return None\n",
    "plot_roc_curve(y_test,rf_predictions, pos_label=1)\n",
    "plt.show()\n",
    "auc = metrics.roc_auc_score(y_test,rf_predictions)\n",
    "print('f Area Under Curve: ', auc)"
   ]
  },
  {
   "cell_type": "code",
   "execution_count": 87,
   "metadata": {},
   "outputs": [
    {
     "name": "stdout",
     "output_type": "stream",
     "text": [
      "Confusion Matrix: \n",
      " [[ 41  16]\n",
      " [ 18 125]]\n",
      "True Positives:  41\n",
      "False Positives:  16\n",
      "False Negatives:  18\n",
      "True Negatives:  125\n"
     ]
    }
   ],
   "source": [
    "from sklearn.metrics import classification_report, confusion_matrix\n",
    "from imblearn.metrics import classification_report_imbalanced \n",
    "\n",
    "print(f'Confusion Matrix: \\n' ,confusion_matrix(y_test,rf_predictions))\n",
    "print(f'True Positives: ' ,confusion_matrix(y_test,rf_predictions)[0][0] )\n",
    "print(f'False Positives: ' ,confusion_matrix(y_test,rf_predictions)[0][1] )\n",
    "print(f'False Negatives: ' ,confusion_matrix(y_test,rf_predictions)[1][0] )\n",
    "print(f'True Negatives: ' ,confusion_matrix(y_test,rf_predictions)[1][1] )"
   ]
  },
  {
   "cell_type": "code",
   "execution_count": 88,
   "metadata": {},
   "outputs": [],
   "source": [
    "# Gradient Boosting Parameters\n",
    "gb_params ={\n",
    "    'n_estimators': 1500,\n",
    "    'max_features': 0.9,\n",
    "    'learning_rate' : 0.25,\n",
    "    'max_depth': 4,\n",
    "    'min_samples_leaf': 2,\n",
    "    'subsample': 1,\n",
    "    'max_features' : 'sqrt',\n",
    "    'random_state' : seed,\n",
    "    'verbose': 0\n",
    "}"
   ]
  },
  {
   "cell_type": "code",
   "execution_count": 90,
   "metadata": {},
   "outputs": [
    {
     "name": "stdout",
     "output_type": "stream",
     "text": [
      "0.815\n",
      "================================================================================\n",
      "                   pre       rec       spe        f1       geo       iba       sup\n",
      "\n",
      "          0       0.74      0.54      0.92      0.63      0.71      0.48        57\n",
      "          1       0.84      0.92      0.54      0.88      0.71      0.52       143\n",
      "\n",
      "avg / total       0.81      0.81      0.65      0.81      0.71      0.51       200\n",
      "\n"
     ]
    }
   ],
   "source": [
    "gb = GradientBoostingClassifier(**gb_params)\n",
    "# Fit the model to our SMOTEd train and target\n",
    "gb.fit(smote_train, smote_target)\n",
    "# Get our predictions\n",
    "gb_predictions = gb.predict(x_test)\n",
    "print(accuracy_score(y_test, gb_predictions))\n",
    "print(\"=\"*80)\n",
    "print(classification_report_imbalanced(y_test, gb_predictions))"
   ]
  },
  {
   "cell_type": "code",
   "execution_count": 92,
   "metadata": {},
   "outputs": [
    {
     "data": {
      "image/png": "[encoded data removed]",
      "text/plain": [
       "<Figure size 360x360 with 1 Axes>"
      ]
     },
     "metadata": {
      "needs_background": "light"
     },
     "output_type": "display_data"
    }
   ],
   "source": [
    "import matplotlib.pyplot as plt\n",
    "from sklearn.model_selection import learning_curve\n",
    "\n",
    "train_sizes, train_scores, test_scores =\\\n",
    "                learning_curve(estimator=gb,\n",
    "                               X=x_train,\n",
    "                               y=y_train,\n",
    "                               train_sizes=np.linspace(0.1, 1.0, 10),\n",
    "                               cv=10,\n",
    "                               n_jobs=1)\n",
    "train_mean = np.mean(train_scores, axis=1)\n",
    "train_std = np.std(train_scores, axis=1)\n",
    "test_mean = np.mean(test_scores, axis=1)\n",
    "test_std = np.std(test_scores, axis=1)\n",
    "\n",
    "plt.plot(train_sizes, train_mean,\n",
    "         color='darkorange', marker='o',\n",
    "         markersize=5, label='Training accuracy')\n",
    "\n",
    "plt.fill_between(train_sizes,\n",
    "                 train_mean + train_std,\n",
    "                 train_mean - train_std,\n",
    "                 alpha=0.15, color='darkorange')\n",
    "\n",
    "plt.plot(train_sizes, test_mean,\n",
    "         color='navy', linestyle='--',\n",
    "         marker='s', markersize=5,\n",
    "         label='Validation accuracy')\n",
    "\n",
    "plt.fill_between(train_sizes,\n",
    "                 test_mean + test_std,\n",
    "                 test_mean - test_std,\n",
    "                 alpha=0.15, color='navy')\n",
    "\n",
    "plt.grid()\n",
    "plt.xlabel('Number of training examples')\n",
    "plt.ylabel('Accuracy')\n",
    "plt.legend(loc='lower right')\n",
    "plt.ylim([0.8, 1.03])\n",
    "plt.tight_layout()"
   ]
  },
  {
   "cell_type": "code",
   "execution_count": 93,
   "metadata": {},
   "outputs": [
    {
     "data": {
      "image/png": "[encoded data removed]",
      "text/plain": [
       "<Figure size 360x360 with 1 Axes>"
      ]
     },
     "metadata": {
      "needs_background": "light"
     },
     "output_type": "display_data"
    },
    {
     "name": "stdout",
     "output_type": "stream",
     "text": [
      "f Area Under Curve:  0.733468286099865\n"
     ]
    }
   ],
   "source": [
    "import numpy as np\n",
    "from sklearn import metrics\n",
    "def plot_roc_curve(y_true, y_score, pos_label=1, num_thresholds=200):\n",
    "\n",
    "    y_true_arr = np.array(y_true)\n",
    "    y_score_arr = np.array(y_score)\n",
    "    x_axis_values = []\n",
    "    y_axis_values = []\n",
    "    thresholds = np.linspace(0., 1., num_thresholds)\n",
    "\n",
    "    num_positives = np.sum(y_true == pos_label)\n",
    "    num_negatives = y_true.shape[0] - num_positives\n",
    "\n",
    "    for threshold in thresholds:\n",
    "        \n",
    "        # Hint: create a vector which its value is 1, if y_score >= threshold, otherwise its value is 0\n",
    "        binarized_scores = np.where(y_score >= threshold, pos_label, int(not pos_label))\n",
    "        # YOUR CODE\n",
    "        \n",
    "        positive_predictions = (binarized_scores == pos_label)\n",
    "        \n",
    "        true_positives = (y_true[positive_predictions]== pos_label).sum() # YOUR CODE\n",
    "        false_positives = (y_true[positive_predictions]!= pos_label).sum()# YOUR CODE\n",
    "        \n",
    "        x_axis_values.append(false_positives / float(num_negatives))\n",
    "        y_axis_values.append(true_positives / float(num_positives))\n",
    "\n",
    "    plt.step(x_axis_values, y_axis_values, where='post')\n",
    "    \n",
    "    plt.xlim([0., 1.01])\n",
    "    plt.ylim([0., 1.01])\n",
    "    plt.ylabel('True Positive Rate')\n",
    "    plt.xlabel('False Positive Rate')\n",
    "    \n",
    "    return None\n",
    "plot_roc_curve(y_test,gb_predictions, pos_label=1)\n",
    "plt.show()\n",
    "auc = metrics.roc_auc_score(y_test,gb_predictions)\n",
    "print('f Area Under Curve: ', auc)"
   ]
  },
  {
   "cell_type": "code",
   "execution_count": 94,
   "metadata": {},
   "outputs": [
    {
     "name": "stdout",
     "output_type": "stream",
     "text": [
      "Confusion Matrix: \n",
      " [[ 31  26]\n",
      " [ 11 132]]\n",
      "True Positives:  31\n",
      "False Positives:  26\n",
      "False Negatives:  11\n",
      "True Negatives:  132\n"
     ]
    }
   ],
   "source": [
    "from sklearn.metrics import classification_report, confusion_matrix\n",
    "from imblearn.metrics import classification_report_imbalanced \n",
    "\n",
    "print(f'Confusion Matrix: \\n' ,confusion_matrix(y_test,gb_predictions))\n",
    "print(f'True Positives: ' ,confusion_matrix(y_test,gb_predictions)[0][0] )\n",
    "print(f'False Positives: ' ,confusion_matrix(y_test,gb_predictions)[0][1] )\n",
    "print(f'False Negatives: ' ,confusion_matrix(y_test,gb_predictions)[1][0] )\n",
    "print(f'True Negatives: ' ,confusion_matrix(y_test,gb_predictions)[1][1] )"
   ]
  },
  {
   "cell_type": "code",
   "execution_count": 95,
   "metadata": {},
   "outputs": [],
   "source": [
    "#KNN\n",
    "knn_params ={\n",
    "    'kneighborsclassifier__n_nieghbors':[1,3,5],\n",
    "    'kneighborsclassifier__p': [1,2]   \n",
    "}"
   ]
  },
  {
   "cell_type": "code",
   "execution_count": 96,
   "metadata": {},
   "outputs": [
    {
     "name": "stdout",
     "output_type": "stream",
     "text": [
      "0.63\n",
      "=\n",
      "                   pre       rec       spe        f1       geo       iba       sup\n",
      "\n",
      "          0       0.43      0.91      0.52      0.58      0.69      0.49        57\n",
      "          1       0.94      0.52      0.91      0.67      0.69      0.45       143\n",
      "\n",
      "avg / total       0.79      0.63      0.80      0.64      0.69      0.46       200\n",
      "\n"
     ]
    }
   ],
   "source": [
    "knn = make_pipeline(StandardScaler(), KNeighborsClassifier(n_neighbors=5)) \n",
    "# Fit the model to our SMOTEd train and target\n",
    "knn.fit(smote_train, smote_target)\n",
    "# Get our predictions\n",
    "knn_predictions = knn.predict(x_test)\n",
    "print(accuracy_score(y_test, knn_predictions))\n",
    "print(\"=\")\n",
    "print(classification_report_imbalanced(y_test, knn_predictions))"
   ]
  },
  {
   "cell_type": "code",
   "execution_count": 97,
   "metadata": {},
   "outputs": [
    {
     "data": {
      "image/png": "[encoded data removed]",
      "text/plain": [
       "<Figure size 360x360 with 1 Axes>"
      ]
     },
     "metadata": {
      "needs_background": "light"
     },
     "output_type": "display_data"
    }
   ],
   "source": [
    "import matplotlib.pyplot as plt\n",
    "from sklearn.model_selection import learning_curve\n",
    "\n",
    "train_sizes, train_scores, test_scores =\\\n",
    "                learning_curve(estimator=knn,\n",
    "                               X=x_train,\n",
    "                               y=y_train,\n",
    "                               train_sizes=np.linspace(0.1, 1.0, 10),\n",
    "                               cv=10,\n",
    "                               n_jobs=1)\n",
    "train_mean = np.mean(train_scores, axis=1)\n",
    "train_std = np.std(train_scores, axis=1)\n",
    "test_mean = np.mean(test_scores, axis=1)\n",
    "test_std = np.std(test_scores, axis=1)\n",
    "\n",
    "plt.plot(train_sizes, train_mean,\n",
    "         color='darkorange', marker='o',\n",
    "         markersize=5, label='Training accuracy')\n",
    "\n",
    "plt.fill_between(train_sizes,\n",
    "                 train_mean + train_std,\n",
    "                 train_mean - train_std,\n",
    "                 alpha=0.15, color='darkorange')\n",
    "\n",
    "plt.plot(train_sizes, test_mean,\n",
    "         color='navy', linestyle='--',\n",
    "         marker='s', markersize=5,\n",
    "         label='Validation accuracy')\n",
    "\n",
    "plt.fill_between(train_sizes,\n",
    "                 test_mean + test_std,\n",
    "                 test_mean - test_std,\n",
    "                 alpha=0.15, color='navy')\n",
    "\n",
    "plt.grid()\n",
    "plt.xlabel('Number of training examples')\n",
    "plt.ylabel('Accuracy')\n",
    "plt.legend(loc='lower right')\n",
    "plt.ylim([0.8, 1.03])\n",
    "plt.tight_layout()\n"
   ]
  },
  {
   "cell_type": "code",
   "execution_count": 98,
   "metadata": {},
   "outputs": [
    {
     "data": {
      "image/png": "[encoded data removed]",
      "text/plain": [
       "<Figure size 360x360 with 1 Axes>"
      ]
     },
     "metadata": {
      "needs_background": "light"
     },
     "output_type": "display_data"
    },
    {
     "name": "stdout",
     "output_type": "stream",
     "text": [
      "f Area Under Curve:  0.7148816096184517\n"
     ]
    }
   ],
   "source": [
    "import numpy as np\n",
    "from sklearn import metrics\n",
    "def plot_roc_curve(y_true, y_score, pos_label=1, num_thresholds=200):\n",
    "\n",
    "    y_true_arr = np.array(y_true)\n",
    "    y_score_arr = np.array(y_score)\n",
    "    x_axis_values = []\n",
    "    y_axis_values = []\n",
    "    thresholds = np.linspace(0., 1., num_thresholds)\n",
    "\n",
    "    num_positives = np.sum(y_true == pos_label)\n",
    "    num_negatives = y_true.shape[0] - num_positives\n",
    "\n",
    "    for threshold in thresholds:\n",
    "        \n",
    "        # Hint: create a vector which its value is 1, if y_score >= threshold, otherwise its value is 0\n",
    "        binarized_scores = np.where(y_score >= threshold, pos_label, int(not pos_label))\n",
    "        # YOUR CODE\n",
    "        \n",
    "        positive_predictions = (binarized_scores == pos_label)\n",
    "        \n",
    "        true_positives = (y_true[positive_predictions]== pos_label).sum() # YOUR CODE\n",
    "        false_positives = (y_true[positive_predictions]!= pos_label).sum()# YOUR CODE\n",
    "        \n",
    "        x_axis_values.append(false_positives / float(num_negatives))\n",
    "        y_axis_values.append(true_positives / float(num_positives))\n",
    "\n",
    "    plt.step(x_axis_values, y_axis_values, where='post')\n",
    "    \n",
    "    plt.xlim([0., 1.01])\n",
    "    plt.ylim([0., 1.01])\n",
    "    plt.ylabel('True Positive Rate')\n",
    "    plt.xlabel('False Positive Rate')\n",
    "    \n",
    "    return None\n",
    "plot_roc_curve(y_test,knn_predictions, pos_label=1)\n",
    "plt.show()\n",
    "auc = metrics.roc_auc_score(y_test,knn_predictions)\n",
    "print('f Area Under Curve: ', auc)"
   ]
  },
  {
   "cell_type": "code",
   "execution_count": 99,
   "metadata": {},
   "outputs": [
    {
     "name": "stdout",
     "output_type": "stream",
     "text": [
      "Confusion Matrix: \n",
      " [[52  5]\n",
      " [69 74]]\n",
      "True Positives:  52\n",
      "False Positives:  5\n",
      "False Negatives:  69\n",
      "True Negatives:  74\n"
     ]
    }
   ],
   "source": [
    "from sklearn.metrics import classification_report, confusion_matrix\n",
    "from imblearn.metrics import classification_report_imbalanced \n",
    "\n",
    "print(f'Confusion Matrix: \\n' ,confusion_matrix(y_test,knn_predictions))\n",
    "print(f'True Positives: ' ,confusion_matrix(y_test,knn_predictions)[0][0] )\n",
    "print(f'False Positives: ' ,confusion_matrix(y_test,knn_predictions)[0][1] )\n",
    "print(f'False Negatives: ' ,confusion_matrix(y_test,knn_predictions)[1][0] )\n",
    "print(f'True Negatives: ' ,confusion_matrix(y_test,knn_predictions)[1][1] )"
   ]
  },
  {
   "cell_type": "code",
   "execution_count": 101,
   "metadata": {},
   "outputs": [
    {
     "data": {
      "image/png": "[encoded data removed]",
      "text/plain": [
       "<Figure size 1080x1080 with 1 Axes>"
      ]
     },
     "metadata": {
      "needs_background": "light"
     },
     "output_type": "display_data"
    }
   ],
   "source": [
    "features = x_train.columns.values\n",
    "importances = rf.feature_importances_\n",
    "indices = np.argsort(importances)\n",
    "plt.figure(figsize=(15,15))\n",
    "plt.title('Feature Importances')\n",
    "plt.barh(range(len(indices)), importances[indices], color='b', align='center')\n",
    "plt.yticks(range(len(indices)), [features[i] for i in indices])\n",
    "plt.xlabel('Relative Importance')\n",
    "plt.show()"
   ]
  },
  {
   "cell_type": "code",
   "execution_count": null,
   "metadata": {},
   "outputs": [],
   "source": []
  }
 ],
 "metadata": {
  "kernelspec": {
   "display_name": "Python 3",
   "language": "python",
   "name": "python3"
  },
  "language_info": {
   "codemirror_mode": {
    "name": "ipython",
    "version": 3
   },
   "file_extension": ".py",
   "mimetype": "text/x-python",
   "name": "python",
   "nbconvert_exporter": "python",
   "pygments_lexer": "ipython3",
   "version": "3.8.5"
  }
 },
 "nbformat": 4,
 "nbformat_minor": 4
}
